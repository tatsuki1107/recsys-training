{
 "cells": [
  {
   "cell_type": "markdown",
   "id": "544f98c7-2b05-42ec-bde8-94a28b18c829",
   "metadata": {},
   "source": [
    "# quickstart Example with Synthetic Bandit Data\n",
    "https://github.com/st-tech/zr-obp/blob/master/examples/quickstart/synthetic.ipynb"
   ]
  },
  {
   "cell_type": "code",
   "execution_count": 2,
   "id": "34891dc5-acbb-4eeb-a2bf-6f0ed2d76a93",
   "metadata": {},
   "outputs": [
    {
     "name": "stderr",
     "output_type": "stream",
     "text": [
      "/root/.cache/pypoetry/virtualenvs/mldesign-9TtSrW0h-py3.8/lib/python3.8/site-packages/tqdm/auto.py:22: TqdmWarning: IProgress not found. Please update jupyter and ipywidgets. See https://ipywidgets.readthedocs.io/en/stable/user_install.html\n",
      "  from .autonotebook import tqdm as notebook_tqdm\n",
      "INFO:matplotlib.font_manager:generated new fontManager\n"
     ]
    }
   ],
   "source": [
    "from sklearn.ensemble import RandomForestClassifier as RF\n",
    "from sklearn.linear_model import LogisticRegression as LR\n",
    "\n",
    "import obp\n",
    "from obp.dataset import (\n",
    "    SyntheticBanditDataset,\n",
    "    logistic_reward_function,\n",
    "    linear_reward_function\n",
    ")\n",
    "from obp.policy import IPWLearner, Random\n",
    "from obp.ope import (\n",
    "    OffPolicyEvaluation,\n",
    "    RegressionModel,\n",
    "    InverseProbabilityWeighting as IPS,\n",
    "    DirectMethod as DM,\n",
    "    DoublyRobust as DR\n",
    ")"
   ]
  },
  {
   "cell_type": "markdown",
   "id": "41b21ca8-6ab7-49ca-b6ac-aeb147b26288",
   "metadata": {},
   "source": [
    "## (1) Generating Synthetic Data"
   ]
  },
  {
   "cell_type": "code",
   "execution_count": 5,
   "id": "be392d62-85c6-455d-8198-d68ddf27f32b",
   "metadata": {},
   "outputs": [],
   "source": [
    "dataset =  SyntheticBanditDataset(\n",
    "    n_actions=10,\n",
    "    dim_context=5,\n",
    "    reward_type=\"binary\",\n",
    "    reward_function=logistic_reward_function,\n",
    "    random_state=12345\n",
    ")"
   ]
  },
  {
   "cell_type": "code",
   "execution_count": 6,
   "id": "866a3f86-a1d9-4fd5-ab12-c367a0d12a4b",
   "metadata": {},
   "outputs": [],
   "source": [
    "n_rounds_train, n_rounds_test = 100000, 100000\n",
    "bandit_feedback_train = dataset.obtain_batch_bandit_feedback(n_rounds=n_rounds_train)\n",
    "bandit_feedback_test = dataset.obtain_batch_bandit_feedback(n_rounds=n_rounds_test)\n"
   ]
  },
  {
   "cell_type": "code",
   "execution_count": 18,
   "id": "9a89f955-0174-4192-85ab-e7cb1ae5032d",
   "metadata": {},
   "outputs": [
    {
     "data": {
      "text/plain": [
       "{'n_rounds': 100000,\n",
       " 'n_actions': 10,\n",
       " 'context': array([[-0.20470766,  0.47894334, -0.51943872, -0.5557303 ,  1.96578057],\n",
       "        [ 1.39340583,  0.09290788,  0.28174615,  0.76902257,  1.24643474],\n",
       "        [ 1.00718936, -1.29622111,  0.27499163,  0.22891288,  1.35291684],\n",
       "        ...,\n",
       "        [ 1.36946256,  0.58727761, -0.69296769, -0.27519988, -2.10289159],\n",
       "        [-0.27428715,  0.52635353,  1.02572168, -0.18486381,  0.72464834],\n",
       "        [-1.25579833, -1.42455203, -0.26361242,  0.27928604,  1.21015571]]),\n",
       " 'action_context': array([[1, 0, 0, 0, 0, 0, 0, 0, 0, 0],\n",
       "        [0, 1, 0, 0, 0, 0, 0, 0, 0, 0],\n",
       "        [0, 0, 1, 0, 0, 0, 0, 0, 0, 0],\n",
       "        [0, 0, 0, 1, 0, 0, 0, 0, 0, 0],\n",
       "        [0, 0, 0, 0, 1, 0, 0, 0, 0, 0],\n",
       "        [0, 0, 0, 0, 0, 1, 0, 0, 0, 0],\n",
       "        [0, 0, 0, 0, 0, 0, 1, 0, 0, 0],\n",
       "        [0, 0, 0, 0, 0, 0, 0, 1, 0, 0],\n",
       "        [0, 0, 0, 0, 0, 0, 0, 0, 1, 0],\n",
       "        [0, 0, 0, 0, 0, 0, 0, 0, 0, 1]]),\n",
       " 'action': array([8, 4, 0, ..., 8, 9, 7]),\n",
       " 'position': None,\n",
       " 'reward': array([0, 1, 1, ..., 1, 1, 0]),\n",
       " 'expected_reward': array([[0.80210203, 0.73828559, 0.83199558, ..., 0.81190503, 0.70617705,\n",
       "         0.68985306],\n",
       "        [0.94119582, 0.93473317, 0.91345213, ..., 0.94140688, 0.93152449,\n",
       "         0.90132868],\n",
       "        [0.87248862, 0.67974991, 0.66965669, ..., 0.79229752, 0.82712978,\n",
       "         0.74923536],\n",
       "        ...,\n",
       "        [0.64856003, 0.38145901, 0.84476094, ..., 0.40962057, 0.77114661,\n",
       "         0.65752798],\n",
       "        [0.73208527, 0.82012699, 0.78161352, ..., 0.72361416, 0.8652249 ,\n",
       "         0.82571751],\n",
       "        [0.40348366, 0.24485417, 0.24037926, ..., 0.49613133, 0.30714854,\n",
       "         0.5527749 ]]),\n",
       " 'pscore': array([0.1, 0.1, 0.1, ..., 0.1, 0.1, 0.1])}"
      ]
     },
     "execution_count": 18,
     "metadata": {},
     "output_type": "execute_result"
    }
   ],
   "source": [
    "bandit_feedback_train"
   ]
  },
  {
   "cell_type": "markdown",
   "id": "0cb949b8-4c46-41df-9a4e-ab5fd486a0dc",
   "metadata": {},
   "source": [
    "## (2) Off-Policy Learning"
   ]
  },
  {
   "cell_type": "code",
   "execution_count": 20,
   "id": "d2025a02-6f3a-4883-8c76-5d420f3e27f3",
   "metadata": {},
   "outputs": [],
   "source": [
    "# バンディット　ロジスティクス回帰\n",
    "ipw_lr = IPWLearner(\n",
    "    n_actions=dataset.n_actions,\n",
    "    base_classifier=LR(C=100, random_state=12345)\n",
    ")\n",
    "\n",
    "ipw_lr.fit(\n",
    "    context=bandit_feedback_train[\"context\"],\n",
    "    action=bandit_feedback_train[\"action\"],\n",
    "    reward=bandit_feedback_train[\"reward\"],\n",
    "    pscore=bandit_feedback_train[\"pscore\"]\n",
    ")\n",
    "\n",
    "action_dist_ipw_lr = ipw_lr.predict(context=bandit_feedback_test[\"context\"])\n"
   ]
  },
  {
   "cell_type": "code",
   "execution_count": 21,
   "id": "1739ae41-589c-482e-a8ea-00fcb48a6eb9",
   "metadata": {},
   "outputs": [],
   "source": [
    "# バンディット　ランダムフォレスト\n",
    "ipw_rf = IPWLearner(\n",
    "    n_actions=dataset.n_actions,\n",
    "    base_classifier=RF(n_estimators=30, min_samples_leaf=10, random_state=12345)\n",
    ")\n",
    "\n",
    "ipw_rf.fit(\n",
    "    context=bandit_feedback_train[\"context\"],\n",
    "    action=bandit_feedback_train[\"action\"],\n",
    "    reward=bandit_feedback_train[\"reward\"],\n",
    "    pscore=bandit_feedback_train[\"pscore\"]\n",
    ")\n",
    "\n",
    "action_dist_ipw_rf = ipw_rf.predict(context=bandit_feedback_test[\"context\"])"
   ]
  },
  {
   "cell_type": "code",
   "execution_count": 22,
   "id": "355b6ab8-c7d2-4b52-a9e9-c6526829ee95",
   "metadata": {},
   "outputs": [],
   "source": [
    "# ベースラインとしてのランダム　policy\n",
    "random = Random(n_actions=dataset.n_actions)\n",
    "\n",
    "action_dist_random = random.compute_batch_action_dist(\n",
    "    n_rounds=bandit_feedback_test[\"n_rounds\"])"
   ]
  },
  {
   "cell_type": "code",
   "execution_count": 27,
   "id": "87e831cf-b5a3-44b8-a383-76a0d85356af",
   "metadata": {},
   "outputs": [
    {
     "data": {
      "text/plain": [
       "array([[0., 0., 0., ..., 0., 1., 0.],\n",
       "       [0., 0., 0., ..., 0., 0., 1.],\n",
       "       [1., 0., 0., ..., 0., 0., 0.],\n",
       "       ...,\n",
       "       [0., 0., 0., ..., 1., 0., 0.],\n",
       "       [0., 0., 1., ..., 0., 0., 0.],\n",
       "       [1., 0., 0., ..., 0., 0., 0.]])"
      ]
     },
     "execution_count": 27,
     "metadata": {},
     "output_type": "execute_result"
    }
   ],
   "source": [
    "action_dist_ipw_lr[:,:,0]"
   ]
  },
  {
   "cell_type": "markdown",
   "id": "36f1c45a-2d38-466b-ae15-7d9d5a9eee15",
   "metadata": {},
   "source": [
    "## (3) Off-Policy Evaluation "
   ]
  },
  {
   "cell_type": "markdown",
   "id": "58c4d9cc-efc9-49d7-b1d2-d005bcf9df32",
   "metadata": {},
   "source": [
    "### (3-1) Obtaining a reward estimators"
   ]
  },
  {
   "cell_type": "markdown",
   "id": "82b30742-6452-474c-99ac-b64873664cf4",
   "metadata": {},
   "source": [
    "$$\n",
    "\\hat{q}(x,a) \\approx \\mathbb{E} [r \\mid x,a]\n",
    "$$"
   ]
  },
  {
   "cell_type": "code",
   "execution_count": 29,
   "id": "54c5402b-b189-4aa3-8349-87bcc80f21bf",
   "metadata": {},
   "outputs": [],
   "source": [
    "regression_model = RegressionModel(\n",
    "    n_actions=dataset.n_actions,\n",
    "    action_context=dataset.action_context,\n",
    "    base_model=LR(random_state=12345)\n",
    ")"
   ]
  },
  {
   "cell_type": "code",
   "execution_count": 32,
   "id": "5e04ab9c-d2a0-4f23-98af-2c235edeaa72",
   "metadata": {},
   "outputs": [],
   "source": [
    "estimated_rewards_by_reg_model = regression_model.fit_predict(\n",
    "    context=bandit_feedback_test[\"context\"],\n",
    "    action=bandit_feedback_test[\"action\"],\n",
    "    reward=bandit_feedback_test[\"reward\"],\n",
    "    n_folds=3,\n",
    "    random_state=12345\n",
    ")"
   ]
  },
  {
   "cell_type": "markdown",
   "id": "d106f553-e64e-4ab4-bba3-438974424125",
   "metadata": {},
   "source": [
    "### (3-2) Off-Policy Evaluation\n",
    "$$V(\\pi_e) \\approx \\hat{V} (\\pi_e; \\mathcal{D}_b, \\theta)$$using DM, IPW and DR"
   ]
  },
  {
   "cell_type": "code",
   "execution_count": 33,
   "id": "f2f0ff80-df43-4634-b1b2-48cfee3cfbc3",
   "metadata": {},
   "outputs": [],
   "source": [
    "ope = OffPolicyEvaluation(\n",
    "    bandit_feedback=bandit_feedback_test,\n",
    "    ope_estimators=[IPS(),DM(),DR()]\n",
    ")"
   ]
  },
  {
   "cell_type": "code",
   "execution_count": 34,
   "id": "8dad2dca-11b3-45d5-9a11-2e859095eb04",
   "metadata": {},
   "outputs": [
    {
     "name": "stdout",
     "output_type": "stream",
     "text": [
      "         mean  95.0% CI (lower)  95.0% CI (upper)\n",
      "ipw  0.784774          0.769550          0.801240\n",
      "dm   0.641326          0.640181          0.642832\n",
      "dr   0.779408          0.771134          0.786704 \n",
      "\n"
     ]
    },
    {
     "name": "stderr",
     "output_type": "stream",
     "text": [
      "/root/.cache/pypoetry/virtualenvs/mldesign-9TtSrW0h-py3.8/lib/python3.8/site-packages/seaborn/categorical.py:82: FutureWarning: iteritems is deprecated and will be removed in a future version. Use .items instead.\n",
      "  plot_data = [np.asarray(s, float) for k, s in iter_data]\n"
     ]
    },
    {
     "data": {
      "image/png": "[encoded data removed]",
      "text/plain": [
       "<Figure size 800x600 with 1 Axes>"
      ]
     },
     "metadata": {},
     "output_type": "display_data"
    }
   ],
   "source": [
    "# バンディット　ロジスティクス回帰の性能\n",
    "estimated_policy_value_a, estimated_interval_a = ope.summarize_off_policy_estimates(\n",
    "    action_dist=action_dist_ipw_lr,\n",
    "    estimated_rewards_by_reg_model=estimated_rewards_by_reg_model\n",
    ")\n",
    "print(estimated_interval_a,\"\\n\")\n",
    "\n",
    "ope.visualize_off_policy_estimates(\n",
    "    action_dist=action_dist_ipw_lr,\n",
    "    estimated_rewards_by_reg_model=estimated_rewards_by_reg_model,\n",
    "    n_bootstrap_samples=1000,\n",
    "    random_state=12345\n",
    ")\n"
   ]
  },
  {
   "cell_type": "code",
   "execution_count": 35,
   "id": "0162aba8-6a04-4b45-abca-2fa63cfd46cb",
   "metadata": {},
   "outputs": [
    {
     "name": "stdout",
     "output_type": "stream",
     "text": [
      "         mean  95.0% CI (lower)  95.0% CI (upper)\n",
      "ipw  0.712198          0.697075          0.729522\n",
      "dm   0.626951          0.625703          0.628180\n",
      "dr   0.716898          0.707932          0.724247 \n",
      "\n"
     ]
    },
    {
     "name": "stderr",
     "output_type": "stream",
     "text": [
      "/root/.cache/pypoetry/virtualenvs/mldesign-9TtSrW0h-py3.8/lib/python3.8/site-packages/seaborn/categorical.py:82: FutureWarning: iteritems is deprecated and will be removed in a future version. Use .items instead.\n",
      "  plot_data = [np.asarray(s, float) for k, s in iter_data]\n"
     ]
    },
    {
     "data": {
      "image/png": "[encoded data removed]",
      "text/plain": [
       "<Figure size 800x600 with 1 Axes>"
      ]
     },
     "metadata": {},
     "output_type": "display_data"
    }
   ],
   "source": [
    "# バンディット　ランダムフォレストの性能\n",
    "estimated_policy_value_b, estimated_interval_b = ope.summarize_off_policy_estimates(\n",
    "    action_dist=action_dist_ipw_rf,\n",
    "    estimated_rewards_by_reg_model=estimated_rewards_by_reg_model\n",
    ")\n",
    "print(estimated_interval_b,\"\\n\")\n",
    "\n",
    "ope.visualize_off_policy_estimates(\n",
    "    action_dist=action_dist_ipw_rf,\n",
    "    estimated_rewards_by_reg_model=estimated_rewards_by_reg_model,\n",
    "    n_bootstrap_samples=1000,\n",
    "    random_state=12345\n",
    ")"
   ]
  },
  {
   "cell_type": "code",
   "execution_count": 37,
   "id": "f8bb9615-54cb-464f-8bbb-4c8357ac9f36",
   "metadata": {},
   "outputs": [
    {
     "name": "stdout",
     "output_type": "stream",
     "text": [
      "         mean  95.0% CI (lower)  95.0% CI (upper)\n",
      "ipw  0.604982          0.602338          0.607724\n",
      "dm   0.605340          0.604038          0.606652\n",
      "dr   0.605257          0.602648          0.608336 \n",
      "\n"
     ]
    },
    {
     "name": "stderr",
     "output_type": "stream",
     "text": [
      "/root/.cache/pypoetry/virtualenvs/mldesign-9TtSrW0h-py3.8/lib/python3.8/site-packages/seaborn/categorical.py:82: FutureWarning: iteritems is deprecated and will be removed in a future version. Use .items instead.\n",
      "  plot_data = [np.asarray(s, float) for k, s in iter_data]\n"
     ]
    },
    {
     "data": {
      "image/png": "[encoded data removed]",
      "text/plain": [
       "<Figure size 800x600 with 1 Axes>"
      ]
     },
     "metadata": {},
     "output_type": "display_data"
    }
   ],
   "source": [
    "# ベースラインであるランダム推薦の性能\n",
    "estimated_policy_value_c, estimated_interval_c = ope.summarize_off_policy_estimates(\n",
    "    action_dist=action_dist_random,\n",
    "    estimated_rewards_by_reg_model=estimated_rewards_by_reg_model\n",
    ")\n",
    "print(estimated_interval_c,\"\\n\")\n",
    "\n",
    "ope.visualize_off_policy_estimates(\n",
    "    action_dist=action_dist_random,\n",
    "    estimated_rewards_by_reg_model=estimated_rewards_by_reg_model,\n",
    "    n_bootstrap_samples=1000,\n",
    "    random_state=12345\n",
    ")"
   ]
  },
  {
   "cell_type": "markdown",
   "id": "6e8359ce-551f-4364-bb7d-d202f3112aa3",
   "metadata": {},
   "source": [
    "## (4) Evaluation of OPE estimators\n",
    "### (4-1) Approximate the Ground-truth Policy Value"
   ]
  },
  {
   "cell_type": "markdown",
   "id": "4883dcf0-de2d-4aad-a4b2-aaab69947fec",
   "metadata": {},
   "source": [
    "$$\n",
    "J(\\pi_e) \\approx \\frac{1}{|\\mathcal{D}_{te}|} \\sum_{i=1}^{|\\mathcal{D}_{te}|} \\mathbb{E}_{a \\sim \\pi_e(a|x_i)} [q(x_i,a)], \\; \\, where \\; \\, q(x,a) := \\mathbb{E}_{r \\sim p(r|x,a)} [r]\n",
    "$$"
   ]
  },
  {
   "cell_type": "code",
   "execution_count": 38,
   "id": "cecfa7dc-8fc1-42fb-8d1a-1ad053d9cb01",
   "metadata": {},
   "outputs": [
    {
     "name": "stdout",
     "output_type": "stream",
     "text": [
      "policy value of IPW Learner with Logistic Regression: 0.7794237175980125\n",
      "policy value of IPW Learner with Random Forest: 0.7161955411283469\n",
      "policy value of Uniform Random: 0.606060477451349\n"
     ]
    }
   ],
   "source": [
    "policy_names = [\n",
    "    \"IPW Learner with Logistic Regression\", \n",
    "    \"IPW Learner with Random Forest\", \n",
    "    \"Uniform Random\"\n",
    "]\n",
    "for name, action_dist in zip(policy_names, [action_dist_ipw_lr, action_dist_ipw_rf, action_dist_random]):\n",
    "    true_policy_value = dataset.calc_ground_truth_policy_value(\n",
    "        expected_reward=bandit_feedback_test[\"expected_reward\"],\n",
    "        action_dist=action_dist\n",
    "    )\n",
    "    print(f'policy value of {name}: {true_policy_value}')"
   ]
  },
  {
   "cell_type": "markdown",
   "id": "c2d2726b-39c9-4f63-8958-2c34c32882ec",
   "metadata": {},
   "source": [
    "### (4-2) Evaluation of OPE"
   ]
  },
  {
   "cell_type": "markdown",
   "id": "4a071c49-d113-43a6-af39-f8eedb96e135",
   "metadata": {},
   "source": [
    "$$\n",
    "\\textit{relative-ee} (\\hat{J}; \\mathcal{D}_b) := \\left| \\frac{J(\\pi_e)-\\hat{J} (\\pi_e; \\mathcal{D}_b)}{J(\\pi_e)} \\right|$$(relative estimation error; relative-ee)\n"
   ]
  },
  {
   "cell_type": "markdown",
   "id": "7972bd19-7401-4170-ab3e-17a403eb478b",
   "metadata": {},
   "source": [
    "$$\n",
    "\\textit{SE} (\\hat{J}; \\mathcal{D}_b) := \\left(J(\\pi_e) - \\hat{J} (\\pi_e; \\mathcal{D}_b) \\right)^2\n",
    "$$ (squared error; SE)"
   ]
  },
  {
   "cell_type": "code",
   "execution_count": 42,
   "id": "cbcc88dc-d193-4aaa-883d-4f9ca054f852",
   "metadata": {},
   "outputs": [
    {
     "data": {
      "text/html": [
       "<div>\n",
       "<style scoped>\n",
       "    .dataframe tbody tr th:only-of-type {\n",
       "        vertical-align: middle;\n",
       "    }\n",
       "\n",
       "    .dataframe tbody tr th {\n",
       "        vertical-align: top;\n",
       "    }\n",
       "\n",
       "    .dataframe thead th {\n",
       "        text-align: right;\n",
       "    }\n",
       "</style>\n",
       "<table border=\"1\" class=\"dataframe\">\n",
       "  <thead>\n",
       "    <tr style=\"text-align: right;\">\n",
       "      <th></th>\n",
       "      <th>relative-ee</th>\n",
       "    </tr>\n",
       "  </thead>\n",
       "  <tbody>\n",
       "    <tr>\n",
       "      <th>ipw</th>\n",
       "      <td>0.007283</td>\n",
       "    </tr>\n",
       "    <tr>\n",
       "      <th>dm</th>\n",
       "      <td>0.177066</td>\n",
       "    </tr>\n",
       "    <tr>\n",
       "      <th>dr</th>\n",
       "      <td>0.001293</td>\n",
       "    </tr>\n",
       "  </tbody>\n",
       "</table>\n",
       "</div>"
      ],
      "text/plain": [
       "     relative-ee\n",
       "ipw     0.007283\n",
       "dm      0.177066\n",
       "dr      0.001293"
      ]
     },
     "execution_count": 42,
     "metadata": {},
     "output_type": "execute_result"
    }
   ],
   "source": [
    "# evaluate IPWLearner with Logistic Regression\n",
    "relative_ee_for_ipw_lr = ope.summarize_estimators_comparison(\n",
    "    ground_truth_policy_value=dataset.calc_ground_truth_policy_value(\n",
    "        expected_reward=bandit_feedback_test[\"expected_reward\"],\n",
    "        action_dist=action_dist_ipw_lr\n",
    "    ),\n",
    "    action_dist=action_dist_ipw_lr,\n",
    "    estimated_rewards_by_reg_model=estimated_rewards_by_reg_model,\n",
    "    metric=\"relative-ee\", #\"relative-ee\" (relative estimation error) or \"se\" (squared error)\n",
    ")\n",
    "\n",
    "relative_ee_for_ipw_lr"
   ]
  },
  {
   "cell_type": "code",
   "execution_count": 43,
   "id": "0f4daef3-d582-44f0-9133-8026a3ae79f2",
   "metadata": {},
   "outputs": [
    {
     "data": {
      "text/html": [
       "<div>\n",
       "<style scoped>\n",
       "    .dataframe tbody tr th:only-of-type {\n",
       "        vertical-align: middle;\n",
       "    }\n",
       "\n",
       "    .dataframe tbody tr th {\n",
       "        vertical-align: top;\n",
       "    }\n",
       "\n",
       "    .dataframe thead th {\n",
       "        text-align: right;\n",
       "    }\n",
       "</style>\n",
       "<table border=\"1\" class=\"dataframe\">\n",
       "  <thead>\n",
       "    <tr style=\"text-align: right;\">\n",
       "      <th></th>\n",
       "      <th>relative-ee</th>\n",
       "    </tr>\n",
       "  </thead>\n",
       "  <tbody>\n",
       "    <tr>\n",
       "      <th>ipw</th>\n",
       "      <td>0.006277</td>\n",
       "    </tr>\n",
       "    <tr>\n",
       "      <th>dm</th>\n",
       "      <td>0.124521</td>\n",
       "    </tr>\n",
       "    <tr>\n",
       "      <th>dr</th>\n",
       "      <td>0.000807</td>\n",
       "    </tr>\n",
       "  </tbody>\n",
       "</table>\n",
       "</div>"
      ],
      "text/plain": [
       "     relative-ee\n",
       "ipw     0.006277\n",
       "dm      0.124521\n",
       "dr      0.000807"
      ]
     },
     "execution_count": 43,
     "metadata": {},
     "output_type": "execute_result"
    }
   ],
   "source": [
    "# evaluate IPWLearner with Random Forest\n",
    "relative_ee_for_ipw_rf = ope.summarize_estimators_comparison(\n",
    "    ground_truth_policy_value=dataset.calc_ground_truth_policy_value(\n",
    "        expected_reward=bandit_feedback_test[\"expected_reward\"],\n",
    "        action_dist=action_dist_ipw_rf\n",
    "    ),\n",
    "    action_dist=action_dist_ipw_rf,\n",
    "    estimated_rewards_by_reg_model=estimated_rewards_by_reg_model,\n",
    "    metric=\"relative-ee\", #\"relative-ee\" (relative estimation error) or \"se\" (squared error)\n",
    ")\n",
    "\n",
    "relative_ee_for_ipw_rf"
   ]
  },
  {
   "cell_type": "code",
   "execution_count": 44,
   "id": "89f49610-cb32-4b2a-adfd-f5e5a2bf6cbb",
   "metadata": {},
   "outputs": [
    {
     "data": {
      "text/html": [
       "<div>\n",
       "<style scoped>\n",
       "    .dataframe tbody tr th:only-of-type {\n",
       "        vertical-align: middle;\n",
       "    }\n",
       "\n",
       "    .dataframe tbody tr th {\n",
       "        vertical-align: top;\n",
       "    }\n",
       "\n",
       "    .dataframe thead th {\n",
       "        text-align: right;\n",
       "    }\n",
       "</style>\n",
       "<table border=\"1\" class=\"dataframe\">\n",
       "  <thead>\n",
       "    <tr style=\"text-align: right;\">\n",
       "      <th></th>\n",
       "      <th>relative-ee</th>\n",
       "    </tr>\n",
       "  </thead>\n",
       "  <tbody>\n",
       "    <tr>\n",
       "      <th>ipw</th>\n",
       "      <td>0.001469</td>\n",
       "    </tr>\n",
       "    <tr>\n",
       "      <th>dm</th>\n",
       "      <td>0.001274</td>\n",
       "    </tr>\n",
       "    <tr>\n",
       "      <th>dr</th>\n",
       "      <td>0.001286</td>\n",
       "    </tr>\n",
       "  </tbody>\n",
       "</table>\n",
       "</div>"
      ],
      "text/plain": [
       "     relative-ee\n",
       "ipw     0.001469\n",
       "dm      0.001274\n",
       "dr      0.001286"
      ]
     },
     "execution_count": 44,
     "metadata": {},
     "output_type": "execute_result"
    }
   ],
   "source": [
    "# evaluate Uniform Random\n",
    "relative_ee_for_random = ope.summarize_estimators_comparison(\n",
    "    ground_truth_policy_value=dataset.calc_ground_truth_policy_value(\n",
    "        expected_reward=bandit_feedback_test[\"expected_reward\"],\n",
    "        action_dist=action_dist_random\n",
    "    ),\n",
    "    action_dist=action_dist_random,\n",
    "    estimated_rewards_by_reg_model=estimated_rewards_by_reg_model,\n",
    "    metric=\"relative-ee\", #\"relative-ee\" (relative estimation error) or \"se\" (squared error)\n",
    ")\n",
    "\n",
    "relative_ee_for_random"
   ]
  },
  {
   "cell_type": "code",
   "execution_count": null,
   "id": "066f09f4-0ddc-4842-ba5f-30e791e7146c",
   "metadata": {},
   "outputs": [],
   "source": []
  }
 ],
 "metadata": {
  "kernelspec": {
   "display_name": "Python 3 (ipykernel)",
   "language": "python",
   "name": "python3"
  },
  "language_info": {
   "codemirror_mode": {
    "name": "ipython",
    "version": 3
   },
   "file_extension": ".py",
   "mimetype": "text/x-python",
   "name": "python",
   "nbconvert_exporter": "python",
   "pygments_lexer": "ipython3",
   "version": "3.8.15"
  }
 },
 "nbformat": 4,
 "nbformat_minor": 5
}
