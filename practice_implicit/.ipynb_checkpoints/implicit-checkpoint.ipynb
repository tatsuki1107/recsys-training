{
 "cells": [
  {
   "cell_type": "markdown",
   "metadata": {},
   "source": [
    "## Implicit feedbackを想定し、バイアスを考慮した推薦　　\n",
    "### データが増えるとその分どのくらいバイアスに気を使わないといけないのか調査\n",
    "人気順推薦から生まれるランキングバイアスパラメータを特定し、IPS推定量とNaive推定量を比較  \n",
    "IPS推定量の分散が大きければ、ロバスト推定量を使用したいところ"
   ]
  },
  {
   "cell_type": "code",
   "execution_count": 1,
   "metadata": {},
   "outputs": [],
   "source": [
    "import numpy as np\n",
    "import pandas as pd\n",
    "import matplotlib.pyplot as plt"
   ]
  },
  {
   "cell_type": "code",
   "execution_count": 92,
   "metadata": {},
   "outputs": [],
   "source": [
    "import random\n",
    "\n",
    "class train_test_split():\n",
    "    \n",
    "    def __init__(self) -> None:\n",
    "        self.feature = []\n",
    "        self.item_id = []\n",
    "        self.populality = []\n",
    "\n",
    "    def make_dataframe(self):\n",
    "        item_dict = {\"item_id\": self.item_id, \"feature\": self.feature, \"populality\": self.populality}\n",
    "        df = pd.DataFrame(data=item_dict)\n",
    "        \n",
    "        return df\n",
    "        \n",
    "    def create_dataset(self):\n",
    "    \n",
    "        for i in range(100):\n",
    "            feature.append(round(random.uniform(1,5),2))\n",
    "            populality.append(round(random.uniform(1,5),2))\n",
    "            item_id.append(str(i+1))\n",
    "        \n",
    "            if i == 70:\n",
    "                df_train = self.make_dataframe()\n",
    "                self.feature, self.item_id, self.populality = [], [], []\n",
    "        \n",
    "        df_test = self.make_dataframe()\n",
    "        \n",
    "        return df_train, df_test\n",
    "                "
   ]
  },
  {
   "cell_type": "markdown",
   "metadata": {},
   "source": [
    "# 特徴量の説明\n",
    "feature:  ユーザーのクリックを決める特徴量(5に近いとクリックしやすい)  \n",
    "populality:  一ヶ月ごとの人気度を表す特徴量(5に近いと推薦されやすい。人気順の推薦を想定)  \n",
    "また、train, testは7:3"
   ]
  },
  {
   "cell_type": "code",
   "execution_count": 93,
   "metadata": {},
   "outputs": [
    {
     "ename": "TypeError",
     "evalue": "cannot unpack non-iterable train_test_split object",
     "output_type": "error",
     "traceback": [
      "\u001b[0;31m\u001b[0m",
      "\u001b[0;31mTypeError\u001b[0mTraceback (most recent call last)",
      "\u001b[0;32m<ipython-input-93-5224e4b806c7>\u001b[0m in \u001b[0;36m<module>\u001b[0;34m\u001b[0m\n\u001b[0;32m----> 1\u001b[0;31m \u001b[0mdf\u001b[0m\u001b[0;34m,\u001b[0m \u001b[0mdf_test\u001b[0m \u001b[0;34m=\u001b[0m \u001b[0mtrain_test_split\u001b[0m\u001b[0;34m(\u001b[0m\u001b[0;34m)\u001b[0m\u001b[0;34m\u001b[0m\u001b[0;34m\u001b[0m\u001b[0m\n\u001b[0m",
      "\u001b[0;31mTypeError\u001b[0m: cannot unpack non-iterable train_test_split object"
     ]
    }
   ],
   "source": [
    "df, df_test = train_test_split()"
   ]
  },
  {
   "cell_type": "code",
   "execution_count": 13,
   "metadata": {},
   "outputs": [
    {
     "name": "stdout",
     "output_type": "stream",
     "text": [
      "人気推薦アイテム:　　　[9, 8, 1, 6, 4, 10, 2]\n"
     ]
    }
   ],
   "source": [
    "#人気順推薦でランキングしてみる（毎月のバッチ処理と仮定）\n",
    "# 数字を高い順にすると、ログが同じになるので、少しランダムに\n",
    "sorted_df = df.copy()\n",
    "sorted_df = sorted_df[sorted_df[\"populality\"] >= 3.8]\n",
    "sorted_df.reset_index(drop=True, inplace=True)\n",
    "recommend_items = random.sample(list(sorted_df.index.values), k=7)\n",
    "print(f\"人気推薦アイテム:　　　{recommend_items}\")"
   ]
  },
  {
   "cell_type": "code",
   "execution_count": 5,
   "metadata": {},
   "outputs": [],
   "source": [
    "# ポジションバイアスはE[O(u,i)]としpow_trueパラメータを0.5とする\n",
    "# C(u,i,k) = O(u,i)*R(u,i)\n",
    "# E[C(u,i,k)] = THETA(u,i)*r(u,i)\n",
    "\n",
    "position_bias = lambda k: pow(0.9/k, 0.2) "
   ]
  },
  {
   "cell_type": "code",
   "execution_count": 6,
   "metadata": {},
   "outputs": [],
   "source": [
    "# r(u,i)をfeatureとし、0-1スケールに変換。featureはあくまで特徴量なので、\n",
    "#誤クリックを加えることで過学習を防ぐ"
   ]
  },
  {
   "cell_type": "code",
   "execution_count": 66,
   "metadata": {},
   "outputs": [],
   "source": [
    "def user_feedback() -> pd.DataFrame:\n",
    "    position = list(range(1,8))\n",
    "    item_dict = {\n",
    "        \"position\": [], \"item_id\": [], \n",
    "        \"clicked\": [], \"iter\": []\n",
    "    }\n",
    "    for i in range(50):\n",
    "        recommend_items = random.sample(list(sorted_df.index.values), k=7)\n",
    "        df = sorted_df.loc[recommend_items,:]\n",
    "        click_true = np.zeros(7);\n",
    "        rel_max = 5\n",
    "        rel = 0.1 + 0.9 * pow(2, df[\"feature\"].values-1)/pow(2, rel_max-1)\n",
    "    \n",
    "        for k in range(len(click_true)):\n",
    "            theta = position_bias(k+1)\n",
    "            E_click = rel[k]*theta\n",
    "            if (E_click >= 0.6):\n",
    "                click_true[k] = 1\n",
    "            else:\n",
    "                # 誤クリック\n",
    "                if (random.random() < 0.1):\n",
    "                    click_true[k] = 1\n",
    "        \n",
    "        item_dict[\"position\"].extend(position)\n",
    "        item_dict[\"item_id\"].extend(df[\"item_id\"].values)\n",
    "        item_dict[\"clicked\"].extend(click_true)\n",
    "        item_dict[\"iter\"].extend(len(position)*[i+1])\n",
    "    \n",
    "    log_df = pd.DataFrame(data=item_dict)\n",
    "    log_df = log_df.astype({\"clicked\": np.int64})\n",
    "    \n",
    "    count_dict = log_df[log_df[\"clicked\"]==1].groupby(\"item_id\").agg({\"clicked\": \"count\"})[\"clicked\"].to_dict()\n",
    "    history_dict = {\"item_id\": list(count_dict.keys()), \"click count\": list(count_dict.values())}\n",
    "    user_df = pd.DataFrame(data=history_dict)\n",
    "    \n",
    "    return log_df, user_df"
   ]
  },
  {
   "cell_type": "code",
   "execution_count": 67,
   "metadata": {},
   "outputs": [],
   "source": [
    "log_df, user_df = user_feedback()"
   ]
  },
  {
   "cell_type": "code",
   "execution_count": 77,
   "metadata": {},
   "outputs": [
    {
     "data": {
      "text/html": [
       "<div>\n",
       "<style scoped>\n",
       "    .dataframe tbody tr th:only-of-type {\n",
       "        vertical-align: middle;\n",
       "    }\n",
       "\n",
       "    .dataframe tbody tr th {\n",
       "        vertical-align: top;\n",
       "    }\n",
       "\n",
       "    .dataframe thead th {\n",
       "        text-align: right;\n",
       "    }\n",
       "</style>\n",
       "<table border=\"1\" class=\"dataframe\">\n",
       "  <thead>\n",
       "    <tr style=\"text-align: right;\">\n",
       "      <th></th>\n",
       "      <th>item_id</th>\n",
       "      <th>click count</th>\n",
       "    </tr>\n",
       "  </thead>\n",
       "  <tbody>\n",
       "    <tr>\n",
       "      <td>0</td>\n",
       "      <td>18</td>\n",
       "      <td>3</td>\n",
       "    </tr>\n",
       "    <tr>\n",
       "      <td>1</td>\n",
       "      <td>24</td>\n",
       "      <td>1</td>\n",
       "    </tr>\n",
       "    <tr>\n",
       "      <td>2</td>\n",
       "      <td>29</td>\n",
       "      <td>1</td>\n",
       "    </tr>\n",
       "    <tr>\n",
       "      <td>3</td>\n",
       "      <td>35</td>\n",
       "      <td>4</td>\n",
       "    </tr>\n",
       "    <tr>\n",
       "      <td>4</td>\n",
       "      <td>36</td>\n",
       "      <td>25</td>\n",
       "    </tr>\n",
       "    <tr>\n",
       "      <td>5</td>\n",
       "      <td>38</td>\n",
       "      <td>37</td>\n",
       "    </tr>\n",
       "    <tr>\n",
       "      <td>6</td>\n",
       "      <td>42</td>\n",
       "      <td>3</td>\n",
       "    </tr>\n",
       "    <tr>\n",
       "      <td>7</td>\n",
       "      <td>46</td>\n",
       "      <td>3</td>\n",
       "    </tr>\n",
       "    <tr>\n",
       "      <td>8</td>\n",
       "      <td>49</td>\n",
       "      <td>6</td>\n",
       "    </tr>\n",
       "    <tr>\n",
       "      <td>9</td>\n",
       "      <td>6</td>\n",
       "      <td>20</td>\n",
       "    </tr>\n",
       "  </tbody>\n",
       "</table>\n",
       "</div>"
      ],
      "text/plain": [
       "  item_id  click count\n",
       "0      18            3\n",
       "1      24            1\n",
       "2      29            1\n",
       "3      35            4\n",
       "4      36           25\n",
       "5      38           37\n",
       "6      42            3\n",
       "7      46            3\n",
       "8      49            6\n",
       "9       6           20"
      ]
     },
     "execution_count": 77,
     "metadata": {},
     "output_type": "execute_result"
    }
   ],
   "source": [
    "user_df"
   ]
  },
  {
   "cell_type": "code",
   "execution_count": 79,
   "metadata": {},
   "outputs": [
    {
     "data": {
      "text/html": [
       "<div>\n",
       "<style scoped>\n",
       "    .dataframe tbody tr th:only-of-type {\n",
       "        vertical-align: middle;\n",
       "    }\n",
       "\n",
       "    .dataframe tbody tr th {\n",
       "        vertical-align: top;\n",
       "    }\n",
       "\n",
       "    .dataframe thead th {\n",
       "        text-align: right;\n",
       "    }\n",
       "</style>\n",
       "<table border=\"1\" class=\"dataframe\">\n",
       "  <thead>\n",
       "    <tr style=\"text-align: right;\">\n",
       "      <th></th>\n",
       "      <th>item_id</th>\n",
       "      <th>feature</th>\n",
       "      <th>populality</th>\n",
       "    </tr>\n",
       "  </thead>\n",
       "  <tbody>\n",
       "    <tr>\n",
       "      <td>5</td>\n",
       "      <td>6</td>\n",
       "      <td>4.76</td>\n",
       "      <td>4.93</td>\n",
       "    </tr>\n",
       "    <tr>\n",
       "      <td>17</td>\n",
       "      <td>18</td>\n",
       "      <td>3.32</td>\n",
       "      <td>4.23</td>\n",
       "    </tr>\n",
       "    <tr>\n",
       "      <td>23</td>\n",
       "      <td>24</td>\n",
       "      <td>1.13</td>\n",
       "      <td>3.94</td>\n",
       "    </tr>\n",
       "    <tr>\n",
       "      <td>28</td>\n",
       "      <td>29</td>\n",
       "      <td>3.68</td>\n",
       "      <td>4.30</td>\n",
       "    </tr>\n",
       "    <tr>\n",
       "      <td>34</td>\n",
       "      <td>35</td>\n",
       "      <td>2.65</td>\n",
       "      <td>4.93</td>\n",
       "    </tr>\n",
       "    <tr>\n",
       "      <td>35</td>\n",
       "      <td>36</td>\n",
       "      <td>4.76</td>\n",
       "      <td>4.03</td>\n",
       "    </tr>\n",
       "    <tr>\n",
       "      <td>37</td>\n",
       "      <td>38</td>\n",
       "      <td>4.81</td>\n",
       "      <td>4.19</td>\n",
       "    </tr>\n",
       "    <tr>\n",
       "      <td>41</td>\n",
       "      <td>42</td>\n",
       "      <td>1.34</td>\n",
       "      <td>3.96</td>\n",
       "    </tr>\n",
       "    <tr>\n",
       "      <td>45</td>\n",
       "      <td>46</td>\n",
       "      <td>2.16</td>\n",
       "      <td>4.00</td>\n",
       "    </tr>\n",
       "    <tr>\n",
       "      <td>48</td>\n",
       "      <td>49</td>\n",
       "      <td>2.23</td>\n",
       "      <td>4.97</td>\n",
       "    </tr>\n",
       "  </tbody>\n",
       "</table>\n",
       "</div>"
      ],
      "text/plain": [
       "   item_id  feature  populality\n",
       "5        6     4.76        4.93\n",
       "17      18     3.32        4.23\n",
       "23      24     1.13        3.94\n",
       "28      29     3.68        4.30\n",
       "34      35     2.65        4.93\n",
       "35      36     4.76        4.03\n",
       "37      38     4.81        4.19\n",
       "41      42     1.34        3.96\n",
       "45      46     2.16        4.00\n",
       "48      49     2.23        4.97"
      ]
     },
     "execution_count": 79,
     "metadata": {},
     "output_type": "execute_result"
    }
   ],
   "source": [
    "df[df[\"item_id\"].isin(user_df[\"item_id\"].values)]"
   ]
  },
  {
   "cell_type": "code",
   "execution_count": null,
   "metadata": {},
   "outputs": [],
   "source": []
  }
 ],
 "metadata": {
  "kernelspec": {
   "display_name": "Python 3",
   "language": "python",
   "name": "python3"
  },
  "language_info": {
   "codemirror_mode": {
    "name": "ipython",
    "version": 3
   },
   "file_extension": ".py",
   "mimetype": "text/x-python",
   "name": "python",
   "nbconvert_exporter": "python",
   "pygments_lexer": "ipython3",
   "version": "3.7.4"
  }
 },
 "nbformat": 4,
 "nbformat_minor": 4
}
