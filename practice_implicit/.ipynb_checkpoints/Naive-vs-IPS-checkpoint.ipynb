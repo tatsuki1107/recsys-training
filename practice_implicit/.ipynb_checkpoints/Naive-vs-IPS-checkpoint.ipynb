{
 "cells": [
  {
   "cell_type": "markdown",
   "metadata": {},
   "source": [
    "# naive vs IPS Estimator"
   ]
  },
  {
   "cell_type": "code",
   "execution_count": 1,
   "metadata": {},
   "outputs": [],
   "source": [
    "import numpy as np"
   ]
  },
  {
   "cell_type": "code",
   "execution_count": 2,
   "metadata": {},
   "outputs": [],
   "source": [
    "# ユーザは一人 (ユーザID)\n",
    "u = [\"1\"]\n",
    "\n",
    "# I = {i_1, i2} アイテムは２種類 (アイテムID)\n",
    "item = [\"1\", \"2\"]"
   ]
  },
  {
   "cell_type": "code",
   "execution_count": 3,
   "metadata": {},
   "outputs": [],
   "source": [
    "# 嗜好度合いr(u,i)\n",
    "rui = [1.0, 0.5]\n",
    "# ポジションごとの見られやすさ sheta(y(i))\n",
    "THETA = [1.0, 0.1]\n",
    "# ２つのスコアリング関数f1, f2に基づく順位\n",
    "f1 = [\"1\", \"2\"]\n",
    "f2 = [\"2\", \"1\"]\n",
    "# なおログデータはf2が動いていた状況 D(u,y_f2,c)\n",
    "\n",
    "item_id2index = dict(zip(item, range(len(item))))"
   ]
  },
  {
   "cell_type": "markdown",
   "metadata": {},
   "source": [
    "# f1, f2の真のランキング性能"
   ]
  },
  {
   "cell_type": "code",
   "execution_count": 4,
   "metadata": {},
   "outputs": [
    {
     "name": "stdout",
     "output_type": "stream",
     "text": [
      "J(f1) = 2.0\n"
     ]
    }
   ],
   "source": [
    "J_f1 = np.sum([rui[i]*int(f1[i]) for i in range(len(item))])\n",
    "print(f\"J(f1) = {J_f1}\")"
   ]
  },
  {
   "cell_type": "code",
   "execution_count": 5,
   "metadata": {},
   "outputs": [
    {
     "name": "stdout",
     "output_type": "stream",
     "text": [
      "J(f1) = 2.5\n"
     ]
    }
   ],
   "source": [
    "J_f2 = np.sum([rui[i]*int(f2[i]) for i in range(len(item))])\n",
    "print(f'J(f1) = {J_f2}')"
   ]
  },
  {
   "cell_type": "code",
   "execution_count": 6,
   "metadata": {},
   "outputs": [
    {
     "name": "stdout",
     "output_type": "stream",
     "text": [
      "[[1 1]\n",
      " [1 0]\n",
      " [0 1]\n",
      " [0 0]]\n"
     ]
    }
   ],
   "source": [
    "# クリック発生パターン\n",
    "click = np.array([\n",
    "    [1,1],[1,0],[0,1],[0,0]\n",
    "])\n",
    "print(click)"
   ]
  },
  {
   "cell_type": "code",
   "execution_count": 7,
   "metadata": {},
   "outputs": [],
   "source": [
    "# クリック４パターンの確率\n",
    "# C(u,i,yf2(i)) = THETA(yf2(i))*r(u,i)\n",
    "click_p = []\n",
    "for c in range(len(click)):\n",
    "    temp = []\n",
    "    for i in range(len(item)):\n",
    "        PBM = THETA[item_id2index[f2[i]]]*rui[i]\n",
    "        if (click[c,i] == 0):\n",
    "            temp.append(1-PBM)\n",
    "            continue\n",
    "        temp.append(PBM)\n",
    "    click_p.append(np.prod(temp))"
   ]
  },
  {
   "cell_type": "code",
   "execution_count": 8,
   "metadata": {},
   "outputs": [
    {
     "name": "stdout",
     "output_type": "stream",
     "text": [
      "click proba is [0.05, 0.05, 0.45, 0.45]\n"
     ]
    }
   ],
   "source": [
    "print(f\"click proba is {click_p}\")"
   ]
  },
  {
   "cell_type": "markdown",
   "metadata": {},
   "source": [
    "# f1, f2のnaive推定量"
   ]
  },
  {
   "cell_type": "code",
   "execution_count": 9,
   "metadata": {},
   "outputs": [],
   "source": [
    "naive_f1 = []\n",
    "naive_f2 = []\n",
    "for c in range(len(click)):\n",
    "    esti_f1 = np.sum([click[c,i]*int(f1[i]) for i in range(len(item))])\n",
    "    esti_f2 = np.sum([click[c,i]*int(f2[i]) for i in range(len(item))])\n",
    "    naive_f1.append(float(esti_f1))\n",
    "    naive_f2.append(float(esti_f2))"
   ]
  },
  {
   "cell_type": "code",
   "execution_count": 10,
   "metadata": {},
   "outputs": [
    {
     "name": "stdout",
     "output_type": "stream",
     "text": [
      "J^naive(f1) = [3.0, 1.0, 2.0, 0.0], J^naive(f2) = [3.0, 2.0, 1.0, 0.0]\n"
     ]
    }
   ],
   "source": [
    "print(f\"J^naive(f1) = {naive_f1}, J^naive(f2) = {naive_f2}\")"
   ]
  },
  {
   "cell_type": "markdown",
   "metadata": {},
   "source": [
    "# f1, f2のIPS推定量"
   ]
  },
  {
   "cell_type": "code",
   "execution_count": 11,
   "metadata": {},
   "outputs": [],
   "source": [
    "item_id2index[f2[0]]\n",
    "ips_f1 = []\n",
    "ips_f2 = []\n",
    "for c in range(len(click)):\n",
    "    esti_f1 = np.sum([\n",
    "        (click[c,i]/THETA[item_id2index[f2[i]]])*int(f1[i]) for i in range(len(item))\n",
    "    ])\n",
    "    esti_f2 = np.sum([\n",
    "        (click[c,i]/THETA[item_id2index[f2[i]]])*int(f2[i]) for i in range(len(item))\n",
    "    ])\n",
    "    ips_f1.append(esti_f1)\n",
    "    ips_f2.append(esti_f2)"
   ]
  },
  {
   "cell_type": "code",
   "execution_count": 12,
   "metadata": {},
   "outputs": [
    {
     "name": "stdout",
     "output_type": "stream",
     "text": [
      "J^IPS(f1) = [12.0, 10.0, 2.0, 0.0], J^IPS(f2) = [21.0, 20.0, 1.0, 0.0]\n"
     ]
    }
   ],
   "source": [
    "print(f\"J^IPS(f1) = {ips_f1}, J^IPS(f2) = {ips_f2}\")"
   ]
  },
  {
   "cell_type": "markdown",
   "metadata": {},
   "source": [
    "# naive, IPS推定量の期待値"
   ]
  },
  {
   "cell_type": "code",
   "execution_count": 13,
   "metadata": {},
   "outputs": [],
   "source": [
    "Ef1_naive = np.dot(click_p, naive_f1)\n",
    "Ef2_naive = np.dot(click_p, naive_f2)\n",
    "Ef1_ips = np.dot(click_p, ips_f1)\n",
    "Ef2_ips = np.dot(click_p, ips_f2)"
   ]
  },
  {
   "cell_type": "code",
   "execution_count": 14,
   "metadata": {},
   "outputs": [
    {
     "data": {
      "text/html": [
       "<div>\n",
       "<style scoped>\n",
       "    .dataframe tbody tr th:only-of-type {\n",
       "        vertical-align: middle;\n",
       "    }\n",
       "\n",
       "    .dataframe tbody tr th {\n",
       "        vertical-align: top;\n",
       "    }\n",
       "\n",
       "    .dataframe thead th {\n",
       "        text-align: right;\n",
       "    }\n",
       "</style>\n",
       "<table border=\"1\" class=\"dataframe\">\n",
       "  <thead>\n",
       "    <tr style=\"text-align: right;\">\n",
       "      <th></th>\n",
       "      <th>スコアリング関数</th>\n",
       "      <th>J</th>\n",
       "      <th>E[J^naive]</th>\n",
       "      <th>E[J^IPS]</th>\n",
       "    </tr>\n",
       "  </thead>\n",
       "  <tbody>\n",
       "    <tr>\n",
       "      <td>0</td>\n",
       "      <td>f1</td>\n",
       "      <td>2.0</td>\n",
       "      <td>1.1</td>\n",
       "      <td>2.0</td>\n",
       "    </tr>\n",
       "    <tr>\n",
       "      <td>1</td>\n",
       "      <td>f2</td>\n",
       "      <td>2.5</td>\n",
       "      <td>0.7</td>\n",
       "      <td>2.5</td>\n",
       "    </tr>\n",
       "  </tbody>\n",
       "</table>\n",
       "</div>"
      ],
      "text/plain": [
       "  スコアリング関数    J  E[J^naive]  E[J^IPS]\n",
       "0       f1  2.0         1.1       2.0\n",
       "1       f2  2.5         0.7       2.5"
      ]
     },
     "execution_count": 14,
     "metadata": {},
     "output_type": "execute_result"
    }
   ],
   "source": [
    "import pandas as pd\n",
    "\n",
    "data = [\n",
    "    {\"スコアリング関数\": \"f1\", \"J\": J_f1, \"E[J^naive]\": Ef1_naive, \"E[J^IPS]\": Ef1_ips},\n",
    "    {\"スコアリング関数\": \"f2\", \"J\": J_f2, \"E[J^naive]\": Ef2_naive, \"E[J^IPS]\": Ef2_ips},\n",
    "    \n",
    "]\n",
    "\n",
    "pd.DataFrame(data)"
   ]
  },
  {
   "cell_type": "markdown",
   "metadata": {},
   "source": [
    "### これよりnaive推定量には人気商品ばかり推薦するバイアスが生じている。つまり、新しくこのプラットフォームに掲載する企業の商品は推薦されにくいという機会損失がある。正しく推薦できないと推薦する意味がない"
   ]
  },
  {
   "cell_type": "code",
   "execution_count": null,
   "metadata": {},
   "outputs": [],
   "source": []
  }
 ],
 "metadata": {
  "kernelspec": {
   "display_name": "Python 3",
   "language": "python",
   "name": "python3"
  },
  "language_info": {
   "codemirror_mode": {
    "name": "ipython",
    "version": 3
   },
   "file_extension": ".py",
   "mimetype": "text/x-python",
   "name": "python",
   "nbconvert_exporter": "python",
   "pygments_lexer": "ipython3",
   "version": "3.7.4"
  }
 },
 "nbformat": 4,
 "nbformat_minor": 4
}
