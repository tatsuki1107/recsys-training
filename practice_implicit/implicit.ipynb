{
 "cells": [
  {
   "cell_type": "markdown",
   "metadata": {},
   "source": [
    "## Implicit feedbackを想定し、バイアスを考慮した推薦　　\n",
    "### データが増えるとその分どのくらいバイアスに気を使わないといけないのか調査\n",
    "人気順推薦から生まれるランキングバイアスパラメータを特定し、IPS推定量とNaive推定量を比較  \n",
    "IPS推定量の分散が大きければ、ロバスト推定量を使用したいところ"
   ]
  },
  {
   "cell_type": "code",
   "execution_count": 1,
   "metadata": {},
   "outputs": [],
   "source": [
    "import numpy as np\n",
    "import pandas as pd\n",
    "import matplotlib.pyplot as plt"
   ]
  },
  {
   "cell_type": "code",
   "execution_count": 2,
   "metadata": {},
   "outputs": [],
   "source": [
    "import random\n",
    "\n",
    "class train_test_split():\n",
    "    \n",
    "    def __init__(self) -> None:\n",
    "        self.feature = []\n",
    "        self.item_id = []\n",
    "        self.populality = []\n",
    "\n",
    "    def make_dataframe(self) -> pd.DataFrame:\n",
    "        item_dict = {\"item_id\": self.item_id, \"feature\": self.feature, \"populality\": self.populality}\n",
    "        df = pd.DataFrame(data=item_dict)\n",
    "        \n",
    "        return df\n",
    "        \n",
    "    def create_dataset(self) -> (pd.DataFrame, pd.DataFrame):\n",
    "    \n",
    "        for i in range(100):\n",
    "            self.feature.append(round(random.uniform(1,5),2))\n",
    "            self.populality.append(round(random.uniform(1,5),2))\n",
    "            self.item_id.append(str(i+1))\n",
    "        \n",
    "            if i == 69:\n",
    "                df_train = self.make_dataframe()\n",
    "                self.feature, self.item_id, self.populality = [], [], []\n",
    "        \n",
    "        df_test = self.make_dataframe()\n",
    "        \n",
    "        return df_train, df_test\n",
    "                "
   ]
  },
  {
   "cell_type": "markdown",
   "metadata": {},
   "source": [
    "# 特徴量の説明\n",
    "feature:  ユーザーのクリックを決める特徴量(5に近いとクリックしやすい)  \n",
    "populality:  一ヶ月ごとの人気度を表す特徴量(5に近いと推薦されやすい。人気順の推薦を想定)  \n",
    "また、train, testは7:3"
   ]
  },
  {
   "cell_type": "code",
   "execution_count": 3,
   "metadata": {},
   "outputs": [],
   "source": [
    "df_train, df_test = train_test_split().create_dataset()"
   ]
  },
  {
   "cell_type": "code",
   "execution_count": 4,
   "metadata": {},
   "outputs": [
    {
     "data": {
      "text/html": [
       "<div>\n",
       "<style scoped>\n",
       "    .dataframe tbody tr th:only-of-type {\n",
       "        vertical-align: middle;\n",
       "    }\n",
       "\n",
       "    .dataframe tbody tr th {\n",
       "        vertical-align: top;\n",
       "    }\n",
       "\n",
       "    .dataframe thead th {\n",
       "        text-align: right;\n",
       "    }\n",
       "</style>\n",
       "<table border=\"1\" class=\"dataframe\">\n",
       "  <thead>\n",
       "    <tr style=\"text-align: right;\">\n",
       "      <th></th>\n",
       "      <th>item_id</th>\n",
       "      <th>feature</th>\n",
       "      <th>populality</th>\n",
       "    </tr>\n",
       "  </thead>\n",
       "  <tbody>\n",
       "    <tr>\n",
       "      <td>0</td>\n",
       "      <td>1</td>\n",
       "      <td>3.47</td>\n",
       "      <td>3.84</td>\n",
       "    </tr>\n",
       "    <tr>\n",
       "      <td>1</td>\n",
       "      <td>2</td>\n",
       "      <td>4.89</td>\n",
       "      <td>2.73</td>\n",
       "    </tr>\n",
       "    <tr>\n",
       "      <td>2</td>\n",
       "      <td>3</td>\n",
       "      <td>1.17</td>\n",
       "      <td>1.88</td>\n",
       "    </tr>\n",
       "    <tr>\n",
       "      <td>3</td>\n",
       "      <td>4</td>\n",
       "      <td>2.92</td>\n",
       "      <td>2.02</td>\n",
       "    </tr>\n",
       "    <tr>\n",
       "      <td>4</td>\n",
       "      <td>5</td>\n",
       "      <td>3.53</td>\n",
       "      <td>3.04</td>\n",
       "    </tr>\n",
       "  </tbody>\n",
       "</table>\n",
       "</div>"
      ],
      "text/plain": [
       "  item_id  feature  populality\n",
       "0       1     3.47        3.84\n",
       "1       2     4.89        2.73\n",
       "2       3     1.17        1.88\n",
       "3       4     2.92        2.02\n",
       "4       5     3.53        3.04"
      ]
     },
     "execution_count": 4,
     "metadata": {},
     "output_type": "execute_result"
    }
   ],
   "source": [
    "df_train.head()"
   ]
  },
  {
   "cell_type": "code",
   "execution_count": 5,
   "metadata": {},
   "outputs": [],
   "source": [
    "# ポジションバイアスはE[O(u,i)]としpow_trueパラメータを0.5とする\n",
    "# C(u,i,k) = O(u,i)*R(u,i)\n",
    "# E[C(u,i,k)] = THETA(u,i)*r(u,i)\n",
    "\n",
    "position_bias = lambda k: pow(0.9/k, 0.2) "
   ]
  },
  {
   "cell_type": "code",
   "execution_count": 6,
   "metadata": {},
   "outputs": [],
   "source": [
    "# r(u,i)をfeatureとし、0-1スケールに変換。featureはあくまで特徴量なので、\n",
    "#誤クリックを加えることで過学習を防ぐ"
   ]
  },
  {
   "cell_type": "code",
   "execution_count": 7,
   "metadata": {},
   "outputs": [],
   "source": [
    "def user_feedback(df, policy) -> pd.DataFrame:\n",
    "    # 人気順orランダム推薦でランキングしてみる（毎月のバッチ処理と仮定）\n",
    "    # 数値の高い順にすると、ログが同じになるので、少しランダムに\n",
    "    sorted_df = df.copy()\n",
    "    if policy == \"populality\":\n",
    "        sorted_df = sorted_df[sorted_df[\"populality\"] >= 3.8]\n",
    "        sorted_df.reset_index(drop=True, inplace=True)\n",
    "    position = list(range(1,8))\n",
    "    item_dict = {\n",
    "        \"position\": [], \"item_id\": [], \n",
    "        \"clicked\": [], \"iter\": []\n",
    "    }\n",
    "    for i in range(50):\n",
    "        recommend_items = random.sample(list(sorted_df.index.values), k=7)\n",
    "        df = sorted_df.loc[recommend_items,:]\n",
    "        click_true = np.zeros(7);\n",
    "        rel_max = 5\n",
    "        rel = 0.1 + 0.9 * pow(2, df[\"feature\"].values-1)/pow(2, rel_max-1)\n",
    "    \n",
    "        for k in range(len(click_true)):\n",
    "            theta = position_bias(k+1)\n",
    "            E_click = rel[k]#*theta\n",
    "            if (E_click >= 0.7):\n",
    "                click_true[k] = 1\n",
    "            #else:\n",
    "                # 誤クリック\n",
    "                #if (random.random() < 0.1):\n",
    "                 #   click_true[k] = 1\n",
    "        \n",
    "        item_dict[\"position\"].extend(position)\n",
    "        item_dict[\"item_id\"].extend(df[\"item_id\"].values)\n",
    "        item_dict[\"clicked\"].extend(click_true)\n",
    "        item_dict[\"iter\"].extend(len(position)*[i+1])\n",
    "    \n",
    "    log_df = pd.DataFrame(data=item_dict)\n",
    "    log_df = log_df.astype({\"clicked\": np.int64})\n",
    "    \n",
    "    count_dict = log_df[log_df[\"clicked\"]==1].groupby(\"item_id\").agg({\"clicked\": \"count\"})[\"clicked\"].to_dict()\n",
    "    history_dict = {\"item_id\": list(count_dict.keys()), \"click count\": list(count_dict.values())}\n",
    "    user_df = pd.DataFrame(data=history_dict)\n",
    "    \n",
    "    return log_df, user_df"
   ]
  },
  {
   "cell_type": "code",
   "execution_count": 8,
   "metadata": {},
   "outputs": [],
   "source": [
    "train_log_df, train_user_df = user_feedback(df_train, policy=\"random\")\n",
    "test_log_df, test_user_df = user_feedback(df_test, policy=\"random\")"
   ]
  },
  {
   "cell_type": "code",
   "execution_count": 9,
   "metadata": {},
   "outputs": [],
   "source": [
    "#df[df[\"item_id\"].isin(user_df[\"item_id\"].values)]"
   ]
  },
  {
   "cell_type": "code",
   "execution_count": 10,
   "metadata": {},
   "outputs": [],
   "source": [
    "for_cosine_df = pd.merge(train_log_df, df_train, on=\"item_id\")\n",
    "for_cosine_df = pd.concat([for_cosine_df, df_test], sort=True)[[\"item_id\", \"feature\", \"clicked\"]]\n",
    "# テストデータのクリックを-1とする\n",
    "for_cosine_df = for_cosine_df.fillna({\"clicked\": -1.0})\n",
    "for_cosine_df = for_cosine_df.astype({\"clicked\": np.int64})\n"
   ]
  },
  {
   "cell_type": "markdown",
   "metadata": {},
   "source": [
    "### 類似度でとりあえずnaiveに推薦してみる"
   ]
  },
  {
   "cell_type": "code",
   "execution_count": 11,
   "metadata": {},
   "outputs": [],
   "source": [
    "def cosine_recommend(df) -> list:\n",
    "    profile = round(df[df[\"clicked\"]==1][\"feature\"].mean(),3)\n",
    "    print(f'ユーザプロファイル: {profile}')\n",
    "    print('-------------------------')\n",
    "    rec_list = []\n",
    "    for i, row in df[df[\"clicked\"]==-1].iterrows():\n",
    "        similarity = round(np.abs(row[\"feature\"]-profile),2)\n",
    "        item_vec = (row[\"item_id\"], similarity)\n",
    "        rec_list.append(item_vec)\n",
    "    \n",
    "    rec_list.sort(key=lambda x:x[1])\n",
    "    rec_list = rec_list[:7]\n",
    "    \n",
    "    print(f'推薦リスト. (item_is, ベクトルの差): {rec_list}')\n",
    "    \n",
    "    rec_list = [list(tup) for tup in zip(*rec_list)][0]\n",
    "    \n",
    "    return rec_list"
   ]
  },
  {
   "cell_type": "code",
   "execution_count": 12,
   "metadata": {},
   "outputs": [
    {
     "name": "stdout",
     "output_type": "stream",
     "text": [
      "ユーザプロファイル: 4.716\n",
      "-------------------------\n",
      "推薦リスト. (item_is, ベクトルの差): [('83', 0.01), ('91', 0.04), ('92', 0.04), ('98', 0.07), ('87', 0.08), ('71', 0.16), ('93', 0.21)]\n"
     ]
    }
   ],
   "source": [
    "rec_list = cosine_recommend(for_cosine_df)"
   ]
  },
  {
   "cell_type": "markdown",
   "metadata": {},
   "source": [
    "特徴量\"feature\"が5に近いほどこのユーザはクリックしやすい傾向にあるにも関わらず、クリックしたときの平均値が3.9  \n",
    "である。すなわち、ポジションバイアスと誤クリックの影響を考慮できてない"
   ]
  },
  {
   "cell_type": "markdown",
   "metadata": {},
   "source": [
    "### Map@7で評価する"
   ]
  },
  {
   "cell_type": "code",
   "execution_count": 13,
   "metadata": {},
   "outputs": [],
   "source": [
    "# 各レコードの平均 precision\n",
    "# 1/min(m,K)*p\n",
    "\n",
    "def apk(y_i_true, y_i_pred):\n",
    "    assert (len(y_i_pred) <= 7)\n",
    "    assert (len(np.unique(y_i_pred)) == len(y_i_pred))\n",
    "    \n",
    "    sum_precision = 0.0\n",
    "    num_hits = 0\n",
    "    \n",
    "    for i, p in enumerate(y_i_pred):\n",
    "        if p in y_i_true:\n",
    "            num_hits += 1\n",
    "            precision = num_hits / (i+1)\n",
    "            sum_precision += precision\n",
    "        \n",
    "    if sum_precision == 0.0:\n",
    "        return 0.0\n",
    "    \n",
    "    else :\n",
    "        return sum_precision / min(len(y_i_true), 7)\n",
    "\n",
    "#MAP@K計算用の関数\n",
    "def mapk(y_true, y_pred):\n",
    "    ap = [apk(y_i_true, y_i_pred) for y_i_true, y_i_pred in zip(y_true, y_pred)]\n",
    "    \n",
    "    return np.mean(ap)\n",
    "                   \n"
   ]
  },
  {
   "cell_type": "code",
   "execution_count": 14,
   "metadata": {},
   "outputs": [],
   "source": [
    "def devide_df(df):\n",
    "    devided_list = []\n",
    "    for i in range(50):\n",
    "        clicked_items = df[(df[\"iter\"]==i) & (df[\"clicked\"]==1)][\"item_id\"].to_list()\n",
    "        devided_list.append(clicked_items)\n",
    "    \n",
    "    return devided_list\n",
    "\n",
    "y_true = devide_df(test_log_df)"
   ]
  },
  {
   "cell_type": "code",
   "execution_count": 15,
   "metadata": {},
   "outputs": [],
   "source": [
    "y_pred = [rec_list]*50"
   ]
  },
  {
   "cell_type": "code",
   "execution_count": 16,
   "metadata": {},
   "outputs": [
    {
     "name": "stdout",
     "output_type": "stream",
     "text": [
      "MAP@7 : 0.45\n"
     ]
    }
   ],
   "source": [
    "naive_map = mapk(y_true, y_pred)\n",
    "print(f'MAP@7 : {round(naive_map,2)}')"
   ]
  },
  {
   "cell_type": "code",
   "execution_count": 17,
   "metadata": {},
   "outputs": [],
   "source": [
    "## ポジションバイアス込みにすると、mapは0.05とかになる"
   ]
  },
  {
   "cell_type": "code",
   "execution_count": null,
   "metadata": {},
   "outputs": [],
   "source": []
  }
 ],
 "metadata": {
  "kernelspec": {
   "display_name": "Python 3",
   "language": "python",
   "name": "python3"
  },
  "language_info": {
   "codemirror_mode": {
    "name": "ipython",
    "version": 3
   },
   "file_extension": ".py",
   "mimetype": "text/x-python",
   "name": "python",
   "nbconvert_exporter": "python",
   "pygments_lexer": "ipython3",
   "version": "3.7.4"
  }
 },
 "nbformat": 4,
 "nbformat_minor": 4
}
