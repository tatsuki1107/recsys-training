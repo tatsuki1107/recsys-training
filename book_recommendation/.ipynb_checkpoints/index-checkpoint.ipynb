{
 "cells": [
  {
   "cell_type": "code",
   "execution_count": 1,
   "id": "be667dce-2166-4dbf-b208-c2ab392c33be",
   "metadata": {},
   "outputs": [],
   "source": [
    "import sys; sys.path.append('..')\n",
    "import warnings; warnings.simplefilter(\"ignore\")\n",
    "import pandas as pd"
   ]
  },
  {
   "cell_type": "code",
   "execution_count": 2,
   "id": "e73def12-1bbf-44ae-b941-420c4c5c24df",
   "metadata": {},
   "outputs": [],
   "source": [
    "user_df = pd.read_csv('../data/Books/Users.csv')"
   ]
  },
  {
   "cell_type": "code",
   "execution_count": 3,
   "id": "d80b85f0-806d-480e-8a07-9550ec309b50",
   "metadata": {},
   "outputs": [
    {
     "data": {
      "text/html": [
       "<div>\n",
       "<style scoped>\n",
       "    .dataframe tbody tr th:only-of-type {\n",
       "        vertical-align: middle;\n",
       "    }\n",
       "\n",
       "    .dataframe tbody tr th {\n",
       "        vertical-align: top;\n",
       "    }\n",
       "\n",
       "    .dataframe thead th {\n",
       "        text-align: right;\n",
       "    }\n",
       "</style>\n",
       "<table border=\"1\" class=\"dataframe\">\n",
       "  <thead>\n",
       "    <tr style=\"text-align: right;\">\n",
       "      <th></th>\n",
       "      <th>User-ID</th>\n",
       "      <th>Location</th>\n",
       "      <th>Age</th>\n",
       "    </tr>\n",
       "  </thead>\n",
       "  <tbody>\n",
       "    <tr>\n",
       "      <th>0</th>\n",
       "      <td>1</td>\n",
       "      <td>nyc, new york, usa</td>\n",
       "      <td>NaN</td>\n",
       "    </tr>\n",
       "    <tr>\n",
       "      <th>1</th>\n",
       "      <td>2</td>\n",
       "      <td>stockton, california, usa</td>\n",
       "      <td>18.0</td>\n",
       "    </tr>\n",
       "    <tr>\n",
       "      <th>2</th>\n",
       "      <td>3</td>\n",
       "      <td>moscow, yukon territory, russia</td>\n",
       "      <td>NaN</td>\n",
       "    </tr>\n",
       "    <tr>\n",
       "      <th>3</th>\n",
       "      <td>4</td>\n",
       "      <td>porto, v.n.gaia, portugal</td>\n",
       "      <td>17.0</td>\n",
       "    </tr>\n",
       "    <tr>\n",
       "      <th>4</th>\n",
       "      <td>5</td>\n",
       "      <td>farnborough, hants, united kingdom</td>\n",
       "      <td>NaN</td>\n",
       "    </tr>\n",
       "  </tbody>\n",
       "</table>\n",
       "</div>"
      ],
      "text/plain": [
       "   User-ID                            Location   Age\n",
       "0        1                  nyc, new york, usa   NaN\n",
       "1        2           stockton, california, usa  18.0\n",
       "2        3     moscow, yukon territory, russia   NaN\n",
       "3        4           porto, v.n.gaia, portugal  17.0\n",
       "4        5  farnborough, hants, united kingdom   NaN"
      ]
     },
     "execution_count": 3,
     "metadata": {},
     "output_type": "execute_result"
    }
   ],
   "source": [
    "user_df.head()"
   ]
  },
  {
   "cell_type": "code",
   "execution_count": 4,
   "id": "b9c99e24-4599-4209-adcd-a70b48617341",
   "metadata": {},
   "outputs": [
    {
     "data": {
      "text/html": [
       "<div>\n",
       "<style scoped>\n",
       "    .dataframe tbody tr th:only-of-type {\n",
       "        vertical-align: middle;\n",
       "    }\n",
       "\n",
       "    .dataframe tbody tr th {\n",
       "        vertical-align: top;\n",
       "    }\n",
       "\n",
       "    .dataframe thead th {\n",
       "        text-align: right;\n",
       "    }\n",
       "</style>\n",
       "<table border=\"1\" class=\"dataframe\">\n",
       "  <thead>\n",
       "    <tr style=\"text-align: right;\">\n",
       "      <th></th>\n",
       "      <th>User-ID</th>\n",
       "      <th>Age</th>\n",
       "      <th>city</th>\n",
       "      <th>state</th>\n",
       "      <th>country</th>\n",
       "    </tr>\n",
       "  </thead>\n",
       "  <tbody>\n",
       "    <tr>\n",
       "      <th>0</th>\n",
       "      <td>1</td>\n",
       "      <td>NaN</td>\n",
       "      <td>nyc</td>\n",
       "      <td>new york</td>\n",
       "      <td>usa</td>\n",
       "    </tr>\n",
       "    <tr>\n",
       "      <th>1</th>\n",
       "      <td>2</td>\n",
       "      <td>18.0</td>\n",
       "      <td>stockton</td>\n",
       "      <td>california</td>\n",
       "      <td>usa</td>\n",
       "    </tr>\n",
       "    <tr>\n",
       "      <th>2</th>\n",
       "      <td>3</td>\n",
       "      <td>NaN</td>\n",
       "      <td>moscow</td>\n",
       "      <td>yukon territory</td>\n",
       "      <td>russia</td>\n",
       "    </tr>\n",
       "    <tr>\n",
       "      <th>3</th>\n",
       "      <td>4</td>\n",
       "      <td>17.0</td>\n",
       "      <td>porto</td>\n",
       "      <td>v.n.gaia</td>\n",
       "      <td>portugal</td>\n",
       "    </tr>\n",
       "    <tr>\n",
       "      <th>4</th>\n",
       "      <td>5</td>\n",
       "      <td>NaN</td>\n",
       "      <td>farnborough</td>\n",
       "      <td>hants</td>\n",
       "      <td>united kingdom</td>\n",
       "    </tr>\n",
       "  </tbody>\n",
       "</table>\n",
       "</div>"
      ],
      "text/plain": [
       "   User-ID   Age         city            state         country\n",
       "0        1   NaN          nyc         new york             usa\n",
       "1        2  18.0     stockton       california             usa\n",
       "2        3   NaN       moscow  yukon territory          russia\n",
       "3        4  17.0        porto         v.n.gaia        portugal\n",
       "4        5   NaN  farnborough            hants  united kingdom"
      ]
     },
     "execution_count": 4,
     "metadata": {},
     "output_type": "execute_result"
    }
   ],
   "source": [
    "user_df = pd.concat([user_df, user_df[\"Location\"].str.split(', ', expand=True)], axis=1)\n",
    "drop_cols = [\"Location\", 3,4,5,6,7,8]\n",
    "user_df = user_df.drop(drop_cols, axis=1)\n",
    "user_df = user_df.rename(columns={0: \"city\", 1: \"state\", 2: \"country\"})\n",
    "user_df.head()"
   ]
  },
  {
   "cell_type": "code",
   "execution_count": 5,
   "id": "489e33f1-2e4a-48a0-bd7c-714760f52632",
   "metadata": {},
   "outputs": [
    {
     "data": {
      "text/plain": [
       "<AxesSubplot:>"
      ]
     },
     "execution_count": 5,
     "metadata": {},
     "output_type": "execute_result"
    },
    {
     "data": {
      "image/png": "[encoded data removed]",
      "text/plain": [
       "<Figure size 640x480 with 1 Axes>"
      ]
     },
     "metadata": {},
     "output_type": "display_data"
    }
   ],
   "source": [
    "user_df.boxplot(column=\"Age\", vert=False, patch_artist=True)"
   ]
  },
  {
   "cell_type": "code",
   "execution_count": 6,
   "id": "e7c6ef19-cfe8-40c5-93f2-c31b59b0c5e8",
   "metadata": {},
   "outputs": [
    {
     "name": "stdout",
     "output_type": "stream",
     "text": [
      "ユーザの数:　　278858\n",
      "100歳以上のレコード数: 366\n",
      "AgeがNanのレコード数: 110762\n",
      "正しくAgeが入力されているとされるレコードの割合: 0.60\n"
     ]
    }
   ],
   "source": [
    "# 年齢がえらいことになっている。登録時の打ち間違え？\n",
    "import numpy as np\n",
    "\n",
    "len_user = len(user_df)\n",
    "len_user_over_100 =  len(user_df[user_df[\"Age\"] > 100])\n",
    "len_user_age_is_nan = user_df[\"Age\"].isnull().sum()\n",
    "\n",
    "print(f\"ユーザの数:　　{len_user}\")\n",
    "print(f'100歳以上のレコード数: {len_user_over_100}')\n",
    "\n",
    "print(f'AgeがNanのレコード数: {len_user_age_is_nan}')\n",
    "print(f'正しくAgeが入力されているとされるレコードの割合: {(len_user-(len_user_over_100+len_user_age_is_nan))/len_user:.2f}')\n"
   ]
  },
  {
   "cell_type": "code",
   "execution_count": 7,
   "id": "14a043ac-9770-4a24-9169-2527c34f2acd",
   "metadata": {},
   "outputs": [
    {
     "data": {
      "text/html": [
       "<div>\n",
       "<style scoped>\n",
       "    .dataframe tbody tr th:only-of-type {\n",
       "        vertical-align: middle;\n",
       "    }\n",
       "\n",
       "    .dataframe tbody tr th {\n",
       "        vertical-align: top;\n",
       "    }\n",
       "\n",
       "    .dataframe thead th {\n",
       "        text-align: right;\n",
       "    }\n",
       "</style>\n",
       "<table border=\"1\" class=\"dataframe\">\n",
       "  <thead>\n",
       "    <tr style=\"text-align: right;\">\n",
       "      <th></th>\n",
       "      <th>User-ID</th>\n",
       "    </tr>\n",
       "    <tr>\n",
       "      <th>country</th>\n",
       "      <th></th>\n",
       "    </tr>\n",
       "  </thead>\n",
       "  <tbody>\n",
       "    <tr>\n",
       "      <th></th>\n",
       "      <td>440721</td>\n",
       "    </tr>\n",
       "    <tr>\n",
       "      <th>australia</th>\n",
       "      <td>275708</td>\n",
       "    </tr>\n",
       "    <tr>\n",
       "      <th>england</th>\n",
       "      <td>227693</td>\n",
       "    </tr>\n",
       "    <tr>\n",
       "      <th>pasig city.</th>\n",
       "      <td>261732</td>\n",
       "    </tr>\n",
       "    <tr>\n",
       "      <th>&amp;#20013;&amp;#22269;</th>\n",
       "      <td>272827</td>\n",
       "    </tr>\n",
       "    <tr>\n",
       "      <th>...</th>\n",
       "      <td>...</td>\n",
       "    </tr>\n",
       "    <tr>\n",
       "      <th>zhengjiang</th>\n",
       "      <td>23884</td>\n",
       "    </tr>\n",
       "    <tr>\n",
       "      <th>zimbabwe</th>\n",
       "      <td>3481123</td>\n",
       "    </tr>\n",
       "    <tr>\n",
       "      <th>álava</th>\n",
       "      <td>23325</td>\n",
       "    </tr>\n",
       "    <tr>\n",
       "      <th>ä¸­å?½</th>\n",
       "      <td>198587</td>\n",
       "    </tr>\n",
       "    <tr>\n",
       "      <th>öð¹ú</th>\n",
       "      <td>953975</td>\n",
       "    </tr>\n",
       "  </tbody>\n",
       "</table>\n",
       "<p>1014 rows × 1 columns</p>\n",
       "</div>"
      ],
      "text/plain": [
       "                  User-ID\n",
       "country                  \n",
       "                   440721\n",
       " australia         275708\n",
       " england           227693\n",
       " pasig city.       261732\n",
       "&#20013;&#22269;   272827\n",
       "...                   ...\n",
       "zhengjiang          23884\n",
       "zimbabwe          3481123\n",
       "álava               23325\n",
       "ä¸­å?½             198587\n",
       "öð¹ú               953975\n",
       "\n",
       "[1014 rows x 1 columns]"
      ]
     },
     "execution_count": 7,
     "metadata": {},
     "output_type": "execute_result"
    }
   ],
   "source": [
    "# 国ごとのユーザ数\n",
    "user_df.groupby(\"country\").agg({\"User-ID\": np.sum})"
   ]
  },
  {
   "cell_type": "code",
   "execution_count": 8,
   "id": "35254461-8a4f-4c34-90de-9eea03d00832",
   "metadata": {},
   "outputs": [
    {
     "data": {
      "text/plain": [
       "['n/a']"
      ]
     },
     "execution_count": 8,
     "metadata": {},
     "output_type": "execute_result"
    }
   ],
   "source": [
    "user_df[-1:][\"state\"].to_list()"
   ]
  },
  {
   "cell_type": "code",
   "execution_count": 9,
   "id": "8ea4c0c6-9ef5-4287-8999-2cec4487d500",
   "metadata": {},
   "outputs": [
    {
     "name": "stdout",
     "output_type": "stream",
     "text": [
      "欠損値の数\n",
      "state: 12421\n",
      "city: 439\n",
      "country: 78\n"
     ]
    }
   ],
   "source": [
    "len_state_nan = len(user_df[user_df[\"state\"]== \"n/a\"])\n",
    "len_city_nan = len(user_df[user_df[\"city\"]== \"n/a\"])\n",
    "len_country_nan = len(user_df[user_df[\"country\"]== \"n/a\"])\n",
    "\n",
    "print(f\"欠損値の数\")\n",
    "print(f'state: {len_state_nan}')\n",
    "print(f'city: {len_city_nan}')\n",
    "print(f'country: {len_country_nan}')"
   ]
  },
  {
   "cell_type": "code",
   "execution_count": 10,
   "id": "bbb45739-4321-4150-8753-77e3068be00d",
   "metadata": {},
   "outputs": [
    {
     "name": "stdout",
     "output_type": "stream",
     "text": [
      "cityはわかるがstateがわからないレコード数: 12150\n",
      "cityまたは、stateがわかっていてcountryがわからないレコード数: 67\n",
      "すべてがわからないレコード数: 11\n",
      "stateはnew yorkなのにcountryはusaではないレコード数: 82\n"
     ]
    }
   ],
   "source": [
    "# stateがわかっていてcountryがわからない場合などは場合によって欠損値を埋めれる??\n",
    "temp_df = user_df[~((user_df[\"city\"]==\"n/a\") & (user_df[\"state\"]==\"n/a\"))]\n",
    "city_state_country = len(temp_df[temp_df[\"country\"]==\"n/a\"])\n",
    "\n",
    "# cityはわかるがstateがわからない場合\n",
    "city_state = len(user_df[(user_df[\"city\"]!=\"n/a\") & (user_df[\"state\"]==\"n/a\")])\n",
    "\n",
    "# すべてがわからない\n",
    "temp_df = user_df[(user_df[\"city\"]==\"n/a\") & (user_df[\"state\"]==\"n/a\")]\n",
    "all_na = len(temp_df[temp_df[\"country\"]==\"n/a\"])\n",
    "\n",
    "# stateはnew yorkなのにcountryはusaではないレコードが存在するから、countryだけを考慮すればいいかな\n",
    "error_recode = len(user_df[(user_df[\"state\"]==\"new york\") & (user_df[\"country\"]!=\"usa\")])\n",
    "\n",
    "print(f\"cityはわかるがstateがわからないレコード数: {city_state}\")\n",
    "print(f'cityまたは、stateがわかっていてcountryがわからないレコード数: {city_state_country}')\n",
    "print(f'すべてがわからないレコード数: {all_na}')\n",
    "print(f'stateはnew yorkなのにcountryはusaではないレコード数: {error_recode}')\n"
   ]
  },
  {
   "cell_type": "code",
   "execution_count": 11,
   "id": "d90a5c03-b477-4419-b867-764af172e2e7",
   "metadata": {},
   "outputs": [],
   "source": [
    "# Locationは欠損値を埋めれる？？"
   ]
  },
  {
   "cell_type": "code",
   "execution_count": 12,
   "id": "91c9db7f-a52d-499b-ac01-5f521d6c59cf",
   "metadata": {},
   "outputs": [
    {
     "data": {
      "text/html": [
       "<div>\n",
       "<style scoped>\n",
       "    .dataframe tbody tr th:only-of-type {\n",
       "        vertical-align: middle;\n",
       "    }\n",
       "\n",
       "    .dataframe tbody tr th {\n",
       "        vertical-align: top;\n",
       "    }\n",
       "\n",
       "    .dataframe thead th {\n",
       "        text-align: right;\n",
       "    }\n",
       "</style>\n",
       "<table border=\"1\" class=\"dataframe\">\n",
       "  <thead>\n",
       "    <tr style=\"text-align: right;\">\n",
       "      <th></th>\n",
       "      <th>ISBN</th>\n",
       "      <th>Book-Title</th>\n",
       "      <th>Book-Author</th>\n",
       "      <th>Year-Of-Publication</th>\n",
       "      <th>Publisher</th>\n",
       "      <th>Image-URL-S</th>\n",
       "      <th>Image-URL-M</th>\n",
       "      <th>Image-URL-L</th>\n",
       "    </tr>\n",
       "  </thead>\n",
       "  <tbody>\n",
       "    <tr>\n",
       "      <th>0</th>\n",
       "      <td>0195153448</td>\n",
       "      <td>Classical Mythology</td>\n",
       "      <td>Mark P. O. Morford</td>\n",
       "      <td>2002</td>\n",
       "      <td>Oxford University Press</td>\n",
       "      <td>http://images.amazon.com/images/P/0195153448.0...</td>\n",
       "      <td>http://images.amazon.com/images/P/0195153448.0...</td>\n",
       "      <td>http://images.amazon.com/images/P/0195153448.0...</td>\n",
       "    </tr>\n",
       "    <tr>\n",
       "      <th>1</th>\n",
       "      <td>0002005018</td>\n",
       "      <td>Clara Callan</td>\n",
       "      <td>Richard Bruce Wright</td>\n",
       "      <td>2001</td>\n",
       "      <td>HarperFlamingo Canada</td>\n",
       "      <td>http://images.amazon.com/images/P/0002005018.0...</td>\n",
       "      <td>http://images.amazon.com/images/P/0002005018.0...</td>\n",
       "      <td>http://images.amazon.com/images/P/0002005018.0...</td>\n",
       "    </tr>\n",
       "    <tr>\n",
       "      <th>2</th>\n",
       "      <td>0060973129</td>\n",
       "      <td>Decision in Normandy</td>\n",
       "      <td>Carlo D'Este</td>\n",
       "      <td>1991</td>\n",
       "      <td>HarperPerennial</td>\n",
       "      <td>http://images.amazon.com/images/P/0060973129.0...</td>\n",
       "      <td>http://images.amazon.com/images/P/0060973129.0...</td>\n",
       "      <td>http://images.amazon.com/images/P/0060973129.0...</td>\n",
       "    </tr>\n",
       "    <tr>\n",
       "      <th>3</th>\n",
       "      <td>0374157065</td>\n",
       "      <td>Flu: The Story of the Great Influenza Pandemic...</td>\n",
       "      <td>Gina Bari Kolata</td>\n",
       "      <td>1999</td>\n",
       "      <td>Farrar Straus Giroux</td>\n",
       "      <td>http://images.amazon.com/images/P/0374157065.0...</td>\n",
       "      <td>http://images.amazon.com/images/P/0374157065.0...</td>\n",
       "      <td>http://images.amazon.com/images/P/0374157065.0...</td>\n",
       "    </tr>\n",
       "    <tr>\n",
       "      <th>4</th>\n",
       "      <td>0393045218</td>\n",
       "      <td>The Mummies of Urumchi</td>\n",
       "      <td>E. J. W. Barber</td>\n",
       "      <td>1999</td>\n",
       "      <td>W. W. Norton &amp;amp; Company</td>\n",
       "      <td>http://images.amazon.com/images/P/0393045218.0...</td>\n",
       "      <td>http://images.amazon.com/images/P/0393045218.0...</td>\n",
       "      <td>http://images.amazon.com/images/P/0393045218.0...</td>\n",
       "    </tr>\n",
       "  </tbody>\n",
       "</table>\n",
       "</div>"
      ],
      "text/plain": [
       "         ISBN                                         Book-Title  \\\n",
       "0  0195153448                                Classical Mythology   \n",
       "1  0002005018                                       Clara Callan   \n",
       "2  0060973129                               Decision in Normandy   \n",
       "3  0374157065  Flu: The Story of the Great Influenza Pandemic...   \n",
       "4  0393045218                             The Mummies of Urumchi   \n",
       "\n",
       "            Book-Author Year-Of-Publication                   Publisher  \\\n",
       "0    Mark P. O. Morford                2002     Oxford University Press   \n",
       "1  Richard Bruce Wright                2001       HarperFlamingo Canada   \n",
       "2          Carlo D'Este                1991             HarperPerennial   \n",
       "3      Gina Bari Kolata                1999        Farrar Straus Giroux   \n",
       "4       E. J. W. Barber                1999  W. W. Norton &amp; Company   \n",
       "\n",
       "                                         Image-URL-S  \\\n",
       "0  http://images.amazon.com/images/P/0195153448.0...   \n",
       "1  http://images.amazon.com/images/P/0002005018.0...   \n",
       "2  http://images.amazon.com/images/P/0060973129.0...   \n",
       "3  http://images.amazon.com/images/P/0374157065.0...   \n",
       "4  http://images.amazon.com/images/P/0393045218.0...   \n",
       "\n",
       "                                         Image-URL-M  \\\n",
       "0  http://images.amazon.com/images/P/0195153448.0...   \n",
       "1  http://images.amazon.com/images/P/0002005018.0...   \n",
       "2  http://images.amazon.com/images/P/0060973129.0...   \n",
       "3  http://images.amazon.com/images/P/0374157065.0...   \n",
       "4  http://images.amazon.com/images/P/0393045218.0...   \n",
       "\n",
       "                                         Image-URL-L  \n",
       "0  http://images.amazon.com/images/P/0195153448.0...  \n",
       "1  http://images.amazon.com/images/P/0002005018.0...  \n",
       "2  http://images.amazon.com/images/P/0060973129.0...  \n",
       "3  http://images.amazon.com/images/P/0374157065.0...  \n",
       "4  http://images.amazon.com/images/P/0393045218.0...  "
      ]
     },
     "execution_count": 12,
     "metadata": {},
     "output_type": "execute_result"
    }
   ],
   "source": [
    "book_df = pd.read_csv('../data/Books/Books.csv')\n",
    "book_df.head()"
   ]
  },
  {
   "cell_type": "code",
   "execution_count": 13,
   "id": "223ec7ee-8789-4bbb-84aa-6f85fee5cc40",
   "metadata": {},
   "outputs": [
    {
     "name": "stdout",
     "output_type": "stream",
     "text": [
      "レコード数: 271360\n"
     ]
    }
   ],
   "source": [
    "print(f\"レコード数: {len(book_df)}\")"
   ]
  },
  {
   "cell_type": "code",
   "execution_count": 40,
   "id": "e3472ad4-5415-41c2-ae40-d483ab736a8f",
   "metadata": {},
   "outputs": [
    {
     "data": {
      "text/plain": [
       "Book-Title\n",
       "Selected Poems                             27\n",
       "Little Women                               24\n",
       "Wuthering Heights                          21\n",
       "Dracula                                    20\n",
       "Adventures of Huckleberry Finn             20\n",
       "                                           ..\n",
       "Hinds Feet On High Places                   1\n",
       "Hinds Feet on High Places                   1\n",
       "Hinds Feet on High Places Women             1\n",
       "Hindsight: A Novel of the Class of 1972     1\n",
       "Ã?Â?thique en toc                           1\n",
       "Length: 242135, dtype: int64"
      ]
     },
     "execution_count": 40,
     "metadata": {},
     "output_type": "execute_result"
    }
   ],
   "source": [
    "# 同じ名前の本があるという紛らわしいこと\n",
    "book_df.groupby('Book-Title').size().sort_values(ascending=False)"
   ]
  },
  {
   "cell_type": "code",
   "execution_count": 16,
   "id": "36176ed2-dfb0-496a-9c5a-0ce12d51910d",
   "metadata": {},
   "outputs": [
    {
     "data": {
      "text/plain": [
       "Year-Of-Publication\n",
       "0                    3570\n",
       "1806                    1\n",
       "1900                    1\n",
       "1901                    7\n",
       "1902                    2\n",
       "                     ... \n",
       "2024                    1\n",
       "2030                    3\n",
       "2037                    1\n",
       "DK Publishing Inc       2\n",
       "Gallimard               1\n",
       "Length: 202, dtype: int64"
      ]
     },
     "execution_count": 16,
     "metadata": {},
     "output_type": "execute_result"
    }
   ],
   "source": [
    "book_df.groupby(\"Year-Of-Publication\").size()"
   ]
  },
  {
   "cell_type": "code",
   "execution_count": 68,
   "id": "ab280f04-6408-4ff3-b52c-29542ce97468",
   "metadata": {},
   "outputs": [
    {
     "data": {
      "text/plain": [
       "(1970.0, 2010.0)"
      ]
     },
     "execution_count": 68,
     "metadata": {},
     "output_type": "execute_result"
    },
    {
     "data": {
      "image/png": "[encoded data removed]",
      "text/plain": [
       "<Figure size 640x480 with 1 Axes>"
      ]
     },
     "metadata": {},
     "output_type": "display_data"
    }
   ],
   "source": [
    "# 西暦ではない後ろの２つは、履歴と一緒にあとで消す、とする。0もどうにかする。\n",
    "import matplotlib.pyplot as plt\n",
    "%matplotlib inline\n",
    "\n",
    "temp_df = book_df[(book_df[\"Year-Of-Publication\"]!=\"DK Publishing Inc\") & (book_df[\"Year-Of-Publication\"]!=\"Gallimard\")]\n",
    "temp_df = temp_df.astype({\"Year-Of-Publication\": int})\n",
    "temp_df = temp_df[temp_df[\"Year-Of-Publication\"]!=0]\n",
    "\n",
    "pub_dict = temp_df.groupby(\"Year-Of-Publication\").size().to_dict()\n",
    "\n",
    "figure, ax = plt.subplots()\n",
    "x = pub_dict.keys()\n",
    "y = pub_dict.values()\n",
    "ax.plot(x,y)\n",
    "ax.set_xlim([1970,2010])\n",
    "                                               "
   ]
  },
  {
   "cell_type": "code",
   "execution_count": 15,
   "id": "440b39e1-32a9-45c4-90db-b29c8c2eca40",
   "metadata": {},
   "outputs": [
    {
     "data": {
      "text/html": [
       "<div>\n",
       "<style scoped>\n",
       "    .dataframe tbody tr th:only-of-type {\n",
       "        vertical-align: middle;\n",
       "    }\n",
       "\n",
       "    .dataframe tbody tr th {\n",
       "        vertical-align: top;\n",
       "    }\n",
       "\n",
       "    .dataframe thead th {\n",
       "        text-align: right;\n",
       "    }\n",
       "</style>\n",
       "<table border=\"1\" class=\"dataframe\">\n",
       "  <thead>\n",
       "    <tr style=\"text-align: right;\">\n",
       "      <th></th>\n",
       "      <th>User-ID</th>\n",
       "      <th>ISBN</th>\n",
       "      <th>Book-Rating</th>\n",
       "    </tr>\n",
       "  </thead>\n",
       "  <tbody>\n",
       "    <tr>\n",
       "      <th>0</th>\n",
       "      <td>276725</td>\n",
       "      <td>034545104X</td>\n",
       "      <td>0</td>\n",
       "    </tr>\n",
       "    <tr>\n",
       "      <th>1</th>\n",
       "      <td>276726</td>\n",
       "      <td>0155061224</td>\n",
       "      <td>5</td>\n",
       "    </tr>\n",
       "    <tr>\n",
       "      <th>2</th>\n",
       "      <td>276727</td>\n",
       "      <td>0446520802</td>\n",
       "      <td>0</td>\n",
       "    </tr>\n",
       "    <tr>\n",
       "      <th>3</th>\n",
       "      <td>276729</td>\n",
       "      <td>052165615X</td>\n",
       "      <td>3</td>\n",
       "    </tr>\n",
       "    <tr>\n",
       "      <th>4</th>\n",
       "      <td>276729</td>\n",
       "      <td>0521795028</td>\n",
       "      <td>6</td>\n",
       "    </tr>\n",
       "  </tbody>\n",
       "</table>\n",
       "</div>"
      ],
      "text/plain": [
       "   User-ID        ISBN  Book-Rating\n",
       "0   276725  034545104X            0\n",
       "1   276726  0155061224            5\n",
       "2   276727  0446520802            0\n",
       "3   276729  052165615X            3\n",
       "4   276729  0521795028            6"
      ]
     },
     "execution_count": 15,
     "metadata": {},
     "output_type": "execute_result"
    }
   ],
   "source": [
    "rating_df = pd.read_csv('../data/Books/Ratings.csv')\n",
    "rating_df.head()"
   ]
  },
  {
   "cell_type": "code",
   "execution_count": null,
   "id": "771d9ee4-7d60-4a3e-9cde-1fd3cbc2af02",
   "metadata": {},
   "outputs": [],
   "source": []
  }
 ],
 "metadata": {
  "kernelspec": {
   "display_name": "Python 3 (ipykernel)",
   "language": "python",
   "name": "python3"
  },
  "language_info": {
   "codemirror_mode": {
    "name": "ipython",
    "version": 3
   },
   "file_extension": ".py",
   "mimetype": "text/x-python",
   "name": "python",
   "nbconvert_exporter": "python",
   "pygments_lexer": "ipython3",
   "version": "3.8.16"
  }
 },
 "nbformat": 4,
 "nbformat_minor": 5
}
