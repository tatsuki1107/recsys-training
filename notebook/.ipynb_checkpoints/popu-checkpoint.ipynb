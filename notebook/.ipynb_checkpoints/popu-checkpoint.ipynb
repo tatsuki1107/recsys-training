{
 "cells": [
  {
   "cell_type": "code",
   "execution_count": 1,
   "id": "27bebf78-6d0c-437f-8e2c-3519f149f0c4",
   "metadata": {},
   "outputs": [],
   "source": [
    "import pandas as pd\n",
    "\n",
    "train = pd.read_csv(\"../data/movielens/train_rating.csv\")\n",
    "test = pd.read_csv(\"../data/movielens/test_rating.csv\")"
   ]
  },
  {
   "cell_type": "code",
   "execution_count": 2,
   "id": "280af000-5d9a-432a-ac4f-7928ad9443ce",
   "metadata": {},
   "outputs": [],
   "source": [
    "df = pd.concat([train, test])"
   ]
  },
  {
   "cell_type": "code",
   "execution_count": 5,
   "id": "72166bbb-e220-41dc-8d22-d78986cf4f55",
   "metadata": {},
   "outputs": [],
   "source": [
    "item_count = df.groupby(\"movie_id\")[\"movie_id\"].count().sort_values(ascending=False).values\n",
    "item_rank = [r for r in range(len(item_count))]"
   ]
  },
  {
   "cell_type": "code",
   "execution_count": null,
   "id": "ef3e8425-d548-4041-a352-46d9b3db376a",
   "metadata": {},
   "outputs": [],
   "source": [
    "import seaborn as sns;sns.set()\n",
    "sns.relplot(x=item_rank, y=item_count)"
   ]
  },
  {
   "cell_type": "code",
   "execution_count": null,
   "id": "02bf37c4-14b4-4426-9cdf-e8e9a1842b4c",
   "metadata": {},
   "outputs": [],
   "source": []
  }
 ],
 "metadata": {
  "kernelspec": {
   "display_name": "Python 3 (ipykernel)",
   "language": "python",
   "name": "python3"
  },
  "language_info": {
   "codemirror_mode": {
    "name": "ipython",
    "version": 3
   },
   "file_extension": ".py",
   "mimetype": "text/x-python",
   "name": "python",
   "nbconvert_exporter": "python",
   "pygments_lexer": "ipython3",
   "version": "3.8.16"
  }
 },
 "nbformat": 4,
 "nbformat_minor": 5
}
