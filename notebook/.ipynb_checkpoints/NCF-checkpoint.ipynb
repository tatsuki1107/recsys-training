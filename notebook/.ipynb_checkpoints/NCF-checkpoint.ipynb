{
 "cells": [
  {
   "cell_type": "markdown",
   "id": "03d0c265-e6c1-4f5a-861c-76bdf8e89d9e",
   "metadata": {},
   "source": [
    "# Neural Collaborative Filtering"
   ]
  },
  {
   "cell_type": "code",
   "execution_count": 3,
   "id": "a39a42a9-e104-4e3d-a336-f1e5baa617f5",
   "metadata": {},
   "outputs": [],
   "source": [
    "import torch\n",
    "from torch import nn, optim\n",
    "import numpy as np\n",
    "\n",
    "# ユーザー数、アイテム数、評価値の範囲\n",
    "num_users = 50\n",
    "num_items = 50\n",
    "max_rating = 5\n",
    "min_rating = 1\n",
    "\n",
    "# データセットの生成\n",
    "ratings = np.random.randint(min_rating, max_rating+1, size=(num_users, num_items))\n",
    "ratings = (ratings-1)/4\n",
    "\n",
    "# ネットワークの定義\n",
    "class NCF(nn.Module):\n",
    "    def __init__(self, num_users, num_items, factor_num=5, layers=[10,5]):\n",
    "        super(NCF, self).__init__()\n",
    "        self.num_users = num_users\n",
    "        self.num_items = num_items\n",
    "        self.factor_num = factor_num\n",
    "        self.layers = layers\n",
    "\n",
    "        self.embedding_user = nn.Embedding(num_embeddings=self.num_users, embedding_dim=5)\n",
    "        self.embedding_item = nn.Embedding(num_embeddings=self.num_items, embedding_dim=5)\n",
    "\n",
    "        self.fc_layers = nn.ModuleList()\n",
    "        for idx, (in_size, out_size) in enumerate(zip(self.layers[:-1], self.layers[1:])):\n",
    "            self.fc_layers.append(nn.Linear(in_size, out_size))\n",
    "\n",
    "        self.affine_output = nn.Linear(in_features=self.layers[-1], out_features=1)\n",
    "        self.logistic = nn.Sigmoid()\n",
    "\n",
    "    def forward(self, user_indices, item_indices):\n",
    "        user_embedding = self.embedding_user(user_indices)\n",
    "        item_embedding = self.embedding_item(item_indices)\n",
    "        vector = torch.cat([user_embedding, item_embedding], dim=-1)  # the concat latent vector\n",
    "        for idx, _ in enumerate(range(len(self.fc_layers))):\n",
    "            vector = self.fc_layers[idx](vector)\n",
    "            vector = nn.ReLU()(vector)\n",
    "        logits = self.affine_output(vector)\n",
    "        rating = self.logistic(logits)\n",
    "        return rating\n"
   ]
  },
  {
   "cell_type": "code",
   "execution_count": 4,
   "id": "4e337c5f-f571-4c00-b2f3-d2bb37aaf987",
   "metadata": {},
   "outputs": [],
   "source": [
    "model = NCF(num_users, num_items)\n",
    "loss_function = nn.BCELoss()\n",
    "optimizer = optim.Adam(model.parameters(), lr=0.0001)"
   ]
  },
  {
   "cell_type": "code",
   "execution_count": 5,
   "id": "72375cff-8907-4a9a-b983-db557844c490",
   "metadata": {},
   "outputs": [],
   "source": [
    "losses = []\n",
    "for epoch in range(10):\n",
    "    model.train() # Enable dropout (if have).\n",
    "    \n",
    "    epoch_loss = 0.0\n",
    "    for user_index in range(num_users):\n",
    "        for item_index in range(num_items):\n",
    "            rating = float(ratings[user_index, item_index])\n",
    "            label = torch.FloatTensor([[rating]])\n",
    "        \n",
    "            optimizer.zero_grad()\n",
    "            user = torch.LongTensor([user_index])\n",
    "            item = torch.LongTensor([item_index])\n",
    "            prediction = model(user, item)\n",
    "            \n",
    "            loss = loss_function(prediction, label)\n",
    "            loss.backward()\n",
    "            optimizer.step()\n",
    "            epoch_loss+=loss.item()\n",
    "    \n",
    "    losses.append(epoch_loss/(num_users*num_items))\n",
    "    model.eval()"
   ]
  },
  {
   "cell_type": "code",
   "execution_count": 6,
   "id": "9e1784ef-bdd8-4d9c-a922-831db3b35714",
   "metadata": {},
   "outputs": [
    {
     "data": {
      "text/plain": [
       "[0.6988408488035202,\n",
       " 0.6969971101880074,\n",
       " 0.6958758408546448,\n",
       " 0.6950538464546203,\n",
       " 0.6943823150038719,\n",
       " 0.6938250337600708,\n",
       " 0.693351780462265,\n",
       " 0.6929443723917007,\n",
       " 0.6925905404210091,\n",
       " 0.6922729956626892]"
      ]
     },
     "execution_count": 6,
     "metadata": {},
     "output_type": "execute_result"
    }
   ],
   "source": [
    "losses"
   ]
  },
  {
   "cell_type": "code",
   "execution_count": null,
   "id": "a2c401c1-42ce-47fd-afbb-2a1e117f508a",
   "metadata": {},
   "outputs": [],
   "source": []
  }
 ],
 "metadata": {
  "kernelspec": {
   "display_name": "Python 3 (ipykernel)",
   "language": "python",
   "name": "python3"
  },
  "language_info": {
   "codemirror_mode": {
    "name": "ipython",
    "version": 3
   },
   "file_extension": ".py",
   "mimetype": "text/x-python",
   "name": "python",
   "nbconvert_exporter": "python",
   "pygments_lexer": "ipython3",
   "version": "3.8.16"
  }
 },
 "nbformat": 4,
 "nbformat_minor": 5
}
