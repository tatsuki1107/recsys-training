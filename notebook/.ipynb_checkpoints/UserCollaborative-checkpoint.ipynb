{
 "cells": [
  {
   "cell_type": "markdown",
   "metadata": {},
   "source": [
    "# ユーザベース協調フィルタリング\n",
    "\n",
    "### 嗜好予測アルゴリズムは以下の通り\n",
    "\n",
    "$$\n",
    "\\hat{r}_{u,i} = \\begin{cases}\n",
    " \\overline{r}_{u} + \\frac{\\sum_{v \\in U_{i}^{u}} \\mathrm{sim}(u, v) \\cdot r_{v,i}^{'}}{\\sum_{v \\in U_{i}^{u}} \\mid \\mathrm{sim} (u, v) \\mid} & (U_{i}^{u} \\neq \\emptyset)\\\\\n",
    " \\overline{r}_{u} & (U_{i}^{u} = \\emptyset)\n",
    "\\end{cases}\n",
    "$$\n"
   ]
  },
  {
   "cell_type": "code",
   "execution_count": 19,
   "metadata": {},
   "outputs": [],
   "source": [
    "import sys; sys.path.insert(0, '..')\n",
    "\n",
    "from util.data_loader import DataLoader\n",
    "Data = DataLoader.userItemMatrix()"
   ]
  },
  {
   "cell_type": "code",
   "execution_count": 20,
   "metadata": {},
   "outputs": [
    {
     "data": {
      "text/plain": [
       "array([[nan,  4.,  3.,  1.,  2., nan],\n",
       "       [ 5.,  5.,  4., nan,  3.,  3.],\n",
       "       [ 4., nan,  5.,  3.,  2., nan],\n",
       "       [nan,  3., nan,  2.,  1.,  1.],\n",
       "       [ 2.,  1.,  2.,  4., nan,  3.]])"
      ]
     },
     "execution_count": 20,
     "metadata": {},
     "output_type": "execute_result"
    }
   ],
   "source": [
    "Data"
   ]
  },
  {
   "cell_type": "code",
   "execution_count": 21,
   "metadata": {},
   "outputs": [
    {
     "data": {
      "text/plain": [
       "array([[3.289, 4.   , 3.   , 1.   , 2.   , 1.601],\n",
       "       [5.   , 5.   , 4.   , 3.449, 3.   , 3.   ],\n",
       "       [4.   , 4.747, 5.   , 3.   , 2.   , 2.638],\n",
       "       [2.524, 3.   , 2.384, 2.   , 1.   , 1.   ],\n",
       "       [2.   , 1.   , 2.   , 4.   , 2.4  , 3.   ]])"
      ]
     },
     "execution_count": 21,
     "metadata": {},
     "output_type": "execute_result"
    }
   ],
   "source": [
    "from src.userCollaborative import UserCollaborativeRecommender\n",
    "\n",
    "# 近傍ユーザ数\n",
    "K_USERS = 3\n",
    "# 閾値\n",
    "THETA = 0\n",
    "\n",
    "recommender = UserCollaborativeRecommender()\n",
    "rui_pred = recommender.recommend(Data, K_USERS, THETA)\n",
    "rui_pred"
   ]
  },
  {
   "cell_type": "code",
   "execution_count": null,
   "metadata": {},
   "outputs": [],
   "source": []
  }
 ],
 "metadata": {
  "kernelspec": {
   "display_name": "Python 3",
   "language": "python",
   "name": "python3"
  },
  "language_info": {
   "codemirror_mode": {
    "name": "ipython",
    "version": 3
   },
   "file_extension": ".py",
   "mimetype": "text/x-python",
   "name": "python",
   "nbconvert_exporter": "python",
   "pygments_lexer": "ipython3",
   "version": "3.7.4"
  }
 },
 "nbformat": 4,
 "nbformat_minor": 4
}
