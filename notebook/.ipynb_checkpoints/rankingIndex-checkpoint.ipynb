{
 "cells": [
  {
   "cell_type": "markdown",
   "metadata": {},
   "source": [
    "# 推薦順位に基づく正確性"
   ]
  },
  {
   "cell_type": "code",
   "execution_count": 1,
   "metadata": {},
   "outputs": [],
   "source": [
    "import math\n",
    "import numpy as np\n",
    "np.set_printoptions(precision=3)\n",
    "\n",
    "# 上位K件\n",
    "TOP_K = 5\n",
    "# 対数の底\n",
    "ALPHA = 2\n",
    "\n",
    "# テストデータ\n",
    "R = np.array([\n",
    "              [5, 4,      3, np.nan, 5, 4,      2,      2,      np.nan, np.nan],\n",
    "              [3, 3,      3, 3,      2, np.nan, 4,      np.nan, 5,      np.nan],\n",
    "              [4, np.nan, 3, 5,      4, 3,      np.nan, 3,      np.nan, np.nan],\n",
    "])\n",
    "U = np.arange(R.shape[0])\n",
    "I = np.arange(R.shape[1])\n",
    "Iu = [I[~np.isnan(R)[u,:]] for u in U]\n",
    "\n",
    "# 推薦システムAによる推薦リスト\n",
    "RA = np.array([\n",
    "               [1,      np.nan, 3,      np.nan, 4,      2,      5,      np.nan, np.nan, np.nan],\n",
    "               [4,      1,      np.nan, 3,      np.nan, np.nan, 5,      np.nan, 2,      np.nan],\n",
    "               [np.nan, np.nan, 5,      3,      4,      2,      np.nan, 1,      np.nan, np.nan],\n",
    "])\n",
    "\n",
    "def confusion_matrix(u, RS, K):\n",
    "    \"\"\"\n",
    "    ユーザu向け推薦リストRSの上位K件における混同行列の各値を返す。\n",
    "\n",
    "    Parameters\n",
    "    ----------\n",
    "    u : int\n",
    "        ユーザuのID\n",
    "    RS : ndarray\n",
    "        推薦リストRS\n",
    "    K : int\n",
    "        上位K件\n",
    "\n",
    "    Returns\n",
    "    -------\n",
    "    int\n",
    "        TP\n",
    "    int\n",
    "        FN\n",
    "    int\n",
    "        FP\n",
    "    int\n",
    "        TN\n",
    "    \"\"\"\n",
    "    like = R[u,Iu[u]]>=4\n",
    "    recommended = RS[u,Iu[u]]<=K\n",
    "    TP = np.count_nonzero(np.logical_and(like, recommended))\n",
    "    FN = np.count_nonzero(np.logical_and(like, ~recommended))\n",
    "    FP = np.count_nonzero(np.logical_and(~like, recommended))\n",
    "    TN = np.count_nonzero(np.logical_and(~like, ~recommended))\n",
    "    return TP, FN, FP, TN"
   ]
  },
  {
   "cell_type": "markdown",
   "metadata": {},
   "source": [
    "# 平均逆順位"
   ]
  },
  {
   "cell_type": "code",
   "execution_count": 2,
   "metadata": {},
   "outputs": [
    {
     "name": "stdout",
     "output_type": "stream",
     "text": [
      "like = \n",
      "[[ True  True False False  True  True False False False False]\n",
      " [False False False False False False  True False  True False]\n",
      " [ True False False  True  True False False False False False]]\n"
     ]
    }
   ],
   "source": [
    "u = 0\n",
    "# 問１\n",
    "like = R>=4\n",
    "print('like = \\n{}'.format(like))"
   ]
  },
  {
   "cell_type": "code",
   "execution_count": 3,
   "metadata": {},
   "outputs": [
    {
     "name": "stdout",
     "output_type": "stream",
     "text": [
      "ku = [1. 2. 3.]\n"
     ]
    }
   ],
   "source": [
    "# 問２\n",
    "ku = np.array([np.nanmin(RA[u,:][like[u,:]]) for u in U])\n",
    "print('ku = {}'.format(ku))"
   ]
  },
  {
   "cell_type": "code",
   "execution_count": 4,
   "metadata": {},
   "outputs": [
    {
     "name": "stdout",
     "output_type": "stream",
     "text": [
      "MRR = 0.611\n"
     ]
    }
   ],
   "source": [
    "# 問３\n",
    "MRR = np.sum(1/ku)/len(U)\n",
    "print('MRR = {:.3f}'.format(MRR))"
   ]
  },
  {
   "cell_type": "markdown",
   "metadata": {},
   "source": [
    "# 平均適合率"
   ]
  },
  {
   "cell_type": "code",
   "execution_count": 5,
   "metadata": {},
   "outputs": [
    {
     "name": "stdout",
     "output_type": "stream",
     "text": [
      "precisions = \n",
      "[[1.0, 1.0, 0.6666666666666666, 0.75, 0.6, 0.6, 0.6], [0.0, 0.5, 0.3333333333333333, 0.25, 0.4, 0.4, 0.4], [0.0, 0.0, 0.3333333333333333, 0.5, 0.4, 0.4]]\n"
     ]
    }
   ],
   "source": [
    "# 各順位における適合率\n",
    "precisions = []\n",
    "for u in U:\n",
    "    precisions_u = []\n",
    "    for k in range(1, Iu[u].size+1):\n",
    "        TP, FN, FP, TN = confusion_matrix(u, RA, k)\n",
    "        precision_uk = TP / (TP+FP)\n",
    "        precisions_u.append(precision_uk)\n",
    "    precisions.append(precisions_u)\n",
    "print('precisions = \\n{}'.format(precisions))"
   ]
  },
  {
   "cell_type": "code",
   "execution_count": 6,
   "metadata": {},
   "outputs": [
    {
     "name": "stdout",
     "output_type": "stream",
     "text": [
      "ranked_R = \n",
      "[[ 5.  4.  3.  5.  2.  4. nan  2. nan nan]\n",
      " [ 3.  5.  3.  3.  4.  3.  2. nan nan nan]\n",
      " [ 3.  3.  5.  4.  3.  4. nan nan nan nan]]\n"
     ]
    }
   ],
   "source": [
    "# 問４\n",
    "ranked_R = np.array([R[u,np.argsort(RA[u,:], axis=0)] for u in U])\n",
    "print('ranked_R = \\n{}'.format(ranked_R))"
   ]
  },
  {
   "cell_type": "code",
   "execution_count": 7,
   "metadata": {},
   "outputs": [
    {
     "name": "stdout",
     "output_type": "stream",
     "text": [
      "ranked_like = \n",
      "[[ True  True False  True False  True False False False False]\n",
      " [False  True False False  True False False False False False]\n",
      " [False False  True  True False  True False False False False]]\n"
     ]
    }
   ],
   "source": [
    "# 問５\n",
    "ranked_like = ranked_R>=4\n",
    "print('ranked_like = \\n{}'.format(ranked_like))"
   ]
  },
  {
   "cell_type": "code",
   "execution_count": 8,
   "metadata": {},
   "outputs": [
    {
     "name": "stdout",
     "output_type": "stream",
     "text": [
      "rel = \n",
      "[[1 1 0 1 0 1 0 0 0 0]\n",
      " [0 1 0 0 1 0 0 0 0 0]\n",
      " [0 0 1 1 0 1 0 0 0 0]]\n"
     ]
    }
   ],
   "source": [
    "# 問６\n",
    "rel = np.array([list(map(int, ranked_like[u,:])) for u in U])\n",
    "print('rel = \\n{}'.format(rel))"
   ]
  },
  {
   "cell_type": "code",
   "execution_count": 9,
   "metadata": {},
   "outputs": [
    {
     "name": "stdout",
     "output_type": "stream",
     "text": [
      "APu = [0.917 0.45  0.417]\n"
     ]
    }
   ],
   "source": [
    "# 問７\n",
    "APu = np.array([np.sum([rel[u,k]*precisions[u][k] for k in np.arange(TOP_K)])/np.sum([rel[u,i] for i in np.arange(TOP_K)]) for u in U])\n",
    "print('APu = {}'.format(APu))"
   ]
  },
  {
   "cell_type": "code",
   "execution_count": 10,
   "metadata": {},
   "outputs": [
    {
     "name": "stdout",
     "output_type": "stream",
     "text": [
      "MAP = 0.594\n"
     ]
    }
   ],
   "source": [
    "# 問８\n",
    "MAP = np.sum(APu)/APu.size\n",
    "print('MAP = {:.3f}'.format(MAP))"
   ]
  },
  {
   "cell_type": "markdown",
   "metadata": {},
   "source": [
    "# DCG"
   ]
  },
  {
   "cell_type": "code",
   "execution_count": 38,
   "metadata": {},
   "outputs": [
    {
     "name": "stdout",
     "output_type": "stream",
     "text": [
      "DCGu = [14.254 13.115 12.447]\n"
     ]
    }
   ],
   "source": [
    "Iu_rec = [I[~np.isnan(RA[u])] for u in U]\n",
    "# 問９\n",
    "DCGu = np.array([np.sum([R[u,Iu_rec[u]][k]/ np.max([1, math.log(RA[u,Iu_rec[u]][k], ALPHA)]) for k in range(TOP_K)]) for u in U])\n",
    "print('DCGu = {}'.format(DCGu))"
   ]
  },
  {
   "cell_type": "code",
   "execution_count": 53,
   "metadata": {},
   "outputs": [
    {
     "name": "stdout",
     "output_type": "stream",
     "text": [
      "RI = \n",
      "[[ 1  3  5  8  2  4  6  7  9 10]\n",
      " [ 3  4  5  6  7  8  2  9  1 10]\n",
      " [ 2  7  4  1  3  5  8  6  9 10]]\n"
     ]
    }
   ],
   "source": [
    "# 問10\n",
    "RI = np.argsort(np.argsort(-R))+1\n",
    "print('RI = \\n{}'.format(RI))"
   ]
  },
  {
   "cell_type": "code",
   "execution_count": 61,
   "metadata": {},
   "outputs": [
    {
     "name": "stdout",
     "output_type": "stream",
     "text": [
      "Iu_recI = \n",
      "[[0 1 2 4 5]\n",
      " [0 1 2 6 8]\n",
      " [0 2 3 4 5]]\n"
     ]
    }
   ],
   "source": [
    "# 問11\n",
    "Iu_recI = np.array([I[RI[u]<= TOP_K] for u in U])\n",
    "print('Iu_recI = \\n{}'.format(Iu_recI))"
   ]
  },
  {
   "cell_type": "code",
   "execution_count": 88,
   "metadata": {},
   "outputs": [
    {
     "name": "stdout",
     "output_type": "stream",
     "text": [
      "IDCGu = [15.816 13.685 14.316]\n"
     ]
    }
   ],
   "source": [
    "#　問１２\n",
    "IDCGu = np.array([np.sum([R[u,Iu_recI[u]][np.argsort(-R[u,Iu_recI[u]])][k]/np.max([1, math.log(k+1, ALPHA)]) for k in range(TOP_K)]) for u in U])\n",
    "print('IDCGu = {}'.format(IDCGu))"
   ]
  },
  {
   "cell_type": "code",
   "execution_count": 90,
   "metadata": {},
   "outputs": [
    {
     "name": "stdout",
     "output_type": "stream",
     "text": [
      "nDCGu = [0.901 0.958 0.869]\n"
     ]
    }
   ],
   "source": [
    "# 問１３\n",
    "nDCGu = DCGu/IDCGu\n",
    "print('nDCGu = {}'.format(nDCGu))"
   ]
  },
  {
   "cell_type": "code",
   "execution_count": 92,
   "metadata": {},
   "outputs": [
    {
     "name": "stdout",
     "output_type": "stream",
     "text": [
      "nDCG = 0.910\n"
     ]
    }
   ],
   "source": [
    "# 問14\n",
    "nDCG = np.sum(nDCGu)/nDCGu.size\n",
    "print('nDCG = {:.3f}'.format(nDCG))"
   ]
  },
  {
   "cell_type": "code",
   "execution_count": null,
   "metadata": {},
   "outputs": [],
   "source": []
  }
 ],
 "metadata": {
  "kernelspec": {
   "display_name": "Python 3",
   "language": "python",
   "name": "python3"
  },
  "language_info": {
   "codemirror_mode": {
    "name": "ipython",
    "version": 3
   },
   "file_extension": ".py",
   "mimetype": "text/x-python",
   "name": "python",
   "nbconvert_exporter": "python",
   "pygments_lexer": "ipython3",
   "version": "3.7.4"
  }
 },
 "nbformat": 4,
 "nbformat_minor": 4
}
