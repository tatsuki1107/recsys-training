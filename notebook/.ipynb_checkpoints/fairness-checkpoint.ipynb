{
 "cells": [
  {
   "cell_type": "markdown",
   "id": "09683355-9bec-4a32-91ec-c28e49fac670",
   "metadata": {},
   "source": [
    "# Nash Social Welfare 最大化実装"
   ]
  },
  {
   "cell_type": "code",
   "execution_count": 1,
   "id": "61672d0e-264a-4f9b-a5d4-a56b22088a52",
   "metadata": {},
   "outputs": [],
   "source": [
    "import pandas as pd\n",
    "import numpy as np"
   ]
  },
  {
   "cell_type": "code",
   "execution_count": 2,
   "id": "907ac283-e773-4b0b-9660-c28e604c9e16",
   "metadata": {},
   "outputs": [
    {
     "data": {
      "text/html": [
       "<div>\n",
       "<style scoped>\n",
       "    .dataframe tbody tr th:only-of-type {\n",
       "        vertical-align: middle;\n",
       "    }\n",
       "\n",
       "    .dataframe tbody tr th {\n",
       "        vertical-align: top;\n",
       "    }\n",
       "\n",
       "    .dataframe thead th {\n",
       "        text-align: right;\n",
       "    }\n",
       "</style>\n",
       "<table border=\"1\" class=\"dataframe\">\n",
       "  <thead>\n",
       "    <tr style=\"text-align: right;\">\n",
       "      <th></th>\n",
       "      <th>リンゴ</th>\n",
       "      <th>バナナ</th>\n",
       "      <th>イチゴ</th>\n",
       "    </tr>\n",
       "  </thead>\n",
       "  <tbody>\n",
       "    <tr>\n",
       "      <th>父</th>\n",
       "      <td>0.8</td>\n",
       "      <td>0.1</td>\n",
       "      <td>0.1</td>\n",
       "    </tr>\n",
       "    <tr>\n",
       "      <th>母</th>\n",
       "      <td>0.2</td>\n",
       "      <td>0.0</td>\n",
       "      <td>0.9</td>\n",
       "    </tr>\n",
       "    <tr>\n",
       "      <th>子</th>\n",
       "      <td>0.3</td>\n",
       "      <td>0.0</td>\n",
       "      <td>0.8</td>\n",
       "    </tr>\n",
       "  </tbody>\n",
       "</table>\n",
       "</div>"
      ],
      "text/plain": [
       "   リンゴ  バナナ  イチゴ\n",
       "父  0.8  0.1  0.1\n",
       "母  0.2  0.0  0.9\n",
       "子  0.3  0.0  0.8"
      ]
     },
     "execution_count": 2,
     "metadata": {},
     "output_type": "execute_result"
    }
   ],
   "source": [
    "df = pd.DataFrame(data={\"リンゴ\": [0.8, 0.2, 0.3], \"バナナ\": [0.1, 0.0, 0.0], \"イチゴ\": [0.1, 0.9, 0.8]}, index=[\"父\",\"母\",\"子\"])\n",
    "df"
   ]
  },
  {
   "cell_type": "code",
   "execution_count": 3,
   "id": "649c20ec-94ec-4f01-98b7-b7cce5a48604",
   "metadata": {},
   "outputs": [],
   "source": [
    "rui = df.to_numpy()"
   ]
  },
  {
   "cell_type": "code",
   "execution_count": 4,
   "id": "22c64786-8faa-4abb-adff-3be55c83c8df",
   "metadata": {},
   "outputs": [
    {
     "name": "stdout",
     "output_type": "stream",
     "text": [
      "Number of valid matrices: 1728\n"
     ]
    }
   ],
   "source": [
    "import itertools\n",
    "\n",
    "elements = [0, 0.2, 0.5, 0.8, 1]  # 取り得る値のリスト\n",
    "combinations = list(itertools.product(elements, repeat=9))  # 要素の全ての組み合わせを生成\n",
    "\n",
    "valid_matrices = []  # 条件を満たす行列のリスト\n",
    "\n",
    "# 全ての組み合わせについてチェック\n",
    "for combination in combinations:\n",
    "    matrix = np.array(combination).reshape((3, 3))  # 3x3の行列に変形\n",
    "    if np.allclose(np.sum(matrix, axis=0), np.ones(3)):  # 列の合計が1になるかチェック\n",
    "        valid_matrices.append(matrix)\n",
    "\n",
    "print(\"Number of valid matrices:\", len(valid_matrices))  "
   ]
  },
  {
   "cell_type": "code",
   "execution_count": 6,
   "id": "de8eba52-cb81-432c-b356-8c3cd399391f",
   "metadata": {},
   "outputs": [
    {
     "name": "stdout",
     "output_type": "stream",
     "text": [
      "最大総積: 0.16\n",
      "[[1.  1.  0. ]\n",
      " [0.  0.  0.5]\n",
      " [0.  0.  0.5]]\n",
      "---------------------------------------------------------------------\n",
      "最大総和: 1.80\n",
      "[[1 1 0]\n",
      " [0 0 1]\n",
      " [0 0 0]]\n",
      "---------------------------------------------------------------------\n",
      "[[0.8 0.1 0.1]\n",
      " [0.2 0.  0.9]\n",
      " [0.3 0.  0.8]]\n"
     ]
    }
   ],
   "source": [
    "prodMap = []\n",
    "sumMap = []\n",
    "for i, divide in enumerate(valid_matrices):\n",
    "    prodMap.append(tuple((i ,np.prod(np.sum(divide*rui,axis=1)))))\n",
    "    sumMap.append(tuple((i ,np.sum(np.sum(divide*rui,axis=1)))))\n",
    "\n",
    "max_prod = sorted(prodMap, key=lambda x:x[1], reverse=True)[0]\n",
    "max_sum = sorted(sumMap, key=lambda x:x[1], reverse=True)[0]\n",
    "\n",
    "print(f'最大総積: {max_prod[1]:.2f}') \n",
    "print(valid_matrices[max_prod[0]])\n",
    "print('---------------------------------------------------------------------')\n",
    "print(f'最大総和: {max_sum[1]:.2f}')\n",
    "print(valid_matrices[max_sum[0]])\n",
    "print('---------------------------------------------------------------------')\n",
    "print(rui)"
   ]
  },
  {
   "cell_type": "markdown",
   "id": "70980c9d-0dc9-46d9-af62-8336b70b41ff",
   "metadata": {},
   "source": [
    "# Fair Ranking as Fair Division: Impact-Based Individual Fairness in Ranking (KDD'22)"
   ]
  },
  {
   "cell_type": "code",
   "execution_count": 58,
   "id": "dfeb0ebc-95fb-45b8-be17-a8c16471d1cd",
   "metadata": {},
   "outputs": [],
   "source": [
    "rui = np.random.rand(100,50)\n",
    "exposure = [1.0, 0]"
   ]
  },
  {
   "cell_type": "code",
   "execution_count": 59,
   "id": "17851c7f-6a97-4e5d-9a45-02b457c57bc2",
   "metadata": {},
   "outputs": [],
   "source": [
    "recommend = np.argsort(-rui)[:,:2]"
   ]
  },
  {
   "cell_type": "code",
   "execution_count": 61,
   "id": "d04c2047-39e3-4455-a685-fe8afe3b5916",
   "metadata": {},
   "outputs": [],
   "source": [
    "imp_i = dict()\n",
    "for user_index, item_list in enumerate(recommend):\n",
    "    imp = rui[len(exposure)*[user_index],recommend[user_index]] * exposure\n",
    "    for i in range(len(item_list)):\n",
    "        item_index = item_list[i]\n",
    "        imp_i[item_index] = imp[i] + imp_i.get(item_index, 0)\n",
    "        "
   ]
  },
  {
   "cell_type": "code",
   "execution_count": null,
   "id": "7e5bfcf7-a7fe-4ff8-a524-81dee5d4ac7c",
   "metadata": {},
   "outputs": [],
   "source": []
  }
 ],
 "metadata": {
  "kernelspec": {
   "display_name": "Python 3 (ipykernel)",
   "language": "python",
   "name": "python3"
  },
  "language_info": {
   "codemirror_mode": {
    "name": "ipython",
    "version": 3
   },
   "file_extension": ".py",
   "mimetype": "text/x-python",
   "name": "python",
   "nbconvert_exporter": "python",
   "pygments_lexer": "ipython3",
   "version": "3.8.16"
  }
 },
 "nbformat": 4,
 "nbformat_minor": 5
}
