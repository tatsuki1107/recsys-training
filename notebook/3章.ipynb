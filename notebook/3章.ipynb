{
 "cells": [
  {
   "cell_type": "markdown",
   "metadata": {},
   "source": [
    "## cosine類似度を用いた上位K件の内容ベース推薦"
   ]
  },
  {
   "cell_type": "code",
   "execution_count": 1,
   "metadata": {},
   "outputs": [],
   "source": [
    "import sys; sys.path.insert(0, '..')\n",
    "\n",
    "from util.data_loader import DataLoader\n",
    "Data = DataLoader.load()"
   ]
  },
  {
   "cell_type": "code",
   "execution_count": 2,
   "metadata": {},
   "outputs": [
    {
     "data": {
      "text/plain": [
       "array([[ 5.,  3.,  1.],\n",
       "       [ 6.,  2.,  1.],\n",
       "       [ 4.,  1.,  1.],\n",
       "       [ 8.,  5., -1.],\n",
       "       [ 2.,  4., -1.],\n",
       "       [ 3.,  6., -1.],\n",
       "       [ 7.,  6., -1.],\n",
       "       [ 4.,  2., nan],\n",
       "       [ 5.,  1., nan],\n",
       "       [ 8.,  6., nan],\n",
       "       [ 3.,  4., nan],\n",
       "       [ 4.,  7., nan],\n",
       "       [ 4.,  4., nan]])"
      ]
     },
     "execution_count": 2,
     "metadata": {},
     "output_type": "execute_result"
    }
   ],
   "source": [
    "Data"
   ]
  },
  {
   "cell_type": "code",
   "execution_count": 5,
   "metadata": {},
   "outputs": [],
   "source": [
    "from src.cosine import CosineRecommender\n",
    "recommender = CosineRecommender()\n",
    "rec_list = recommender.recommend(Data, 4)"
   ]
  },
  {
   "cell_type": "code",
   "execution_count": 6,
   "metadata": {},
   "outputs": [
    {
     "data": {
      "text/plain": [
       "{7: 0.9965457582448796,\n",
       " 8: 0.9832820049844603,\n",
       " 9: 0.9656157585206697,\n",
       " 12: 0.9191450300180578}"
      ]
     },
     "execution_count": 6,
     "metadata": {},
     "output_type": "execute_result"
    }
   ],
   "source": [
    "rec_list"
   ]
  },
  {
   "cell_type": "code",
   "execution_count": null,
   "metadata": {},
   "outputs": [],
   "source": []
  }
 ],
 "metadata": {
  "kernelspec": {
   "display_name": "Python 3",
   "language": "python",
   "name": "python3"
  },
  "language_info": {
   "codemirror_mode": {
    "name": "ipython",
    "version": 3
   },
   "file_extension": ".py",
   "mimetype": "text/x-python",
   "name": "python",
   "nbconvert_exporter": "python",
   "pygments_lexer": "ipython3",
   "version": "3.7.4"
  }
 },
 "nbformat": 4,
 "nbformat_minor": 4
}
