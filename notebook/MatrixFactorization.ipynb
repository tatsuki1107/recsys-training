{
 "cells": [
  {
   "cell_type": "markdown",
   "metadata": {},
   "source": [
    "# Matrix Factorization"
   ]
  },
  {
   "cell_type": "code",
   "execution_count": 20,
   "metadata": {},
   "outputs": [],
   "source": [
    "import pandas as pd\n",
    "import numpy as np\n",
    "import matplotlib.pyplot as plt\n",
    "import sys; sys.path.insert(0, \"..\")"
   ]
  },
  {
   "cell_type": "code",
   "execution_count": 21,
   "metadata": {},
   "outputs": [],
   "source": [
    "from util.data_loader import DataLoader\n",
    "rating = DataLoader.train_rating()\n",
    "test = DataLoader.test_rating()\n",
    "item = DataLoader.item()"
   ]
  },
  {
   "cell_type": "code",
   "execution_count": 22,
   "metadata": {},
   "outputs": [],
   "source": [
    "rating_df = pd.DataFrame(rating)\n",
    "item_df = pd.DataFrame(item)"
   ]
  },
  {
   "cell_type": "code",
   "execution_count": 23,
   "metadata": {},
   "outputs": [
    {
     "data": {
      "text/html": [
       "<div>\n",
       "<style scoped>\n",
       "    .dataframe tbody tr th:only-of-type {\n",
       "        vertical-align: middle;\n",
       "    }\n",
       "\n",
       "    .dataframe tbody tr th {\n",
       "        vertical-align: top;\n",
       "    }\n",
       "\n",
       "    .dataframe thead th {\n",
       "        text-align: right;\n",
       "    }\n",
       "</style>\n",
       "<table border=\"1\" class=\"dataframe\">\n",
       "  <thead>\n",
       "    <tr style=\"text-align: right;\">\n",
       "      <th>item_id</th>\n",
       "      <th>1</th>\n",
       "      <th>2</th>\n",
       "      <th>3</th>\n",
       "      <th>4</th>\n",
       "      <th>5</th>\n",
       "      <th>6</th>\n",
       "      <th>7</th>\n",
       "      <th>8</th>\n",
       "      <th>9</th>\n",
       "    </tr>\n",
       "    <tr>\n",
       "      <th>user_id</th>\n",
       "      <th></th>\n",
       "      <th></th>\n",
       "      <th></th>\n",
       "      <th></th>\n",
       "      <th></th>\n",
       "      <th></th>\n",
       "      <th></th>\n",
       "      <th></th>\n",
       "      <th></th>\n",
       "    </tr>\n",
       "  </thead>\n",
       "  <tbody>\n",
       "    <tr>\n",
       "      <td>1.0</td>\n",
       "      <td>NaN</td>\n",
       "      <td>4.0</td>\n",
       "      <td>3.0</td>\n",
       "      <td>1.0</td>\n",
       "      <td>2.0</td>\n",
       "      <td>NaN</td>\n",
       "      <td>4.0</td>\n",
       "      <td>NaN</td>\n",
       "      <td>NaN</td>\n",
       "    </tr>\n",
       "    <tr>\n",
       "      <td>2.0</td>\n",
       "      <td>5.0</td>\n",
       "      <td>5.0</td>\n",
       "      <td>4.0</td>\n",
       "      <td>NaN</td>\n",
       "      <td>3.0</td>\n",
       "      <td>3.0</td>\n",
       "      <td>5.0</td>\n",
       "      <td>4.0</td>\n",
       "      <td>NaN</td>\n",
       "    </tr>\n",
       "    <tr>\n",
       "      <td>3.0</td>\n",
       "      <td>4.0</td>\n",
       "      <td>NaN</td>\n",
       "      <td>5.0</td>\n",
       "      <td>3.0</td>\n",
       "      <td>2.0</td>\n",
       "      <td>NaN</td>\n",
       "      <td>NaN</td>\n",
       "      <td>3.0</td>\n",
       "      <td>NaN</td>\n",
       "    </tr>\n",
       "    <tr>\n",
       "      <td>4.0</td>\n",
       "      <td>NaN</td>\n",
       "      <td>3.0</td>\n",
       "      <td>NaN</td>\n",
       "      <td>2.0</td>\n",
       "      <td>1.0</td>\n",
       "      <td>1.0</td>\n",
       "      <td>3.0</td>\n",
       "      <td>NaN</td>\n",
       "      <td>NaN</td>\n",
       "    </tr>\n",
       "    <tr>\n",
       "      <td>5.0</td>\n",
       "      <td>2.0</td>\n",
       "      <td>1.0</td>\n",
       "      <td>2.0</td>\n",
       "      <td>4.0</td>\n",
       "      <td>NaN</td>\n",
       "      <td>3.0</td>\n",
       "      <td>2.0</td>\n",
       "      <td>NaN</td>\n",
       "      <td>NaN</td>\n",
       "    </tr>\n",
       "  </tbody>\n",
       "</table>\n",
       "</div>"
      ],
      "text/plain": [
       "item_id    1    2    3    4    5    6    7    8   9\n",
       "user_id                                            \n",
       "1.0      NaN  4.0  3.0  1.0  2.0  NaN  4.0  NaN NaN\n",
       "2.0      5.0  5.0  4.0  NaN  3.0  3.0  5.0  4.0 NaN\n",
       "3.0      4.0  NaN  5.0  3.0  2.0  NaN  NaN  3.0 NaN\n",
       "4.0      NaN  3.0  NaN  2.0  1.0  1.0  3.0  NaN NaN\n",
       "5.0      2.0  1.0  2.0  4.0  NaN  3.0  2.0  NaN NaN"
      ]
     },
     "execution_count": 23,
     "metadata": {},
     "output_type": "execute_result"
    }
   ],
   "source": [
    "user_item = rating_df.merge(item_df, on=\"item_id\", how=\"right\")\n",
    "matrix = user_item.pivot(index=\"user_id\", columns=\"item_id\", values=\"rating\")\n",
    "matrix.drop(matrix.index[0], inplace=True)\n",
    "matrix"
   ]
  },
  {
   "cell_type": "code",
   "execution_count": 24,
   "metadata": {},
   "outputs": [],
   "source": [
    "N = len(matrix.index)\n",
    "M = len(matrix.columns)\n",
    "K = 4"
   ]
  },
  {
   "cell_type": "code",
   "execution_count": 25,
   "metadata": {},
   "outputs": [
    {
     "data": {
      "text/plain": [
       "array([[0.77673393, 0.12659369, 0.40681338, 0.03826449],\n",
       "       [0.22867042, 0.54451727, 0.65405082, 0.68127908],\n",
       "       [0.57438267, 0.03277545, 0.69562733, 0.97008074],\n",
       "       [0.90977126, 0.23718389, 0.71568869, 0.24807168],\n",
       "       [0.55772936, 0.72150685, 0.49011787, 0.51760791]])"
      ]
     },
     "execution_count": 25,
     "metadata": {},
     "output_type": "execute_result"
    }
   ],
   "source": [
    "P = np.random.rand(N,K)\n",
    "P"
   ]
  },
  {
   "cell_type": "code",
   "execution_count": 26,
   "metadata": {},
   "outputs": [
    {
     "data": {
      "text/plain": [
       "array([[0.72679827, 0.12792939, 0.20044343, 0.91208279, 0.18911402,\n",
       "        0.43805131, 0.21817851, 0.63590788, 0.24230681],\n",
       "       [0.79675801, 0.93726645, 0.16112928, 0.93758433, 0.19697146,\n",
       "        0.79441444, 0.8885616 , 0.52437501, 0.39469322],\n",
       "       [0.81372021, 0.25567527, 0.82481544, 0.02573991, 0.26792445,\n",
       "        0.37159439, 0.21569344, 0.52966174, 0.76583744],\n",
       "       [0.81787456, 0.04274719, 0.86809773, 0.70949052, 0.99709261,\n",
       "        0.58514883, 0.78285961, 0.13657006, 0.44423247]])"
      ]
     },
     "execution_count": 26,
     "metadata": {},
     "output_type": "execute_result"
    }
   ],
   "source": [
    "Q = np.random.rand(M,K)\n",
    "Q.T"
   ]
  },
  {
   "cell_type": "code",
   "execution_count": 27,
   "metadata": {},
   "outputs": [],
   "source": [
    "# 最適化\n",
    "# エポック数\n",
    "steps = 2000\n",
    "# 学習率\n",
    "alpha = 0.0002\n",
    "beta = 0.01\n",
    "\n",
    "Q = Q.T\n",
    "user_item_matrix = matrix.copy()"
   ]
  },
  {
   "cell_type": "code",
   "execution_count": 28,
   "metadata": {},
   "outputs": [],
   "source": [
    "user_id = matrix.index.values\n",
    "item_id = matrix.columns.values\n",
    "E = []\n",
    "for step in range(steps):\n",
    "    for i in range(len(matrix.index)):\n",
    "        for j in range(len(matrix.columns)):\n",
    "            if ~np.isnan(matrix.loc[user_id[i],item_id[j]]):\n",
    "                eij = matrix.loc[user_id[i],item_id[j]] - np.dot(P[i,:],Q[:,j])\n",
    "                for k in range(K):\n",
    "                    P[i,k] = P[i,k]+alpha*(2*eij*Q[k,j]-beta*P[i,k])\n",
    "                    Q[k,j] = Q[k,j]+alpha*(2*eij*P[i,k]-beta*Q[k,j])\n",
    "    eR = np.dot(P,Q)\n",
    "    eE = user_item_matrix - eR\n",
    "    E.append(np.nansum(eE))\n",
    "    e = 0\n",
    "    for i in range(len(matrix.index)):\n",
    "        for j in range(len(matrix.columns)):\n",
    "            if ~np.isnan(matrix.loc[user_id[i],item_id[j]]):\n",
    "                e = e + pow(matrix.loc[user_id[i],item_id[j]]-np.dot(P[i,:],Q[:,j]),2)\n",
    "                for k in range(K):\n",
    "                    e = e + (beta/2)*(pow(P[i,k],2)+pow(Q[k,j],2))\n",
    "                \n",
    "    if e < 0.001:\n",
    "        break"
   ]
  },
  {
   "cell_type": "code",
   "execution_count": 29,
   "metadata": {},
   "outputs": [
    {
     "data": {
      "image/png": "[encoded data removed]",
      "text/plain": [
       "<Figure size 432x288 with 1 Axes>"
      ]
     },
     "metadata": {
      "needs_background": "light"
     },
     "output_type": "display_data"
    }
   ],
   "source": [
    "plt.plot(np.arange(len(E)), E)\n",
    "plt.show()"
   ]
  },
  {
   "cell_type": "code",
   "execution_count": 30,
   "metadata": {},
   "outputs": [
    {
     "data": {
      "text/plain": [
       "0.09457058432116416"
      ]
     },
     "execution_count": 30,
     "metadata": {},
     "output_type": "execute_result"
    }
   ],
   "source": [
    "E[-1]"
   ]
  },
  {
   "cell_type": "code",
   "execution_count": 31,
   "metadata": {},
   "outputs": [],
   "source": [
    "R = np.dot(P,Q)"
   ]
  },
  {
   "cell_type": "code",
   "execution_count": 32,
   "metadata": {},
   "outputs": [],
   "source": [
    "test_df = pd.DataFrame(test)\n",
    "test_df_copy = test_df.copy()"
   ]
  },
  {
   "cell_type": "code",
   "execution_count": 33,
   "metadata": {},
   "outputs": [],
   "source": [
    "from collections import defaultdict\n",
    "\n",
    "K_ITEMS = 3\n",
    "THETA = 3\n",
    "pred_user2items = defaultdict(list)\n",
    "user_id2index = dict(zip(matrix.index, range(len(matrix.index))))\n",
    "item_id2index = dict(zip(matrix.columns, range(len(matrix.columns))))\n",
    "Ui = rating_df.groupby(\"user_id\").agg({\"item_id\": list})[\"item_id\"].to_dict()\n",
    "\n",
    "scores = []\n",
    "for u in matrix.index:\n",
    "    Ui_not = list(set(item_id) ^ set(Ui[u]))\n",
    "    pred_items = {i: R[user_id2index[u],item_id2index[i]] for i in Ui_not}\n",
    "    pred_items = dict(sorted(pred_items.items(), key=lambda i:i[1], reverse=True)[:K_ITEMS])\n",
    "    pred_items = {i: score for i, score in pred_items.items() if score >= THETA}\n",
    "    for i in pred_items:\n",
    "        pred_user2items[u].append(i)\n",
    "    for i in matrix.columns:\n",
    "        if np.isnan(matrix.loc[u,i]):\n",
    "            scores.append(R[user_id2index[u], item_id2index[i]])"
   ]
  },
  {
   "cell_type": "code",
   "execution_count": 34,
   "metadata": {},
   "outputs": [],
   "source": [
    "test_df[\"pred_rating\"] = scores\n",
    "test_df_copy = test_df_copy.sort_values(by=[\"user_id\", \"rating\"], ascending=[True, False]).groupby('user_id').head(3)\n",
    "test_user2items = test_df_copy[test_df_copy[\"rating\"] >= 3].groupby('user_id').agg({\"item_id\":list})[\"item_id\"].to_dict()\n"
   ]
  },
  {
   "cell_type": "code",
   "execution_count": 35,
   "metadata": {},
   "outputs": [
    {
     "name": "stdout",
     "output_type": "stream",
     "text": [
      "precision: 0.267\n"
     ]
    }
   ],
   "source": [
    "# precision\n",
    "def precision_at_k(test_items: list, pred_items: list, k: int) -> float:\n",
    "    if K == 0:\n",
    "        return 0.0\n",
    "    p_at_k = (len(set(test_items) & set(pred_items[:k]))) / k\n",
    "    return p_at_k\n",
    "\n",
    "scores = []\n",
    "for user_id in test_user2items.keys():\n",
    "    p_at_k = precision_at_k(test_user2items[user_id], pred_user2items[user_id], 3)\n",
    "    scores.append(p_at_k)\n",
    "    \n",
    "precision = np.mean(scores)\n",
    "print(f'precision: {precision:.3f}')"
   ]
  },
  {
   "cell_type": "code",
   "execution_count": 36,
   "metadata": {},
   "outputs": [
    {
     "name": "stdout",
     "output_type": "stream",
     "text": [
      "recall: 0.300\n"
     ]
    }
   ],
   "source": [
    "# recall\n",
    "def recall_at_k(test_items: list, pred_items: list, k: int) -> float:\n",
    "    if len(test_items) == 0 or k == 0:\n",
    "        return 0.0\n",
    "    r_at_k = (len(set(test_items) & set(pred_items[:k]))) / len(test_items)\n",
    "    return r_at_k\n",
    "scores = []\n",
    "for user_id in test_user2items.keys():\n",
    "    r_at_k = recall_at_k(test_user2items[user_id], pred_user2items[user_id], 3)\n",
    "    scores.append(r_at_k)\n",
    "    \n",
    "recall = np.mean(scores)\n",
    "print(f'recall: {recall:.3f}')"
   ]
  },
  {
   "cell_type": "code",
   "execution_count": 37,
   "metadata": {},
   "outputs": [
    {
     "name": "stdout",
     "output_type": "stream",
     "text": [
      "rmse: 1.251\n"
     ]
    }
   ],
   "source": [
    "# rmse\n",
    "from sklearn.metrics import mean_squared_error\n",
    "\n",
    "true_rating = test_df[\"rating\"]\n",
    "pred_rating = test_df[\"pred_rating\"]\n",
    "rmse = np.sqrt(mean_squared_error(true_rating, pred_rating))\n",
    "print(f'rmse: {rmse:.3f}')"
   ]
  },
  {
   "cell_type": "code",
   "execution_count": 38,
   "metadata": {},
   "outputs": [
    {
     "name": "stdout",
     "output_type": "stream",
     "text": [
      "DCGu: 0.6470075639845357\n"
     ]
    }
   ],
   "source": [
    "ranking_df = test_df.sort_values(by=[\"user_id\", \"rating\"], ascending=[True, False])\n",
    "\n",
    "def DCG(true: np.array, pred: np.array, k: int) -> float:\n",
    "    if (len(true) < k):\n",
    "        k = len(true)\n",
    "    dcg = np.sum([2**pred[k]-1/np.log2(k+2) for k in range(k)])\n",
    "    idcg = np.sum([2**true[k]-1/np.log2(k+2) for k in range(k)])\n",
    "    return dcg / idcg\n",
    "\n",
    "nDCGu = []\n",
    "for user_id in matrix.index:\n",
    "    true_ranking = ranking_df[ranking_df[\"user_id\"]==user_id][\"rating\"].values\n",
    "    pred_ranking = ranking_df[ranking_df[\"user_id\"]==user_id][\"pred_rating\"].values\n",
    "    DCGi = DCG(true_ranking, pred_ranking, 3)\n",
    "    nDCGu.append(DCGi)\n",
    "DCGu = np.mean(nDCGu)\n",
    "print(f'DCGu: {DCGu}')"
   ]
  },
  {
   "cell_type": "code",
   "execution_count": null,
   "metadata": {},
   "outputs": [],
   "source": []
  }
 ],
 "metadata": {
  "kernelspec": {
   "display_name": "Python 3",
   "language": "python",
   "name": "python3"
  },
  "language_info": {
   "codemirror_mode": {
    "name": "ipython",
    "version": 3
   },
   "file_extension": ".py",
   "mimetype": "text/x-python",
   "name": "python",
   "nbconvert_exporter": "python",
   "pygments_lexer": "ipython3",
   "version": "3.7.4"
  }
 },
 "nbformat": 4,
 "nbformat_minor": 4
}
