{
 "cells": [
  {
   "cell_type": "code",
   "execution_count": 2,
   "metadata": {},
   "outputs": [],
   "source": [
    "import pprint\n",
    "import numpy as np\n",
    "\n",
    "Du = np.array([\n",
    "               [1, 0, 0, 0, 1, 0, +1],\n",
    "               [0, 1, 0, 0, 1, 0, +1],\n",
    "               [1, 1, 0, 0, 1, 0, +1],\n",
    "               [1, 0, 0, 1, 1, 0, +1],\n",
    "               [1, 0, 0, 0, 0, 1, +1],\n",
    "               [0, 1, 0, 1, 0, 1, +1],\n",
    "               [0, 0, 1, 0, 1, 0, -1],\n",
    "               [0, 0, 1, 1, 1, 0, -1],\n",
    "               [0, 1, 0, 0, 1, 1, -1],\n",
    "               [0, 0, 1, 0, 0, 1, -1],\n",
    "               [1, 1, 0, 1, 1, 0, np.nan],\n",
    "               [0, 0, 1, 0, 1, 1, np.nan],\n",
    "               [0, 1, 1, 1, 1, 0, np.nan],\n",
    "])\n",
    "I = np.arange(Du.shape[0])\n",
    "x = Du[:,:-1]\n",
    "ru = Du[:,-1]\n",
    "\n",
    "Iu = I[~np.isnan(ru)]\n",
    "Iu_not = np.setdiff1d(I, Iu)\n",
    "DuL = Du[Iu]\n",
    "xL = x[Iu]\n",
    "ruL = ru[Iu]\n",
    "DuU = Du[Iu_not]\n",
    "xU = x[Iu_not]"
   ]
  },
  {
   "cell_type": "code",
   "execution_count": 3,
   "metadata": {},
   "outputs": [],
   "source": [
    "def G(DL):\n",
    "    \"\"\"\n",
    "    訓練データDLのジニ係数を返す。\n",
    "    \n",
    "    Parameters\n",
    "    ----------\n",
    "    DL : ndarray\n",
    "        訓練データDL\n",
    "\n",
    "    Returns\n",
    "    -------\n",
    "    float\n",
    "        ジニ係数\n",
    "        ただし、DLに事例が含まれていないときは0\n",
    "    \"\"\"\n",
    "    if DL.shape[0] == 0: return 0\n",
    "    r = DL[:,-1]\n",
    "    # 問１\n",
    "    pp = DL[r==1].shape[0]/DL.shape[0]\n",
    "    # 問２\n",
    "    pn = DL[r==-1].shape[0]/DL.shape[0]\n",
    "    # 問３\n",
    "    gini = 1 - (pp**2 + pn**2)\n",
    "    return gini"
   ]
  },
  {
   "cell_type": "code",
   "execution_count": 4,
   "metadata": {},
   "outputs": [
    {
     "data": {
      "text/plain": [
       "0.48"
      ]
     },
     "execution_count": 4,
     "metadata": {},
     "output_type": "execute_result"
    }
   ],
   "source": [
    "G(DuL)"
   ]
  },
  {
   "cell_type": "code",
   "execution_count": 14,
   "metadata": {},
   "outputs": [],
   "source": [
    "def G_partitioned(DL0, DL1):\n",
    "    \"\"\"\n",
    "    訓練データをDL0とDL1に分割したときのジニ係数を返す。\n",
    "    \n",
    "    Parameters\n",
    "    ----------\n",
    "    DL0 : ndarray\n",
    "        訓練データDL0\n",
    "    DL1 : ndarray\n",
    "        訓練データDL1\n",
    "\n",
    "    Returns\n",
    "    -------\n",
    "    float\n",
    "        ジニ係数\n",
    "    \"\"\"\n",
    "    # 問６\n",
    "    gini = (DL0.shape[0]*G(DL0)+ DL1.shape[0]*G(DL1))/(DL0.shape[0]+DL1.shape[0])\n",
    "    return gini"
   ]
  },
  {
   "cell_type": "code",
   "execution_count": 15,
   "metadata": {},
   "outputs": [
    {
     "name": "stdout",
     "output_type": "stream",
     "text": [
      "DuL0 = \n",
      "[[ 0.  1.  0.  0.  1.  0.  1.]\n",
      " [ 0.  1.  0.  1.  0.  1.  1.]\n",
      " [ 0.  0.  1.  0.  1.  0. -1.]\n",
      " [ 0.  0.  1.  1.  1.  0. -1.]\n",
      " [ 0.  1.  0.  0.  1.  1. -1.]\n",
      " [ 0.  0.  1.  0.  0.  1. -1.]]\n",
      "DuL1 = \n",
      "[[1. 0. 0. 0. 1. 0. 1.]\n",
      " [1. 1. 0. 0. 1. 0. 1.]\n",
      " [1. 0. 0. 1. 1. 0. 1.]\n",
      " [1. 0. 0. 0. 0. 1. 1.]]\n",
      "G(DuL → [DuL0, DuL1]) = 0.267\n"
     ]
    }
   ],
   "source": [
    "# 特徴量kを含まない訓練事例集合\n",
    "k = 0\n",
    "# 問４\n",
    "DuL0 = DuL[DuL[:,k]==0]\n",
    "print('DuL0 = \\n{}'.format(DuL0))\n",
    "# 特徴量kを含む訓練事例集合\n",
    "# 問５\n",
    "DuL1 = DuL[DuL[:,k]==1]\n",
    "print('DuL1 = \\n{}'.format(DuL1))\n",
    "# 特徴量kを基準に分割したときのジニ係数\n",
    "print('G(DuL → [DuL0, DuL1]) = {:.3f}'.format(G_partitioned(DuL0, DuL1)))"
   ]
  },
  {
   "cell_type": "markdown",
   "metadata": {},
   "source": [
    "# 決定木の学習"
   ]
  },
  {
   "cell_type": "code",
   "execution_count": 22,
   "metadata": {},
   "outputs": [],
   "source": [
    "def get_ginis(DL):\n",
    "    \"\"\"\n",
    "    訓練データDLを各特徴量で分割したときの(特徴量のインデックス: ジニ係数)をペアにした辞書を返す。\n",
    "    \n",
    "    Parameters\n",
    "    ----------\n",
    "    DL : ndarray\n",
    "        訓練データDL\n",
    "\n",
    "    Returns\n",
    "    -------\n",
    "    dict\n",
    "        (特徴量のインデックス: ジニ係数)をペアにした辞書\n",
    "    \"\"\"\n",
    "    ginis = {}\n",
    "    for k in range(0, x.shape[1]):\n",
    "        DL0 = DL[DL[:,k]==0]\n",
    "        DL1 = DL[DL[:,k]==1]\n",
    "        ginis[k] = G_partitioned(DL0, DL1)\n",
    "    return ginis"
   ]
  },
  {
   "cell_type": "code",
   "execution_count": 23,
   "metadata": {},
   "outputs": [
    {
     "name": "stdout",
     "output_type": "stream",
     "text": [
      "ginis = \n",
      "{0: 0.26666666666666666,\n",
      " 1: 0.45,\n",
      " 2: 0.17142857142857146,\n",
      " 3: 0.4761904761904763,\n",
      " 4: 0.4761904761904763,\n",
      " 5: 0.4666666666666666}\n"
     ]
    }
   ],
   "source": [
    "# レベル0（根ノード）の選択基準\n",
    "ginis = get_ginis(DuL)\n",
    "print('ginis = ')\n",
    "pprint.pprint(ginis)"
   ]
  },
  {
   "cell_type": "code",
   "execution_count": 27,
   "metadata": {},
   "outputs": [
    {
     "name": "stdout",
     "output_type": "stream",
     "text": [
      "k0 = 2\n"
     ]
    }
   ],
   "source": [
    "# 問７\n",
    "k0 = min(ginis, key=ginis.get)\n",
    "print('k0 = {}'.format(k0))"
   ]
  },
  {
   "cell_type": "code",
   "execution_count": 28,
   "metadata": {},
   "outputs": [
    {
     "name": "stdout",
     "output_type": "stream",
     "text": [
      "DuL0 = \n",
      "[[ 1.  0.  0.  0.  1.  0.  1.]\n",
      " [ 0.  1.  0.  0.  1.  0.  1.]\n",
      " [ 1.  1.  0.  0.  1.  0.  1.]\n",
      " [ 1.  0.  0.  1.  1.  0.  1.]\n",
      " [ 1.  0.  0.  0.  0.  1.  1.]\n",
      " [ 0.  1.  0.  1.  0.  1.  1.]\n",
      " [ 0.  1.  0.  0.  1.  1. -1.]]\n",
      "DuL1 = \n",
      "[[ 0.  0.  1.  0.  1.  0. -1.]\n",
      " [ 0.  0.  1.  1.  1.  0. -1.]\n",
      " [ 0.  0.  1.  0.  0.  1. -1.]]\n"
     ]
    }
   ],
   "source": [
    "DuL0 = DuL[DuL[:,k0]==0]\n",
    "DuL1 = DuL[DuL[:,k0]==1]\n",
    "print('DuL0 = \\n{}'.format(DuL0))\n",
    "print('DuL1 = \\n{}'.format(DuL1))"
   ]
  },
  {
   "cell_type": "code",
   "execution_count": 31,
   "metadata": {},
   "outputs": [
    {
     "name": "stdout",
     "output_type": "stream",
     "text": [
      "ginis = \n",
      "{0: 0.19047619047619047,\n",
      " 1: 0.21428571428571427,\n",
      " 2: 0.24489795918367352,\n",
      " 3: 0.22857142857142845,\n",
      " 4: 0.22857142857142845,\n",
      " 5: 0.19047619047619047}\n",
      "k1a = 0\n"
     ]
    }
   ],
   "source": [
    "# レベル1a（レベル1の左端ノード）の選択基準\n",
    "# 問８\n",
    "ginis = get_ginis(DuL0)\n",
    "print(\"ginis = \")\n",
    "pprint.pprint(ginis)\n",
    "k1a = min(ginis, key=ginis.get)\n",
    "print('k1a = {}'.format(k1a))"
   ]
  },
  {
   "cell_type": "code",
   "execution_count": 32,
   "metadata": {},
   "outputs": [
    {
     "name": "stdout",
     "output_type": "stream",
     "text": [
      "DuL00 = \n",
      "[[ 0.  1.  0.  0.  1.  0.  1.]\n",
      " [ 0.  1.  0.  1.  0.  1.  1.]\n",
      " [ 0.  1.  0.  0.  1.  1. -1.]]\n",
      "DuL01 = \n",
      "[[1. 0. 0. 0. 1. 0. 1.]\n",
      " [1. 1. 0. 0. 1. 0. 1.]\n",
      " [1. 0. 0. 1. 1. 0. 1.]\n",
      " [1. 0. 0. 0. 0. 1. 1.]]\n"
     ]
    }
   ],
   "source": [
    "DuL00 = DuL0[DuL0[:,k1a] == 0]\n",
    "DuL01 = DuL0[DuL0[:,k1a] == 1]\n",
    "print('DuL00 = \\n{}'.format(DuL00))\n",
    "print('DuL01 = \\n{}'.format(DuL01))"
   ]
  },
  {
   "cell_type": "code",
   "execution_count": 35,
   "metadata": {},
   "outputs": [
    {
     "name": "stdout",
     "output_type": "stream",
     "text": [
      "ginis = \n",
      "{0: 0.4444444444444444,\n",
      " 1: 0.4444444444444444,\n",
      " 2: 0.4444444444444444,\n",
      " 3: 0.3333333333333333,\n",
      " 4: 0.3333333333333333,\n",
      " 5: 0.3333333333333333}\n",
      "k2a = 3\n"
     ]
    }
   ],
   "source": [
    "# レベル2a（レベル2の左端ノード）の選択基準\n",
    "# 問９\n",
    "ginis = get_ginis(DuL00)\n",
    "print('ginis = ')\n",
    "pprint.pprint(ginis)\n",
    "k2a = min(ginis, key=ginis.get)\n",
    "print('k2a = {}' .format(k2a))"
   ]
  },
  {
   "cell_type": "code",
   "execution_count": 40,
   "metadata": {},
   "outputs": [
    {
     "name": "stdout",
     "output_type": "stream",
     "text": [
      "DuL000 = \n",
      "[[ 0.  1.  0.  0.  1.  0.  1.]\n",
      " [ 0.  1.  0.  0.  1.  1. -1.]]\n",
      "DuL001 = \n",
      "[[0. 1. 0. 1. 0. 1. 1.]]\n"
     ]
    }
   ],
   "source": [
    "DuL000 = DuL00[DuL00[:,k2a] == 0]\n",
    "DuL001 = DuL00[DuL00[:,k2a] == 1]\n",
    "print('DuL000 = \\n{}'.format(DuL000))\n",
    "print('DuL001 = \\n{}'.format(DuL001))"
   ]
  },
  {
   "cell_type": "markdown",
   "metadata": {},
   "source": [
    "# 嗜好予測"
   ]
  },
  {
   "cell_type": "code",
   "execution_count": 48,
   "metadata": {},
   "outputs": [],
   "source": [
    "def train(DL, key=0):\n",
    "    \"\"\"\n",
    "    学習関数：訓練データDLから決定木を学習する。\n",
    "    \n",
    "    Parameters\n",
    "    ----------\n",
    "    DL : ndarray\n",
    "        訓練データDL\n",
    "    key : int\n",
    "        キー値\n",
    "    \"\"\"\n",
    "    if len(DL) <= 0:\n",
    "        return\n",
    "    elif np.count_nonzero(DL[:,-1]==-1) <= 0:\n",
    "        dtree[key] = '+1'\n",
    "        return\n",
    "    elif np.count_nonzero(DL[:,-1]==+1) <= 0:\n",
    "        dtree[key] = \"-1\"\n",
    "        return\n",
    "    ginis = get_ginis(DL)\n",
    "    k = min(ginis, key=ginis.get)\n",
    "    dtree[key] = k\n",
    "    DL0 = DL[DL[:,k] == 0]\n",
    "    DL1 = DL[DL[:,k] == 1]\n",
    "    train(DL0, key * 2 + 1)\n",
    "    train(DL1, key * 2 + 2)"
   ]
  },
  {
   "cell_type": "code",
   "execution_count": 56,
   "metadata": {},
   "outputs": [],
   "source": [
    "def predict(u, i, key=0):\n",
    "    \"\"\"\n",
    "    予測関数：ユーザuのアイテムiに対する予測評価値を返す。\n",
    "    \n",
    "    Parameters\n",
    "    ----------\n",
    "    u : int\n",
    "        ユーザuのID（ダミー）\n",
    "    i : int\n",
    "        アイテムiのID\n",
    "    key : int\n",
    "        キー値\n",
    "\n",
    "    Returns\n",
    "    -------\n",
    "    int\n",
    "        ユーザuのアイテムiに対する予測評価値\n",
    "    \"\"\"\n",
    "    if type(dtree[key]) == str: return int(dtree[key])\n",
    "    k = dtree[key]\n",
    "    if x[i,k] == 0:\n",
    "        return predict(u, i, key * 2 + 1)\n",
    "    elif x[i,k] == 1:\n",
    "        return predict(u, i, key * 2 + 2)"
   ]
  },
  {
   "cell_type": "code",
   "execution_count": 49,
   "metadata": {},
   "outputs": [
    {
     "name": "stdout",
     "output_type": "stream",
     "text": [
      "dtree = {0: 2, 1: 0, 3: 3, 7: 5, 15: '+1', 16: '-1', 8: '+1', 4: '+1', 2: '-1'}\n"
     ]
    }
   ],
   "source": [
    "dtree = {}\n",
    "train(DuL)\n",
    "print('dtree = {}'.format(dtree))"
   ]
  },
  {
   "cell_type": "code",
   "execution_count": 58,
   "metadata": {},
   "outputs": [],
   "source": [
    "u = 0\n",
    "# 問１０\n",
    "ruU_pred = {i: predict(u, i) for i in Iu_not}"
   ]
  },
  {
   "cell_type": "code",
   "execution_count": 59,
   "metadata": {},
   "outputs": [
    {
     "data": {
      "text/plain": [
       "{10: 1, 11: -1, 12: -1}"
      ]
     },
     "execution_count": 59,
     "metadata": {},
     "output_type": "execute_result"
    }
   ],
   "source": [
    "ruU_pred"
   ]
  },
  {
   "cell_type": "code",
   "execution_count": null,
   "metadata": {},
   "outputs": [],
   "source": []
  }
 ],
 "metadata": {
  "kernelspec": {
   "display_name": "Python 3 (ipykernel)",
   "language": "python",
   "name": "python3"
  },
  "language_info": {
   "codemirror_mode": {
    "name": "ipython",
    "version": 3
   },
   "file_extension": ".py",
   "mimetype": "text/x-python",
   "name": "python",
   "nbconvert_exporter": "python",
   "pygments_lexer": "ipython3",
   "version": "3.8.16"
  }
 },
 "nbformat": 4,
 "nbformat_minor": 4
}
