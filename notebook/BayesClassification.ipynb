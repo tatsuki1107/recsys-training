{
 "cells": [
  {
   "cell_type": "markdown",
   "metadata": {},
   "source": [
    "# 単純ベイズ分類器"
   ]
  },
  {
   "cell_type": "code",
   "execution_count": 91,
   "metadata": {},
   "outputs": [],
   "source": [
    "import pprint\n",
    "import numpy as np\n",
    "from fractions import Fraction\n",
    "\n",
    "# 上位K件\n",
    "TOP_K = 3\n",
    "# スムージングパラメタ\n",
    "ALPHA = 1\n",
    "# クラス数\n",
    "N = 2\n",
    "# 各特徴量がとりうる値のユニーク数\n",
    "M = [2, 2, 2, 2, 2, 2]\n",
    "# しきい値\n",
    "THETA = 0.5\n",
    "\n",
    "Du = np.array([\n",
    "               [1, 0, 0, 0, 1, 0, +1],\n",
    "               [0, 1, 0, 0, 1, 0, +1],\n",
    "               [1, 1, 0, 0, 1, 0, +1],\n",
    "               [1, 0, 0, 1, 1, 0, +1],\n",
    "               [1, 0, 0, 0, 0, 1, +1],\n",
    "               [0, 1, 0, 1, 0, 1, +1],\n",
    "               [0, 0, 1, 0, 1, 0, -1],\n",
    "               [0, 0, 1, 1, 1, 0, -1],\n",
    "               [0, 1, 0, 0, 1, 1, -1],\n",
    "               [0, 0, 1, 0, 0, 1, -1],\n",
    "               [1, 1, 0, 1, 1, 0, np.nan],\n",
    "               [0, 0, 1, 0, 1, 1, np.nan],\n",
    "               [0, 1, 1, 1, 1, 0, np.nan],\n",
    "])\n",
    "I = np.arange(Du.shape[0])\n",
    "x = Du[:,:-1]\n",
    "ru = Du[:,-1]\n",
    "\n",
    "Iu = I[~np.isnan(ru)]\n",
    "Iu_not = np.setdiff1d(I, Iu)\n",
    "DuL = Du[Iu]\n",
    "xL = x[Iu]\n",
    "ruL = ru[Iu]\n",
    "DuU = Du[Iu_not]\n",
    "xU = x[Iu_not]"
   ]
  },
  {
   "cell_type": "code",
   "execution_count": 92,
   "metadata": {},
   "outputs": [
    {
     "data": {
      "text/plain": [
       "0.6"
      ]
     },
     "execution_count": 92,
     "metadata": {},
     "output_type": "execute_result"
    }
   ],
   "source": [
    "#事前確率(r=1)\n",
    "num = ruL[ruL == 1].size\n",
    "den = ruL.size\n",
    "pR = num / den\n",
    "pR"
   ]
  },
  {
   "cell_type": "code",
   "execution_count": 145,
   "metadata": {},
   "outputs": [
    {
     "data": {
      "text/plain": [
       "0.4"
      ]
     },
     "execution_count": 145,
     "metadata": {},
     "output_type": "execute_result"
    }
   ],
   "source": [
    "# 事前確率(r=-1)\n",
    "num = ruL[ruL == -1].size\n",
    "den = ruL.size\n",
    "nR = num / den\n",
    "nR"
   ]
  },
  {
   "cell_type": "code",
   "execution_count": 126,
   "metadata": {},
   "outputs": [
    {
     "name": "stdout",
     "output_type": "stream",
     "text": [
      "P(X5=x10,5|R=+1) = 0.029629629629629627\n",
      "P(X5=x10,5|R=-1) = 0.0\n",
      "P(X5=x11,5|R=+1) = 0.0\n",
      "P(X5=x11,5|R=-1) = 0.06328125\n",
      "P(X5=x12,5|R=+1) = 0.0\n",
      "P(X5=x12,5|R=-1) = 0.00703125\n"
     ]
    }
   ],
   "source": [
    "# 単純ベイズ仮定で嗜好予測\n",
    "for i in Iu_not:\n",
    "    for r in [1,-1]:\n",
    "        R = ruL[ruL==r].size/ruL.size\n",
    "        p = np.zeros(x.shape[1]);\n",
    "        for k in np.arange(x.shape[1]):\n",
    "            num = DuL[ruL==r][xL[:,k][ruL==r]==x[i,k]].shape[0]\n",
    "            den = DuL[ruL==r].shape[0]\n",
    "            p[k] = num/den\n",
    "        print('P(X{}=x{},{}|R={:+}) = {}'.format(k, i, k, r, R*np.prod(p)))"
   ]
  },
  {
   "cell_type": "code",
   "execution_count": 127,
   "metadata": {},
   "outputs": [
    {
     "name": "stdout",
     "output_type": "stream",
     "text": [
      "P(X5=x10,5|R=+1) = 0.023365020751953125\n",
      "P(X5=x10,5|R=-1) = 0.0008573388203017832\n",
      "P(X5=x11,5|R=+1) = 0.002002716064453125\n",
      "P(X5=x11,5|R=-1) = 0.034293552812071325\n",
      "P(X5=x12,5|R=+1) = 0.002002716064453125\n",
      "P(X5=x12,5|R=-1) = 0.008573388203017831\n"
     ]
    }
   ],
   "source": [
    "# ラプラススムージングあり\n",
    "for i in Iu_not:\n",
    "    for r in [1,-1]:\n",
    "        R = (ruL[ruL==r].size + ALPHA)/(ruL.size + ALPHA*N)\n",
    "        p = np.zeros(x.shape[1]);\n",
    "        for k in np.arange(x.shape[1]):\n",
    "            num = DuL[ruL==r][xL[:,k][ruL==r]==x[i,k]].shape[0] + ALPHA\n",
    "            den = DuL[ruL==r].shape[0] + ALPHA*M[k]\n",
    "            p[k] = num/den\n",
    "        print('P(X{}=x{},{}|R={:+}) = {}'.format(k, i, k, r, R*np.prod(p)))"
   ]
  },
  {
   "cell_type": "markdown",
   "metadata": {},
   "source": [
    "# 推薦\n",
    "スコア関数\n",
    "\n",
    "$$\n",
    "\\mathrm{score}(u, i) = \\frac{P(R = +1) \\prod_{k=1}^{d} P(X_{k} = x_{i,k} \\mid R = +1)}{P(R = +1) \\prod_{k=1}^{d} P(X_{k} = x_{i,k} \\mid R = +1) + P(R = -1) \\prod_{k=1}^{d} P(X_{k} = x_{i,k} \\mid R = -1)}\n",
    "$$"
   ]
  },
  {
   "cell_type": "code",
   "execution_count": 141,
   "metadata": {},
   "outputs": [],
   "source": [
    "scores = {}\n",
    "pR = (ruL[ruL==1].size + ALPHA)/(ruL.size + ALPHA*N)\n",
    "nR = (ruL[ruL==-1].size + ALPHA)/(ruL.size + ALPHA*N)\n",
    "for i in Iu_not:\n",
    "    pp = np.zeros(x.shape[1]);\n",
    "    pk = np.zeros(x.shape[1]);\n",
    "    for r in [1,-1]:\n",
    "        for k in np.arange(x.shape[1]):\n",
    "            num = DuL[ruL==r][xL[:,k][ruL==r]==x[i,k]].shape[0] + ALPHA\n",
    "            den = DuL[ruL==r].shape[0] + ALPHA*M[k]\n",
    "            if r == 1:\n",
    "                pp[k] = num/den\n",
    "            else:\n",
    "                pk[k] = num/den\n",
    "    \n",
    "    scores.update({i: pR*np.prod(pp)/(pR*np.prod(pp)+nR*np.prod(pk))})"
   ]
  },
  {
   "cell_type": "code",
   "execution_count": 142,
   "metadata": {},
   "outputs": [
    {
     "data": {
      "text/plain": [
       "{10: 0.9646054787625311, 11: 0.055176912846500135, 12: 0.18936236007174226}"
      ]
     },
     "execution_count": 142,
     "metadata": {},
     "output_type": "execute_result"
    }
   ],
   "source": [
    "scores"
   ]
  },
  {
   "cell_type": "code",
   "execution_count": 143,
   "metadata": {},
   "outputs": [],
   "source": [
    "scores = {i: p for i, p in scores.items() if p >= THETA}\n",
    "rec_list = dict(sorted(scores.items(), key=lambda x:x[1], reverse=True)[:TOP_K])"
   ]
  },
  {
   "cell_type": "code",
   "execution_count": 144,
   "metadata": {},
   "outputs": [
    {
     "data": {
      "text/plain": [
       "{10: 0.9646054787625311}"
      ]
     },
     "execution_count": 144,
     "metadata": {},
     "output_type": "execute_result"
    }
   ],
   "source": [
    "rec_list"
   ]
  },
  {
   "cell_type": "code",
   "execution_count": null,
   "metadata": {},
   "outputs": [],
   "source": []
  }
 ],
 "metadata": {
  "kernelspec": {
   "display_name": "Python 3 (ipykernel)",
   "language": "python",
   "name": "python3"
  },
  "language_info": {
   "codemirror_mode": {
    "name": "ipython",
    "version": 3
   },
   "file_extension": ".py",
   "mimetype": "text/x-python",
   "name": "python",
   "nbconvert_exporter": "python",
   "pygments_lexer": "ipython3",
   "version": "3.8.16"
  }
 },
 "nbformat": 4,
 "nbformat_minor": 4
}
