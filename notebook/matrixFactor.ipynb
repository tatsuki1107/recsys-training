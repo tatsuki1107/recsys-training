{
 "cells": [
  {
   "cell_type": "markdown",
   "metadata": {},
   "source": [
    "# 行列因子分解"
   ]
  },
  {
   "cell_type": "markdown",
   "metadata": {},
   "source": [
    "## 勾配降下法フルスクラッチ"
   ]
  },
  {
   "cell_type": "code",
   "execution_count": 428,
   "metadata": {},
   "outputs": [],
   "source": [
    "import numpy as np\n",
    "\n",
    "R = np.array([\n",
    "    [1, -1, np.nan, np.nan],\n",
    "    [1, -1, np.nan, 1],\n",
    "    [1, -1, -1, 1],\n",
    "    [np.nan, -1, -1, -1],\n",
    "    [1, np.nan, -1, -1],\n",
    "    [-1, -1, 1, -1],\n",
    "    [-1, 1, -1, np.nan]\n",
    "])\n",
    "np.random.seed(0)\n",
    "d = 3\n",
    "U = np.arange(R.shape[0])\n",
    "I = np.arange(R.shape[1])\n",
    "ALPHA = 0.05\n",
    "THETA = 0.01\n",
    "LAMBDA = 1"
   ]
  },
  {
   "cell_type": "code",
   "execution_count": 429,
   "metadata": {},
   "outputs": [
    {
     "data": {
      "text/plain": [
       "array([[ 1.        , -1.        , -0.6       , -0.2       ],\n",
       "       [ 1.        , -1.        , -0.6       ,  1.        ],\n",
       "       [ 1.        , -1.        , -1.        ,  1.        ],\n",
       "       [ 0.33333333, -1.        , -1.        , -1.        ],\n",
       "       [ 1.        , -0.66666667, -1.        , -1.        ],\n",
       "       [-1.        , -1.        ,  1.        , -1.        ],\n",
       "       [-1.        ,  1.        , -1.        , -0.2       ]])"
      ]
     },
     "execution_count": 429,
     "metadata": {},
     "output_type": "execute_result"
    }
   ],
   "source": [
    "# 欠損値はアイテムの平均値にしてみる\n",
    "for i in I:\n",
    "    index = U[np.isnan(R[:,i])]\n",
    "    R[index, i] = np.nanmean(R[:,i])\n",
    "R"
   ]
  },
  {
   "cell_type": "code",
   "execution_count": 430,
   "metadata": {},
   "outputs": [
    {
     "data": {
      "text/plain": [
       "array([[0.549, 0.715, 0.603],\n",
       "       [0.545, 0.424, 0.646],\n",
       "       [0.438, 0.892, 0.964],\n",
       "       [0.383, 0.792, 0.529],\n",
       "       [0.568, 0.926, 0.071],\n",
       "       [0.087, 0.02 , 0.833],\n",
       "       [0.778, 0.87 , 0.979]])"
      ]
     },
     "execution_count": 430,
     "metadata": {},
     "output_type": "execute_result"
    }
   ],
   "source": [
    "# 乱数でユーザ因子行列を初期化\n",
    "P = np.zeros((7, d))\n",
    "for u in U:\n",
    "    for k in range(d):\n",
    "        P[u,k] = round(np.random.rand(),3)\n",
    "P"
   ]
  },
  {
   "cell_type": "code",
   "execution_count": 431,
   "metadata": {},
   "outputs": [
    {
     "data": {
      "text/plain": [
       "array([[0.799, 0.461, 0.781],\n",
       "       [0.118, 0.64 , 0.143],\n",
       "       [0.945, 0.522, 0.415],\n",
       "       [0.265, 0.774, 0.456]])"
      ]
     },
     "execution_count": 431,
     "metadata": {},
     "output_type": "execute_result"
    }
   ],
   "source": [
    "# 乱数でアイテム因子行列を初期化\n",
    "Q = np.zeros((4, d))\n",
    "for i in I:\n",
    "    for k in range(d):\n",
    "        Q[i,k] = round(np.random.rand(),3)\n",
    "Q"
   ]
  },
  {
   "cell_type": "code",
   "execution_count": 432,
   "metadata": {},
   "outputs": [
    {
     "data": {
      "text/plain": [
       "array([[1.239209, 0.608611, 1.14228 , 0.973863],\n",
       "       [1.135445, 0.428048, 1.004443, 0.767177],\n",
       "       [1.514058, 0.760416, 1.279594, 1.246062],\n",
       "       [1.084278, 0.627721, 0.994894, 0.955727],\n",
       "       [0.936169, 0.669817, 1.049597, 0.89962 ],\n",
       "       [0.729306, 0.142185, 0.43835 , 0.418383],\n",
       "       [1.787291, 0.788601, 1.595635, 1.325974]])"
      ]
     },
     "execution_count": 432,
     "metadata": {},
     "output_type": "execute_result"
    }
   ],
   "source": [
    "# 予測評価値行列\n",
    "R2 = P@Q.T\n",
    "R2"
   ]
  },
  {
   "cell_type": "code",
   "execution_count": 433,
   "metadata": {},
   "outputs": [
    {
     "data": {
      "text/plain": [
       "array([[-0.239209  , -1.608611  , -1.74228   , -1.173863  ],\n",
       "       [-0.135445  , -1.428048  , -1.604443  ,  0.232823  ],\n",
       "       [-0.514058  , -1.760416  , -2.279594  , -0.246062  ],\n",
       "       [-0.75094467, -1.627721  , -1.994894  , -1.955727  ],\n",
       "       [ 0.063831  , -1.33648367, -2.049597  , -1.89962   ],\n",
       "       [-1.729306  , -1.142185  ,  0.56165   , -1.418383  ],\n",
       "       [-2.787291  ,  0.211399  , -2.595635  , -1.525974  ]])"
      ]
     },
     "execution_count": 433,
     "metadata": {},
     "output_type": "execute_result"
    }
   ],
   "source": [
    "# 残差行列\n",
    "E = R - R2\n",
    "E"
   ]
  },
  {
   "cell_type": "code",
   "execution_count": 434,
   "metadata": {},
   "outputs": [
    {
     "data": {
      "text/plain": [
       "64.4843459386489"
      ]
     },
     "execution_count": 434,
     "metadata": {},
     "output_type": "execute_result"
    }
   ],
   "source": [
    "# 残差の行列のフロベニウスノルムの二乗\n",
    "E2_sum = np.sum(E**2)\n",
    "E2_sum"
   ]
  },
  {
   "cell_type": "code",
   "execution_count": 435,
   "metadata": {},
   "outputs": [
    {
     "data": {
      "text/plain": [
       "array([[ 0.49893815, -0.25699173,  0.27218487, -0.11139721],\n",
       "       [ 0.09278272,  0.07083942, -0.44642642,  0.21159687],\n",
       "       [ 0.25207201, -0.38599877, -0.34086862, -0.00795337]])"
      ]
     },
     "execution_count": 435,
     "metadata": {},
     "output_type": "execute_result"
    }
   ],
   "source": [
    "Q.T + 2*ALPHA*np.dot(P.T, E)"
   ]
  },
  {
   "cell_type": "code",
   "execution_count": 436,
   "metadata": {},
   "outputs": [
    {
     "name": "stdout",
     "output_type": "stream",
     "text": [
      "26.475208327272426\n",
      "19.33401376897017\n",
      "25.40682474561352\n",
      "192.74284991627337\n",
      "2875.316451455219\n",
      "43793.29338927354\n",
      "663827.858432261\n",
      "10060087.431665292\n",
      "152556103.9290676\n",
      "2314542988.6539216\n",
      "35124632285.1502\n",
      "533103255632.4307\n",
      "8091612686814.088\n",
      "122820164106875.73\n",
      "1864271144270078.5\n",
      "2.829766646380633e+16\n",
      "4.295296266576552e+17\n",
      "6.519826723890498e+18\n",
      "9.8964440978416e+19\n"
     ]
    }
   ],
   "source": [
    "# L2正則化してない\n",
    "Ef = []\n",
    "Ef.append(E2_sum);\n",
    "for i in range(1, 20):\n",
    "    P = P + 2*ALPHA*np.dot(E,Q)\n",
    "    Q = (Q.T + 2*ALPHA*np.dot(P.T, E)).T\n",
    "    R2 = np.dot(P, Q.T)\n",
    "    E_sum = np.sum((R - R2)**2) + (LAMBDA/2)*(np.sum(P**2)+np.sum(Q**2)) \n",
    "    Ef.append(E_sum)\n",
    "    if (np.abs(Ef[i-1]-Ef[i]) < THETA):\n",
    "        break\n",
    "    print(E_sum)"
   ]
  },
  {
   "cell_type": "code",
   "execution_count": 437,
   "metadata": {},
   "outputs": [
    {
     "data": {
      "text/plain": [
       "array([[-1.22015564e+09, -1.59880802e+09, -2.53589369e+09,\n",
       "        -1.67088785e+09],\n",
       "       [-8.09278311e+08, -1.06042548e+09, -1.68195614e+09,\n",
       "        -1.10823165e+09],\n",
       "       [-1.27196337e+09, -1.66669439e+09, -2.64356909e+09,\n",
       "        -1.74183420e+09],\n",
       "       [-1.56336012e+09, -2.04851595e+09, -3.24918344e+09,\n",
       "        -2.14087208e+09],\n",
       "       [-1.37673290e+09, -1.80397554e+09, -2.86131327e+09,\n",
       "        -1.88530533e+09],\n",
       "       [-6.43787309e+08, -8.43566409e+08, -1.33799574e+09,\n",
       "        -8.81601635e+08],\n",
       "       [-1.60917827e+09, -2.10854235e+09, -3.34439607e+09,\n",
       "        -2.20361021e+09]])"
      ]
     },
     "execution_count": 437,
     "metadata": {},
     "output_type": "execute_result"
    }
   ],
   "source": [
    "np.dot(P, Q.T)"
   ]
  },
  {
   "cell_type": "code",
   "execution_count": 438,
   "metadata": {},
   "outputs": [
    {
     "data": {
      "text/plain": [
       "array([[ 1.        , -1.        , -0.6       , -0.2       ],\n",
       "       [ 1.        , -1.        , -0.6       ,  1.        ],\n",
       "       [ 1.        , -1.        , -1.        ,  1.        ],\n",
       "       [ 0.33333333, -1.        , -1.        , -1.        ],\n",
       "       [ 1.        , -0.66666667, -1.        , -1.        ],\n",
       "       [-1.        , -1.        ,  1.        , -1.        ],\n",
       "       [-1.        ,  1.        , -1.        , -0.2       ]])"
      ]
     },
     "execution_count": 438,
     "metadata": {},
     "output_type": "execute_result"
    }
   ],
   "source": [
    "R"
   ]
  },
  {
   "cell_type": "code",
   "execution_count": 439,
   "metadata": {},
   "outputs": [
    {
     "data": {
      "image/png": "[encoded data removed]",
      "text/plain": [
       "<Figure size 432x288 with 1 Axes>"
      ]
     },
     "metadata": {
      "needs_background": "light"
     },
     "output_type": "display_data"
    }
   ],
   "source": [
    "import matplotlib.pyplot as plt\n",
    "\n",
    "plt.plot(np.arange(len(Ef)), Ef)\n",
    "plt.show()"
   ]
  },
  {
   "cell_type": "code",
   "execution_count": 440,
   "metadata": {},
   "outputs": [
    {
     "data": {
      "text/plain": [
       "20"
      ]
     },
     "execution_count": 440,
     "metadata": {},
     "output_type": "execute_result"
    }
   ],
   "source": [
    "len(Ef)"
   ]
  },
  {
   "cell_type": "code",
   "execution_count": null,
   "metadata": {},
   "outputs": [],
   "source": []
  }
 ],
 "metadata": {
  "kernelspec": {
   "display_name": "Python 3",
   "language": "python",
   "name": "python3"
  },
  "language_info": {
   "codemirror_mode": {
    "name": "ipython",
    "version": 3
   },
   "file_extension": ".py",
   "mimetype": "text/x-python",
   "name": "python",
   "nbconvert_exporter": "python",
   "pygments_lexer": "ipython3",
   "version": "3.7.4"
  }
 },
 "nbformat": 4,
 "nbformat_minor": 4
}
