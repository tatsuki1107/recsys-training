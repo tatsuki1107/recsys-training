{
 "cells": [
  {
   "cell_type": "markdown",
   "metadata": {},
   "source": [
    "# 行列因子分解"
   ]
  },
  {
   "cell_type": "markdown",
   "metadata": {},
   "source": [
    "## 勾配降下法フルスクラッチ"
   ]
  },
  {
   "cell_type": "code",
   "execution_count": 159,
   "metadata": {},
   "outputs": [],
   "source": [
    "import numpy as np\n",
    "\n",
    "R = np.array([\n",
    "    [1, -1, np.nan, np.nan],\n",
    "    [1, -1, np.nan, 1],\n",
    "    [1, -1, -1, 1],\n",
    "    [np.nan, -1, -1, -1],\n",
    "    [1, np.nan, -1, -1],\n",
    "    [-1, -1, 1, -1],\n",
    "    [-1, 1, -1, np.nan]\n",
    "])\n",
    "np.random.seed(0)\n",
    "d = 2\n",
    "U = np.arange(R.shape[0])\n",
    "I = np.arange(R.shape[1])\n",
    "ALPHA = 0.008\n",
    "THETA = 0.01\n",
    "LAMBDA = 1"
   ]
  },
  {
   "cell_type": "code",
   "execution_count": 160,
   "metadata": {},
   "outputs": [
    {
     "data": {
      "text/plain": [
       "array([[0.549, 0.715],\n",
       "       [0.603, 0.545],\n",
       "       [0.424, 0.646],\n",
       "       [0.438, 0.892],\n",
       "       [0.964, 0.383],\n",
       "       [0.792, 0.529],\n",
       "       [0.568, 0.926]])"
      ]
     },
     "execution_count": 160,
     "metadata": {},
     "output_type": "execute_result"
    }
   ],
   "source": [
    "# 乱数でユーザ因子行列を初期化\n",
    "P = np.zeros((7, d))\n",
    "for u in U:\n",
    "    for k in range(d):\n",
    "        P[u,k] = round(np.random.rand(),3)\n",
    "P"
   ]
  },
  {
   "cell_type": "code",
   "execution_count": 161,
   "metadata": {},
   "outputs": [
    {
     "data": {
      "text/plain": [
       "array([[0.071, 0.087],\n",
       "       [0.02 , 0.833],\n",
       "       [0.778, 0.87 ],\n",
       "       [0.979, 0.799]])"
      ]
     },
     "execution_count": 161,
     "metadata": {},
     "output_type": "execute_result"
    }
   ],
   "source": [
    "# 乱数でアイテム因子行列を初期化\n",
    "Q = np.zeros((4, d))\n",
    "for i in I:\n",
    "    for k in range(d):\n",
    "        Q[i,k] = round(np.random.rand(),3)\n",
    "Q"
   ]
  },
  {
   "cell_type": "code",
   "execution_count": 162,
   "metadata": {},
   "outputs": [
    {
     "data": {
      "text/plain": [
       "array([[0.101184, 0.606575, 1.049172, 1.108756],\n",
       "       [0.090228, 0.466045, 0.943284, 1.025792],\n",
       "       [0.086306, 0.546598, 0.891892, 0.93125 ],\n",
       "       [0.108702, 0.751796, 1.116804, 1.14151 ],\n",
       "       [0.101765, 0.338319, 1.083202, 1.249773],\n",
       "       [0.102255, 0.456497, 1.076406, 1.198039],\n",
       "       [0.12089 , 0.782718, 1.247524, 1.295946]])"
      ]
     },
     "execution_count": 162,
     "metadata": {},
     "output_type": "execute_result"
    }
   ],
   "source": [
    "# 予測評価値行列\n",
    "R2 = P@Q.T\n",
    "R2"
   ]
  },
  {
   "cell_type": "code",
   "execution_count": 163,
   "metadata": {},
   "outputs": [
    {
     "data": {
      "text/plain": [
       "array([[ 0.898816, -1.606575,       nan,       nan],\n",
       "       [ 0.909772, -1.466045,       nan, -0.025792],\n",
       "       [ 0.913694, -1.546598, -1.891892,  0.06875 ],\n",
       "       [      nan, -1.751796, -2.116804, -2.14151 ],\n",
       "       [ 0.898235,       nan, -2.083202, -2.249773],\n",
       "       [-1.102255, -1.456497, -0.076406, -2.198039],\n",
       "       [-1.12089 ,  0.217282, -2.247524,       nan]])"
      ]
     },
     "execution_count": 163,
     "metadata": {},
     "output_type": "execute_result"
    }
   ],
   "source": [
    "# 残差行列\n",
    "E = R - R2\n",
    "E"
   ]
  },
  {
   "cell_type": "code",
   "execution_count": 164,
   "metadata": {},
   "outputs": [
    {
     "data": {
      "text/plain": [
       "50.049657323439"
      ]
     },
     "execution_count": 164,
     "metadata": {},
     "output_type": "execute_result"
    }
   ],
   "source": [
    "# 残差の行列のフロベニウスノルムの二乗\n",
    "E2_sum = np.nansum(E**2)\n",
    "E2_sum"
   ]
  },
  {
   "cell_type": "code",
   "execution_count": 165,
   "metadata": {},
   "outputs": [
    {
     "name": "stdout",
     "output_type": "stream",
     "text": [
      "43.189\n",
      "37.958\n",
      "33.931\n",
      "30.798\n",
      "28.332\n",
      "26.365\n",
      "24.775\n",
      "23.47\n",
      "22.379\n",
      "21.45\n",
      "20.643\n",
      "19.928\n",
      "19.281\n",
      "18.686\n",
      "18.132\n",
      "17.613\n",
      "17.128\n",
      "16.685\n",
      "16.299\n"
     ]
    }
   ],
   "source": [
    "# L2正則化してない\n",
    "Ef = []\n",
    "Ef.append(E2_sum);\n",
    "for i in range(1, 20):\n",
    "    E_Q = np.zeros((E.shape[0], Q.shape[1]))\n",
    "    for e in range(E.shape[0]):\n",
    "        for q in range(Q.shape[1]):\n",
    "            E_Q[e,q] = np.nansum(E[e,:]*Q[:,q])\n",
    "    P = P + 2*ALPHA*E_Q\n",
    "    P_E = np.zeros((P.T.shape[0], E.shape[1]))\n",
    "    for p in range(P.T.shape[0]):\n",
    "        for e in range(E.shape[1]):\n",
    "            P_E[p,e] = np.nansum(P.T[p,:]*E[:,e])\n",
    "    Q = (Q.T + 2*ALPHA*P_E).T\n",
    "    R2 = np.dot(P, Q.T)\n",
    "    E_sum = np.nansum((R-R2)**2)\n",
    "    Ef.append(E_sum)\n",
    "    if (np.abs(Ef[i-1]-Ef[i]) < THETA):\n",
    "        break\n",
    "    print(round(E_sum, 3))"
   ]
  },
  {
   "cell_type": "code",
   "execution_count": 166,
   "metadata": {},
   "outputs": [
    {
     "data": {
      "text/plain": [
       "array([[ 0.44391257, -1.04394453, -0.30407486,  0.26110137],\n",
       "       [ 0.42603794, -1.05943537, -0.28266415,  0.2003194 ],\n",
       "       [ 0.29587274, -0.70541788, -0.20113686,  0.16562332],\n",
       "       [ 0.12209669, -0.27387088, -0.08574818,  0.08340437],\n",
       "       [ 0.18053094, -0.57733026, -0.09931656, -0.02731687],\n",
       "       [ 0.23948812, -0.70324944, -0.14173002,  0.0184844 ],\n",
       "       [ 0.24047783, -0.40454049, -0.19037791,  0.2821218 ]])"
      ]
     },
     "execution_count": 166,
     "metadata": {},
     "output_type": "execute_result"
    }
   ],
   "source": [
    "np.dot(P, Q.T)"
   ]
  },
  {
   "cell_type": "code",
   "execution_count": 167,
   "metadata": {},
   "outputs": [
    {
     "data": {
      "text/plain": [
       "array([[ 1., -1., nan, nan],\n",
       "       [ 1., -1., nan,  1.],\n",
       "       [ 1., -1., -1.,  1.],\n",
       "       [nan, -1., -1., -1.],\n",
       "       [ 1., nan, -1., -1.],\n",
       "       [-1., -1.,  1., -1.],\n",
       "       [-1.,  1., -1., nan]])"
      ]
     },
     "execution_count": 167,
     "metadata": {},
     "output_type": "execute_result"
    }
   ],
   "source": [
    "R"
   ]
  },
  {
   "cell_type": "code",
   "execution_count": 168,
   "metadata": {},
   "outputs": [
    {
     "data": {
      "image/png": "[encoded data removed]",
      "text/plain": [
       "<Figure size 432x288 with 1 Axes>"
      ]
     },
     "metadata": {
      "needs_background": "light"
     },
     "output_type": "display_data"
    }
   ],
   "source": [
    "import matplotlib.pyplot as plt\n",
    "\n",
    "plt.plot(np.arange(len(Ef)), Ef)\n",
    "plt.show()"
   ]
  },
  {
   "cell_type": "code",
   "execution_count": 169,
   "metadata": {},
   "outputs": [
    {
     "data": {
      "text/plain": [
       "20"
      ]
     },
     "execution_count": 169,
     "metadata": {},
     "output_type": "execute_result"
    }
   ],
   "source": [
    "len(Ef)"
   ]
  },
  {
   "cell_type": "code",
   "execution_count": 170,
   "metadata": {},
   "outputs": [],
   "source": [
    "# 残差が16付近から下がらん！"
   ]
  },
  {
   "cell_type": "code",
   "execution_count": null,
   "metadata": {},
   "outputs": [],
   "source": []
  }
 ],
 "metadata": {
  "kernelspec": {
   "display_name": "Python 3",
   "language": "python",
   "name": "python3"
  },
  "language_info": {
   "codemirror_mode": {
    "name": "ipython",
    "version": 3
   },
   "file_extension": ".py",
   "mimetype": "text/x-python",
   "name": "python",
   "nbconvert_exporter": "python",
   "pygments_lexer": "ipython3",
   "version": "3.7.4"
  }
 },
 "nbformat": 4,
 "nbformat_minor": 4
}
