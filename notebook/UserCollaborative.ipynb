{
 "cells": [
  {
   "cell_type": "markdown",
   "metadata": {},
   "source": [
    "# ユーザベース協調フィルタリング"
   ]
  },
  {
   "cell_type": "code",
   "execution_count": 2,
   "metadata": {},
   "outputs": [],
   "source": [
    "import numpy as np\n",
    "np.set_printoptions(precision=3)\n",
    "\n",
    "# 近傍ユーザ数\n",
    "K_USERS = 3\n",
    "# 閾値\n",
    "THETA = 0\n",
    "\n",
    "R = np.array([\n",
    "              [np.nan, 4,      3,      1,      2,      np.nan],\n",
    "              [5,      5,      4,      np.nan, 3,      3     ],\n",
    "              [4,      np.nan, 5,      3,      2,      np.nan],\n",
    "              [np.nan, 3,      np.nan, 2,      1,      1     ],\n",
    "              [2,      1,      2,      4,      np.nan, 3     ],\n",
    "])\n",
    "U = np.arange(R.shape[0])\n",
    "I = np.arange(R.shape[1])\n",
    "Ui = [U[~np.isnan(R)[:,i]] for i in I]\n",
    "Iu = [I[~np.isnan(R)[u,:]] for u in U]\n",
    "ru_mean = np.nanmean(R, axis=1)\n",
    "R2 = R - ru_mean.reshape((ru_mean.size, 1))"
   ]
  },
  {
   "cell_type": "code",
   "execution_count": 10,
   "metadata": {},
   "outputs": [
    {
     "data": {
      "text/plain": [
       "array([0, 1, 2, 3, 4])"
      ]
     },
     "execution_count": 10,
     "metadata": {},
     "output_type": "execute_result"
    }
   ],
   "source": [
    "U"
   ]
  },
  {
   "cell_type": "code",
   "execution_count": 15,
   "metadata": {},
   "outputs": [
    {
     "data": {
      "text/plain": [
       "array([0, 1, 2, 3, 4, 5])"
      ]
     },
     "execution_count": 15,
     "metadata": {},
     "output_type": "execute_result"
    }
   ],
   "source": [
    "I"
   ]
  },
  {
   "cell_type": "code",
   "execution_count": 16,
   "metadata": {},
   "outputs": [
    {
     "data": {
      "text/plain": [
       "[array([1, 2, 4]),\n",
       " array([0, 1, 3, 4]),\n",
       " array([0, 1, 2, 4]),\n",
       " array([0, 2, 3, 4]),\n",
       " array([0, 1, 2, 3]),\n",
       " array([1, 3, 4])]"
      ]
     },
     "execution_count": 16,
     "metadata": {},
     "output_type": "execute_result"
    }
   ],
   "source": [
    "Ui"
   ]
  },
  {
   "cell_type": "code",
   "execution_count": 17,
   "metadata": {},
   "outputs": [
    {
     "data": {
      "text/plain": [
       "[array([1, 2, 3, 4]),\n",
       " array([0, 1, 2, 4, 5]),\n",
       " array([0, 2, 3, 4]),\n",
       " array([1, 3, 4, 5]),\n",
       " array([0, 1, 2, 3, 5])]"
      ]
     },
     "execution_count": 17,
     "metadata": {},
     "output_type": "execute_result"
    }
   ],
   "source": [
    "Iu"
   ]
  },
  {
   "cell_type": "code",
   "execution_count": 18,
   "metadata": {},
   "outputs": [
    {
     "data": {
      "text/plain": [
       "array([2.5 , 4.  , 3.5 , 1.75, 2.4 ])"
      ]
     },
     "execution_count": 18,
     "metadata": {},
     "output_type": "execute_result"
    }
   ],
   "source": [
    "ru_mean"
   ]
  },
  {
   "cell_type": "code",
   "execution_count": 21,
   "metadata": {},
   "outputs": [
    {
     "data": {
      "text/plain": [
       "array([[  nan,  1.5 ,  0.5 , -1.5 , -0.5 ,   nan],\n",
       "       [ 1.  ,  1.  ,  0.  ,   nan, -1.  , -1.  ],\n",
       "       [ 0.5 ,   nan,  1.5 , -0.5 , -1.5 ,   nan],\n",
       "       [  nan,  1.25,   nan,  0.25, -0.75, -0.75],\n",
       "       [-0.4 , -1.4 , -0.4 ,  1.6 ,   nan,  0.6 ]])"
      ]
     },
     "execution_count": 21,
     "metadata": {},
     "output_type": "execute_result"
    }
   ],
   "source": [
    "R2"
   ]
  },
  {
   "cell_type": "markdown",
   "metadata": {},
   "source": [
    "## ピアソンの相関係数"
   ]
  },
  {
   "cell_type": "code",
   "execution_count": 47,
   "metadata": {},
   "outputs": [
    {
     "data": {
      "text/plain": [
       "2.0"
      ]
     },
     "execution_count": 47,
     "metadata": {},
     "output_type": "execute_result"
    }
   ],
   "source": [
    "u = 0\n",
    "v = 1\n",
    "Iuv = np.intersect1d(Iu[u], Iu[v])\n",
    "num = np.sum([R2[u, i]*R2[v, i] for i in Iuv])\n",
    "num"
   ]
  },
  {
   "cell_type": "code",
   "execution_count": 52,
   "metadata": {},
   "outputs": [
    {
     "name": "stdout",
     "output_type": "stream",
     "text": [
      "1.658 1.414\n"
     ]
    }
   ],
   "source": [
    "den_u = round(np.sqrt(np.sum([R2[u, i]**2 for i in Iuv])), 3)\n",
    "den_v = round(np.sqrt(np.sum([R2[v, i]**2 for i in Iuv])), 3)\n",
    "print(den_u, den_v)"
   ]
  },
  {
   "cell_type": "code",
   "execution_count": 54,
   "metadata": {},
   "outputs": [
    {
     "data": {
      "text/plain": [
       "0.853"
      ]
     },
     "execution_count": 54,
     "metadata": {},
     "output_type": "execute_result"
    }
   ],
   "source": [
    "prsn = round(num / (den_u * den_v), 3)\n",
    "prsn"
   ]
  },
  {
   "cell_type": "markdown",
   "metadata": {},
   "source": [
    "## User-User類似度行列"
   ]
  },
  {
   "cell_type": "code",
   "execution_count": 56,
   "metadata": {},
   "outputs": [
    {
     "data": {
      "text/plain": [
       "array([[ 1.   ,  0.853,  0.623,  0.582, -0.997],\n",
       "       [ 0.853,  1.   ,  0.649,  0.969, -0.853],\n",
       "       [ 0.623,  0.649,  1.   ,  0.8  , -0.569],\n",
       "       [ 0.582,  0.969,  0.8  ,  1.   , -0.551],\n",
       "       [-0.997, -0.853, -0.569, -0.551,  1.   ]])"
      ]
     },
     "execution_count": 56,
     "metadata": {},
     "output_type": "execute_result"
    }
   ],
   "source": [
    "S = np.zeros((U.size, U.size))\n",
    "for u in U:\n",
    "    for v in U:\n",
    "        Iuv = np.intersect1d(Iu[u], Iu[v])\n",
    "        num = np.sum([R2[u,i]*R2[v,i] for i in Iuv])\n",
    "        den_u = round(np.sqrt(np.sum([R2[u, i]**2 for i in Iuv])), 3)\n",
    "        den_v = round(np.sqrt(np.sum([R2[v, i]**2 for i in Iuv])), 3)\n",
    "        prsn = round(num / (den_u * den_v), 3)\n",
    "        S[u,v] = prsn\n",
    "S\n",
    "        \n",
    "        "
   ]
  },
  {
   "cell_type": "markdown",
   "metadata": {},
   "source": [
    "## 類似ユーザの選定"
   ]
  },
  {
   "cell_type": "code",
   "execution_count": 57,
   "metadata": {},
   "outputs": [
    {
     "data": {
      "text/plain": [
       "{0: {1: 0.853, 2: 0.623, 3: 0.582, 4: -0.997},\n",
       " 1: {0: 0.853, 2: 0.649, 3: 0.969, 4: -0.853},\n",
       " 2: {0: 0.623, 1: 0.649, 3: 0.8, 4: -0.569},\n",
       " 3: {0: 0.582, 1: 0.969, 2: 0.8, 4: -0.551},\n",
       " 4: {0: -0.997, 1: -0.853, 2: -0.569, 3: -0.551}}"
      ]
     },
     "execution_count": 57,
     "metadata": {},
     "output_type": "execute_result"
    }
   ],
   "source": [
    "Uu = {u: {v: S[u,v] for v in U if u!=v} for u in U}\n",
    "Uu"
   ]
  },
  {
   "cell_type": "code",
   "execution_count": 67,
   "metadata": {},
   "outputs": [
    {
     "data": {
      "text/plain": [
       "{0: {1: 0.853, 2: 0.623, 3: 0.582},\n",
       " 1: {3: 0.969, 0: 0.853, 2: 0.649},\n",
       " 2: {3: 0.8, 1: 0.649, 0: 0.623},\n",
       " 3: {1: 0.969, 2: 0.8, 0: 0.582},\n",
       " 4: {3: -0.551, 2: -0.569, 1: -0.853}}"
      ]
     },
     "execution_count": 67,
     "metadata": {},
     "output_type": "execute_result"
    }
   ],
   "source": [
    "Uu ={u: dict(sorted(Uu[u].items(), key=lambda i:i[1], reverse=True)[:K_USERS]) for u in U}\n",
    "Uu "
   ]
  },
  {
   "cell_type": "code",
   "execution_count": null,
   "metadata": {},
   "outputs": [],
   "source": []
  }
 ],
 "metadata": {
  "kernelspec": {
   "display_name": "Python 3",
   "language": "python",
   "name": "python3"
  },
  "language_info": {
   "codemirror_mode": {
    "name": "ipython",
    "version": 3
   },
   "file_extension": ".py",
   "mimetype": "text/x-python",
   "name": "python",
   "nbconvert_exporter": "python",
   "pygments_lexer": "ipython3",
   "version": "3.7.4"
  }
 },
 "nbformat": 4,
 "nbformat_minor": 4
}
