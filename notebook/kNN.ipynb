{
 "cells": [
  {
   "cell_type": "markdown",
   "metadata": {},
   "source": [
    "# k近傍法を用いた内容ベース推薦"
   ]
  },
  {
   "cell_type": "code",
   "execution_count": 12,
   "metadata": {},
   "outputs": [],
   "source": [
    "import sys; sys.path.insert(0, '..')\n",
    "from util.data_loader import DataLoader\n",
    "Data = DataLoader.load()"
   ]
  },
  {
   "cell_type": "code",
   "execution_count": 13,
   "metadata": {},
   "outputs": [
    {
     "data": {
      "text/plain": [
       "array([[ 5.,  3.,  1.],\n",
       "       [ 6.,  2.,  1.],\n",
       "       [ 4.,  1.,  1.],\n",
       "       [ 8.,  5., -1.],\n",
       "       [ 2.,  4., -1.],\n",
       "       [ 3.,  6., -1.],\n",
       "       [ 7.,  6., -1.],\n",
       "       [ 4.,  2., nan],\n",
       "       [ 5.,  1., nan],\n",
       "       [ 8.,  6., nan],\n",
       "       [ 3.,  4., nan],\n",
       "       [ 4.,  7., nan],\n",
       "       [ 4.,  4., nan]])"
      ]
     },
     "execution_count": 13,
     "metadata": {},
     "output_type": "execute_result"
    }
   ],
   "source": [
    "Data"
   ]
  },
  {
   "cell_type": "code",
   "execution_count": 22,
   "metadata": {},
   "outputs": [],
   "source": [
    "from src.kNN import KNNRecommender\n",
    "recommender = KNNRecommender()\n",
    "\n",
    "# 近傍K件\n",
    "K_ITEMS = 3\n",
    "# レコメンド件数\n",
    "TOP_K = 3\n",
    "# 閾値\n",
    "THETA = 0\n",
    "rec_list = recommender.recommend(Data, K_ITEMS, TOP_K, THETA)"
   ]
  },
  {
   "cell_type": "code",
   "execution_count": 23,
   "metadata": {},
   "outputs": [
    {
     "data": {
      "text/plain": [
       "{7: 1.0, 8: 1.0}"
      ]
     },
     "execution_count": 23,
     "metadata": {},
     "output_type": "execute_result"
    }
   ],
   "source": [
    "rec_list"
   ]
  }
 ],
 "metadata": {
  "kernelspec": {
   "display_name": "Python 3",
   "language": "python",
   "name": "python3"
  },
  "language_info": {
   "codemirror_mode": {
    "name": "ipython",
    "version": 3
   },
   "file_extension": ".py",
   "mimetype": "text/x-python",
   "name": "python",
   "nbconvert_exporter": "python",
   "pygments_lexer": "ipython3",
   "version": "3.7.4"
  }
 },
 "nbformat": 4,
 "nbformat_minor": 4
}
