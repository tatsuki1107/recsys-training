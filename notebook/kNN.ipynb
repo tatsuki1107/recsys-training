{
 "cells": [
  {
   "cell_type": "markdown",
   "metadata": {},
   "source": [
    "### k近傍法を用いた内容ベース推薦"
   ]
  },
  {
   "cell_type": "code",
   "execution_count": 1,
   "metadata": {},
   "outputs": [],
   "source": [
    "import numpy as np\n",
    "Du = np.array([\n",
    "               [5, 3, +1],\n",
    "               [6, 2, +1],\n",
    "               [4, 1, +1],\n",
    "               [8, 5, -1],\n",
    "               [2, 4, -1],\n",
    "               [3, 6, -1],\n",
    "               [7, 6, -1],\n",
    "               [4, 2, np.nan],\n",
    "               [5, 1, np.nan],\n",
    "               [8, 6, np.nan],\n",
    "               [3, 4, np.nan],\n",
    "               [4, 7, np.nan],\n",
    "               [4, 4, np.nan],\n",
    "])\n",
    "I = np.arange(Du.shape[0])\n",
    "x = Du[:,:-1]\n",
    "Iu = I[~np.isnan(Du[:,-1])]\n",
    "Iup = I[Du[:,-1]==+1]\n",
    "Iun = I[Du[:,-1]==-1]\n",
    "Iu_not = np.setdiff1d(I, Iu)"
   ]
  },
  {
   "cell_type": "code",
   "execution_count": 62,
   "metadata": {},
   "outputs": [
    {
     "data": {
      "text/plain": [
       "array([0, 1, 2])"
      ]
     },
     "execution_count": 62,
     "metadata": {},
     "output_type": "execute_result"
    }
   ],
   "source": [
    "Iup"
   ]
  },
  {
   "cell_type": "code",
   "execution_count": 28,
   "metadata": {},
   "outputs": [
    {
     "data": {
      "text/plain": [
       "array([[1.414, 2.   , 1.   , 5.   , 2.828, 4.123, 5.   ],\n",
       "       [2.   , 1.414, 1.   , 5.   , 4.243, 5.385, 5.385],\n",
       "       [4.243, 4.472, 6.403, 1.   , 6.325, 5.   , 1.   ],\n",
       "       [2.236, 3.606, 3.162, 5.099, 1.   , 2.   , 4.472],\n",
       "       [4.123, 5.385, 6.   , 4.472, 3.606, 1.414, 3.162],\n",
       "       [1.414, 2.828, 3.   , 4.123, 2.   , 2.236, 3.606]])"
      ]
     },
     "execution_count": 28,
     "metadata": {},
     "output_type": "execute_result"
    }
   ],
   "source": [
    "D = np.zeros((Iu_not.size, Iu.size))\n",
    "for j in np.arange(len(Iu_not)):\n",
    "    for i in np.arange(len(Iu)):\n",
    "        x1 = x[Iu_not[j],0]-x[Iu[i],0]\n",
    "        x2 = x[Iu_not[j],1]-x[Iu[i],1]\n",
    "        D[j,i] = round(np.sqrt(np.sum((x1**2)+(x2**2))), 3)\n",
    "D"
   ]
  },
  {
   "cell_type": "code",
   "execution_count": 47,
   "metadata": {},
   "outputs": [
    {
     "data": {
      "text/plain": [
       "array([[2, 0, 1, 4, 5, 3, 6],\n",
       "       [2, 1, 0, 4, 3, 5, 6],\n",
       "       [3, 6, 0, 1, 5, 4, 2],\n",
       "       [4, 5, 0, 2, 1, 6, 3],\n",
       "       [5, 6, 4, 0, 3, 1, 2],\n",
       "       [0, 4, 5, 1, 2, 6, 3]])"
      ]
     },
     "execution_count": 47,
     "metadata": {},
     "output_type": "execute_result"
    }
   ],
   "source": [
    "near_dist = np.argsort(D[:,Iu])\n",
    "near_dist"
   ]
  },
  {
   "cell_type": "code",
   "execution_count": 52,
   "metadata": {},
   "outputs": [
    {
     "data": {
      "text/plain": [
       "array([[2, 0, 1],\n",
       "       [2, 1, 0],\n",
       "       [3, 6, 0],\n",
       "       [4, 5, 0],\n",
       "       [5, 6, 4],\n",
       "       [0, 4, 5]])"
      ]
     },
     "execution_count": 52,
     "metadata": {},
     "output_type": "execute_result"
    }
   ],
   "source": [
    "K_ITEMS = 3\n",
    "k = np.arange(K_ITEMS)\n",
    "near_dist = near_dist[:,k]\n",
    "near_dist"
   ]
  },
  {
   "cell_type": "code",
   "execution_count": 79,
   "metadata": {},
   "outputs": [
    {
     "data": {
      "text/plain": [
       "{7: array([2, 0, 1]),\n",
       " 8: array([2, 1, 0]),\n",
       " 9: array([3, 6, 0]),\n",
       " 10: array([4, 5, 0]),\n",
       " 11: array([5, 6, 4]),\n",
       " 12: array([0, 4, 5])}"
      ]
     },
     "execution_count": 79,
     "metadata": {},
     "output_type": "execute_result"
    }
   ],
   "source": [
    "nearItem = {Iu_not[i]: near_dist[i,:] for i in np.arange(len(Iu_not))}\n",
    "nearItem"
   ]
  },
  {
   "cell_type": "code",
   "execution_count": 83,
   "metadata": {},
   "outputs": [
    {
     "name": "stdout",
     "output_type": "stream",
     "text": [
      "I7+ = [2 0 1]\n",
      "I7- = []\n",
      "predict1(7) = 1.000\n",
      "I8+ = [2 1 0]\n",
      "I8- = []\n",
      "predict1(8) = 1.000\n",
      "I9+ = [0]\n",
      "I9- = [3 6]\n",
      "predict1(9) = -1.000\n",
      "I10+ = [0]\n",
      "I10- = [4 5]\n",
      "predict1(10) = -1.000\n",
      "I11+ = []\n",
      "I11- = [5 6 4]\n",
      "predict1(11) = -1.000\n",
      "I12+ = [0]\n",
      "I12- = [4 5]\n",
      "predict1(12) = -1.000\n"
     ]
    }
   ],
   "source": [
    "for i in Iu_not:\n",
    "    array = nearItem[i]\n",
    "    positive = array[np.isin(array, Iup)]\n",
    "    negative = array[np.isin(array, Iun)]\n",
    "    score = np.nan\n",
    "    if positive.size > negative.size:\n",
    "        score = +1\n",
    "    else:\n",
    "        score = -1\n",
    "    print('I{}+ = {}' .format(i, positive))\n",
    "    print('I{}- = {}' .format(i, negative))\n",
    "    print('predict1({}) = {:.3f}' .format(i, score))\n",
    "\n",
    "        "
   ]
  },
  {
   "cell_type": "code",
   "execution_count": 93,
   "metadata": {},
   "outputs": [
    {
     "data": {
      "text/plain": [
       "{7: 1.0, 8: 1.0, 9: -0.333, 10: -0.333, 11: -1.0, 12: -0.333}"
      ]
     },
     "execution_count": 93,
     "metadata": {},
     "output_type": "execute_result"
    }
   ],
   "source": [
    "pred_score = {}\n",
    "for i in Iu_not:\n",
    "    array = nearItem[i]\n",
    "    positive = array[np.isin(array, Iup)]\n",
    "    negative = array[np.isin(array, Iun)]\n",
    "    score = round(((positive.size - negative.size) / K_ITEMS), 3)\n",
    "    \n",
    "    pred_score[i] = score\n",
    "pred_score\n"
   ]
  },
  {
   "cell_type": "code",
   "execution_count": 94,
   "metadata": {},
   "outputs": [
    {
     "ename": "NameError",
     "evalue": "name 'TOP_K' is not defined",
     "output_type": "error",
     "traceback": [
      "\u001b[0;31m\u001b[0m",
      "\u001b[0;31mNameError\u001b[0mTraceback (most recent call last)",
      "\u001b[0;32m<ipython-input-94-18f09d2fa55c>\u001b[0m in \u001b[0;36m<module>\u001b[0;34m\u001b[0m\n\u001b[0;32m----> 1\u001b[0;31m \u001b[0mrec_list\u001b[0m \u001b[0;34m=\u001b[0m \u001b[0msorted\u001b[0m\u001b[0;34m(\u001b[0m\u001b[0mpred_score\u001b[0m\u001b[0;34m.\u001b[0m\u001b[0mitems\u001b[0m\u001b[0;34m(\u001b[0m\u001b[0;34m)\u001b[0m\u001b[0;34m,\u001b[0m \u001b[0mkey\u001b[0m\u001b[0;34m=\u001b[0m\u001b[0;32mlambda\u001b[0m \u001b[0mx\u001b[0m\u001b[0;34m:\u001b[0m\u001b[0mx\u001b[0m\u001b[0;34m[\u001b[0m\u001b[0;36m1\u001b[0m\u001b[0;34m]\u001b[0m\u001b[0;34m,\u001b[0m \u001b[0mreverse\u001b[0m\u001b[0;34m=\u001b[0m\u001b[0;32mTrue\u001b[0m\u001b[0;34m)\u001b[0m\u001b[0;34m[\u001b[0m\u001b[0;34m:\u001b[0m\u001b[0mTOP_K\u001b[0m\u001b[0;34m]\u001b[0m\u001b[0;34m\u001b[0m\u001b[0;34m\u001b[0m\u001b[0m\n\u001b[0m\u001b[1;32m      2\u001b[0m \u001b[0mrec_list\u001b[0m\u001b[0;34m\u001b[0m\u001b[0;34m\u001b[0m\u001b[0m\n",
      "\u001b[0;31mNameError\u001b[0m: name 'TOP_K' is not defined"
     ]
    }
   ],
   "source": [
    "# 上位K件\n",
    "TOP_K = 3\n",
    "# しきい値\n",
    "THETA = 0\n",
    "rec_list = \n",
    "rec_list = sorted(pred_score.items(), key=lambda x:x[1], reverse=True)\n",
    "rec_list"
   ]
  },
  {
   "cell_type": "code",
   "execution_count": 99,
   "metadata": {},
   "outputs": [
    {
     "data": {
      "text/plain": [
       "{7: 1.0, 8: 1.0}"
      ]
     },
     "execution_count": 99,
     "metadata": {},
     "output_type": "execute_result"
    }
   ],
   "source": [
    "keys = [k for k, t in pred_score.items() if t > 0]\n",
    "rec_list = {keys[i]: pred_score[keys[i]] for i in np.arange(len(keys))}\n",
    "rec_list"
   ]
  },
  {
   "cell_type": "code",
   "execution_count": null,
   "metadata": {},
   "outputs": [],
   "source": []
  }
 ],
 "metadata": {
  "kernelspec": {
   "display_name": "Python 3",
   "language": "python",
   "name": "python3"
  },
  "language_info": {
   "codemirror_mode": {
    "name": "ipython",
    "version": 3
   },
   "file_extension": ".py",
   "mimetype": "text/x-python",
   "name": "python",
   "nbconvert_exporter": "python",
   "pygments_lexer": "ipython3",
   "version": "3.7.4"
  }
 },
 "nbformat": 4,
 "nbformat_minor": 4
}
