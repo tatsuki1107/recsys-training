{
 "cells": [
  {
   "cell_type": "markdown",
   "metadata": {},
   "source": [
    "# アイテムベース協調フィルタリング\n",
    "\n",
    "### 調整コサイン類似度\n",
    "\n",
    "$$\n",
    "\\mathrm{cos}(i, j)^{'} = \\frac{\\sum_{u \\in U_{i,j}} r_{u,i}^{'} r_{u,j}^{'}}{\\sqrt{\\sum_{u \\in U_{i,j}} r_{u,i}^{'2}} \\sqrt{\\sum_{u \\in U_{i,j}} r_{u,j}^{'2}}}\n",
    "$$\n",
    "\n",
    "### 嗜好予測アルゴリズム\n",
    "\n",
    "$$\n",
    "\\hat{r}_{u,i} = \n",
    " \\begin{cases}\n",
    "  \\frac{\\sum_{j \\in I_{u}^{i}} \\mathrm{sim}(i, j) \\cdot r_{u,j}}{\\sum_{j \\in I_{u}^{i}} \\mid \\mathrm{sim}(i,j) \\mid} & (I_{u}^{i} \\neq \\emptyset) \\\\\n",
    "  \\overline{r}_{u} & (I_{u}^{i} = \\emptyset)\n",
    " \\end{cases}\n",
    "$$"
   ]
  },
  {
   "cell_type": "code",
   "execution_count": 19,
   "metadata": {},
   "outputs": [],
   "source": [
    "import sys; sys.path.insert(0, '..')\n",
    "\n",
    "from util.data_loader import DataLoader\n",
    "Data = DataLoader.userItemMatrix()"
   ]
  },
  {
   "cell_type": "code",
   "execution_count": 20,
   "metadata": {},
   "outputs": [
    {
     "data": {
      "text/plain": [
       "array([[nan,  4.,  3.,  1.,  2., nan],\n",
       "       [ 5.,  5.,  4., nan,  3.,  3.],\n",
       "       [ 4., nan,  5.,  3.,  2., nan],\n",
       "       [nan,  3., nan,  2.,  1.,  1.],\n",
       "       [ 2.,  1.,  2.,  4., nan,  3.]])"
      ]
     },
     "execution_count": 20,
     "metadata": {},
     "output_type": "execute_result"
    }
   ],
   "source": [
    "Data"
   ]
  },
  {
   "cell_type": "code",
   "execution_count": 21,
   "metadata": {},
   "outputs": [
    {
     "data": {
      "text/plain": [
       "array([[3.63 , 4.   , 3.   , 1.   , 2.   , 1.668],\n",
       "       [5.   , 5.   , 4.   , 3.   , 3.   , 3.   ],\n",
       "       [4.   , 4.516, 5.   , 3.   , 2.   , 2.332],\n",
       "       [3.   , 3.   , 3.   , 2.   , 1.   , 1.   ],\n",
       "       [2.   , 1.   , 2.   , 4.   , 3.319, 3.   ]])"
      ]
     },
     "execution_count": 21,
     "metadata": {},
     "output_type": "execute_result"
    }
   ],
   "source": [
    "from src.itemCollaborative import ItemCollaborativeRecommender\n",
    "\n",
    "# 近傍アイテム\n",
    "K_ITEMS = 3\n",
    "# 閾値\n",
    "THETA = 0\n",
    "\n",
    "recommender = ItemCollaborativeRecommender()\n",
    "rui_pred = recommender.recommend(Data, K_ITEMS, THETA)\n",
    "rui_pred"
   ]
  },
  {
   "cell_type": "code",
   "execution_count": null,
   "metadata": {},
   "outputs": [],
   "source": []
  }
 ],
 "metadata": {
  "kernelspec": {
   "display_name": "Python 3",
   "language": "python",
   "name": "python3"
  },
  "language_info": {
   "codemirror_mode": {
    "name": "ipython",
    "version": 3
   },
   "file_extension": ".py",
   "mimetype": "text/x-python",
   "name": "python",
   "nbconvert_exporter": "python",
   "pygments_lexer": "ipython3",
   "version": "3.7.4"
  }
 },
 "nbformat": 4,
 "nbformat_minor": 4
}
