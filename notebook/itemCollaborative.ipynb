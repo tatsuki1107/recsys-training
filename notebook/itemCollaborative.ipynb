{
 "cells": [
  {
   "cell_type": "code",
   "execution_count": 1,
   "metadata": {},
   "outputs": [],
   "source": [
    "import numpy as np\n",
    "np.set_printoptions(precision=3)\n",
    "\n",
    "# 近傍アイテム数\n",
    "K_ITEMS = 3\n",
    "# 閾値\n",
    "THETA = 0\n",
    "\n",
    "R = np.array([\n",
    "              [np.nan, 4,      3,      1,      2,      np.nan],\n",
    "              [5,      5,      4,      np.nan, 3,      3     ],\n",
    "              [4,      np.nan, 5,      3,      2,      np.nan],\n",
    "              [np.nan, 3,      np.nan, 2,      1,      1     ],\n",
    "              [2,      1,      2,      4,      np.nan, 3     ],\n",
    "])\n",
    "U = np.arange(R.shape[0])\n",
    "I = np.arange(R.shape[1])\n",
    "Ui = [U[~np.isnan(R)[:,i]] for i in I]\n",
    "Iu = [I[~np.isnan(R)[u,:]] for u in U]\n",
    "ru_mean = np.nanmean(R, axis=1)\n",
    "R2 = R - ru_mean.reshape((ru_mean.size, 1))\n"
   ]
  },
  {
   "cell_type": "code",
   "execution_count": 2,
   "metadata": {},
   "outputs": [
    {
     "data": {
      "text/plain": [
       "array([1, 2, 4])"
      ]
     },
     "execution_count": 2,
     "metadata": {},
     "output_type": "execute_result"
    }
   ],
   "source": [
    "Ui[0]"
   ]
  },
  {
   "cell_type": "code",
   "execution_count": 3,
   "metadata": {},
   "outputs": [
    {
     "data": {
      "text/plain": [
       "array([0, 1, 2, 3])"
      ]
     },
     "execution_count": 3,
     "metadata": {},
     "output_type": "execute_result"
    }
   ],
   "source": [
    "Ui[4]"
   ]
  },
  {
   "cell_type": "markdown",
   "metadata": {},
   "source": [
    "## コサイン類似度"
   ]
  },
  {
   "cell_type": "code",
   "execution_count": 8,
   "metadata": {},
   "outputs": [
    {
     "data": {
      "text/plain": [
       "array([1, 2])"
      ]
     },
     "execution_count": 8,
     "metadata": {},
     "output_type": "execute_result"
    }
   ],
   "source": [
    "i = 0\n",
    "j = 4\n",
    "Uij = np.intersect1d(Ui[i], Ui[j])\n",
    "Uij"
   ]
  },
  {
   "cell_type": "code",
   "execution_count": 22,
   "metadata": {},
   "outputs": [],
   "source": [
    "num = np.sum([R[u,i]*R[u,j] for u in Uij])\n",
    "den_i = np.sqrt(np.sum([R[u,i]**2 for u in Uij]))\n",
    "den_j = np.sqrt(np.sum([R[u,j]**2 for u in Uij]))"
   ]
  },
  {
   "cell_type": "code",
   "execution_count": 24,
   "metadata": {},
   "outputs": [
    {
     "data": {
      "text/plain": [
       "0.996"
      ]
     },
     "execution_count": 24,
     "metadata": {},
     "output_type": "execute_result"
    }
   ],
   "source": [
    "cosine = round(num / (den_i * den_j),3)\n",
    "cosine"
   ]
  },
  {
   "cell_type": "markdown",
   "metadata": {},
   "source": [
    "## 調整コサイン類似度 & アイテムxアイテム類似度行列"
   ]
  },
  {
   "cell_type": "code",
   "execution_count": 26,
   "metadata": {},
   "outputs": [],
   "source": [
    "num = np.sum([R2[u,i]*R2[u,j] for u in Uij])\n",
    "den_i = np.sqrt(np.sum([R2[u,i]**2 for u in Uij]))\n",
    "den_j = np.sqrt(np.sum([R2[u,j]**2 for u in Uij]))"
   ]
  },
  {
   "cell_type": "code",
   "execution_count": 27,
   "metadata": {},
   "outputs": [
    {
     "data": {
      "text/plain": [
       "-0.868"
      ]
     },
     "execution_count": 27,
     "metadata": {},
     "output_type": "execute_result"
    }
   ],
   "source": [
    "cosine = round(num / (den_i * den_j),3)\n",
    "cosine"
   ]
  },
  {
   "cell_type": "code",
   "execution_count": 34,
   "metadata": {},
   "outputs": [
    {
     "data": {
      "text/plain": [
       "array([[ 1.   ,  0.842,  0.494, -0.829, -0.868, -0.987],\n",
       "       [ 0.842,  1.   ,  0.896, -0.788, -0.91 , -0.942],\n",
       "       [ 0.494,  0.896,  1.   , -0.583, -0.845, -0.514],\n",
       "       [-0.829, -0.788, -0.583,  1.   ,  0.469,  0.497],\n",
       "       [-0.868, -0.91 , -0.845,  0.469,  1.   ,  1.   ],\n",
       "       [-0.987, -0.942, -0.514,  0.497,  1.   ,  1.   ]])"
      ]
     },
     "execution_count": 34,
     "metadata": {},
     "output_type": "execute_result"
    }
   ],
   "source": [
    "S = np.zeros((I.size, I.size))\n",
    "for i in I:\n",
    "    for j in I:\n",
    "        Uij = np.intersect1d(Ui[i], Ui[j])\n",
    "        num = np.sum([R2[u,i]*R2[u,j] for u in Uij])\n",
    "        den_i = np.sqrt(np.sum([R2[u,i]**2 for u in Uij]))\n",
    "        den_j = np.sqrt(np.sum([R2[u,j]**2 for u in Uij]))\n",
    "        # 調整コサイン類似度\n",
    "        cosine = round(num / (den_i * den_j),3)\n",
    "        S[i,j] = cosine\n",
    "S"
   ]
  },
  {
   "cell_type": "markdown",
   "metadata": {},
   "source": [
    "## 類似アイテムの選定"
   ]
  },
  {
   "cell_type": "code",
   "execution_count": 35,
   "metadata": {},
   "outputs": [
    {
     "data": {
      "text/plain": [
       "{0: {1: 0.842, 2: 0.494, 3: -0.829, 4: -0.868, 5: -0.987},\n",
       " 1: {0: 0.842, 2: 0.896, 3: -0.788, 4: -0.91, 5: -0.942},\n",
       " 2: {0: 0.494, 1: 0.896, 3: -0.583, 4: -0.845, 5: -0.514},\n",
       " 3: {0: -0.829, 1: -0.788, 2: -0.583, 4: 0.469, 5: 0.497},\n",
       " 4: {0: -0.868, 1: -0.91, 2: -0.845, 3: 0.469, 5: 1.0},\n",
       " 5: {0: -0.987, 1: -0.942, 2: -0.514, 3: 0.497, 4: 1.0}}"
      ]
     },
     "execution_count": 35,
     "metadata": {},
     "output_type": "execute_result"
    }
   ],
   "source": [
    "# アイテム-アイテム類似度行列から対象アイテムを除外した辞書\n",
    "Ii = {i: {j: S[i,j] for j in I if i != j} for i in I}\n",
    "Ii"
   ]
  },
  {
   "cell_type": "code",
   "execution_count": 42,
   "metadata": {},
   "outputs": [
    {
     "data": {
      "text/plain": [
       "{0: {1: 0.842, 2: 0.494, 3: -0.829},\n",
       " 1: {2: 0.896, 0: 0.842, 3: -0.788},\n",
       " 2: {1: 0.896, 0: 0.494, 5: -0.514},\n",
       " 3: {5: 0.497, 4: 0.469, 2: -0.583},\n",
       " 4: {5: 1.0, 3: 0.469, 2: -0.845},\n",
       " 5: {4: 1.0, 3: 0.497, 2: -0.514}}"
      ]
     },
     "execution_count": 42,
     "metadata": {},
     "output_type": "execute_result"
    }
   ],
   "source": [
    "Ii = {i: dict(sorted(Ii[i].items(), key=lambda x:x[1], reverse=True)[:K_ITEMS]) for i in I}\n",
    "Ii"
   ]
  },
  {
   "cell_type": "code",
   "execution_count": 49,
   "metadata": {},
   "outputs": [
    {
     "data": {
      "text/plain": [
       "{0: array([1, 2]),\n",
       " 1: array([2, 0]),\n",
       " 2: array([1, 0]),\n",
       " 3: array([5, 4]),\n",
       " 4: array([5, 3]),\n",
       " 5: array([4, 3])}"
      ]
     },
     "execution_count": 49,
     "metadata": {},
     "output_type": "execute_result"
    }
   ],
   "source": [
    "Ii = {i: np.array([k for k, j in Ii[i].items() if j > THETA]) for i in I}\n",
    "Ii"
   ]
  },
  {
   "cell_type": "markdown",
   "metadata": {},
   "source": [
    "## 嗜好予測"
   ]
  },
  {
   "cell_type": "code",
   "execution_count": 50,
   "metadata": {},
   "outputs": [
    {
     "data": {
      "text/plain": [
       "[array([1, 2, 3, 4]),\n",
       " array([0, 1, 2, 4, 5]),\n",
       " array([0, 2, 3, 4]),\n",
       " array([1, 3, 4, 5]),\n",
       " array([0, 1, 2, 3, 5])]"
      ]
     },
     "execution_count": 50,
     "metadata": {},
     "output_type": "execute_result"
    }
   ],
   "source": [
    "Iu"
   ]
  },
  {
   "cell_type": "code",
   "execution_count": 51,
   "metadata": {},
   "outputs": [
    {
     "data": {
      "text/plain": [
       "[array([1, 2, 4]),\n",
       " array([0, 1, 3, 4]),\n",
       " array([0, 1, 2, 4]),\n",
       " array([0, 2, 3, 4]),\n",
       " array([0, 1, 2, 3]),\n",
       " array([1, 3, 4])]"
      ]
     },
     "execution_count": 51,
     "metadata": {},
     "output_type": "execute_result"
    }
   ],
   "source": [
    "Ui"
   ]
  },
  {
   "cell_type": "code",
   "execution_count": 75,
   "metadata": {},
   "outputs": [
    {
     "data": {
      "text/plain": [
       "array([5])"
      ]
     },
     "execution_count": 75,
     "metadata": {},
     "output_type": "execute_result"
    }
   ],
   "source": [
    "u = 1\n",
    "i = 4\n",
    "Iiu = np.intersect1d(Ii[i], Iu[u])\n",
    "Iiu"
   ]
  },
  {
   "cell_type": "code",
   "execution_count": 78,
   "metadata": {},
   "outputs": [
    {
     "data": {
      "text/plain": [
       "nan"
      ]
     },
     "execution_count": 78,
     "metadata": {},
     "output_type": "execute_result"
    }
   ],
   "source": [
    "np.sum([S[i,j]*R2[0,j] for j in Iiu])"
   ]
  },
  {
   "cell_type": "code",
   "execution_count": 77,
   "metadata": {},
   "outputs": [
    {
     "data": {
      "text/plain": [
       "nan"
      ]
     },
     "execution_count": 77,
     "metadata": {},
     "output_type": "execute_result"
    }
   ],
   "source": [
    "rui_pred = round((ru_mean[u] + np.sum([S[i,j]*R2[0,j] for j in Iiu]) / np.sum(np.abs([S[i,j] for j in Iiu]))), 3)\n",
    "rui_pred"
   ]
  },
  {
   "cell_type": "code",
   "execution_count": 79,
   "metadata": {},
   "outputs": [
    {
     "name": "stdout",
     "output_type": "stream",
     "text": [
      "0 [1 2]\n",
      "5 [3 4]\n",
      "3 [4 5]\n",
      "1 [0 2]\n",
      "5 [3 4]\n",
      "0 [1]\n",
      "2 [1]\n",
      "4 [3 5]\n"
     ]
    },
    {
     "data": {
      "text/plain": [
       "array([[3.63 , 4.   , 3.   , 1.   , 2.   , 1.668],\n",
       "       [5.   , 5.   , 4.   , 3.   , 3.   , 3.   ],\n",
       "       [4.   , 4.516, 5.   , 3.   , 2.   , 2.332],\n",
       "       [3.   , 3.   , 3.   , 2.   , 1.   , 1.   ],\n",
       "       [2.   , 1.   , 2.   , 4.   , 3.319, 3.   ]])"
      ]
     },
     "execution_count": 79,
     "metadata": {},
     "output_type": "execute_result"
    }
   ],
   "source": [
    "R3 = R.copy()\n",
    "for u in U:\n",
    "    for i in I:\n",
    "        if ~np.isnan(R3[u,i]):\n",
    "            continue\n",
    "        Iiu = np.intersect1d(Ii[i], Iu[u])\n",
    "        pri\n",
    "        rui_pred = round((ru_mean[u] + np.sum([S[i,j]*R2[u,j] for j in Iiu]) / np.sum(np.abs([S[i,j] for j in Iiu]))), 3)\n",
    "        R3[u,i] = rui_pred\n",
    "R3\n",
    "        "
   ]
  },
  {
   "cell_type": "code",
   "execution_count": null,
   "metadata": {},
   "outputs": [],
   "source": []
  }
 ],
 "metadata": {
  "kernelspec": {
   "display_name": "Python 3",
   "language": "python",
   "name": "python3"
  },
  "language_info": {
   "codemirror_mode": {
    "name": "ipython",
    "version": 3
   },
   "file_extension": ".py",
   "mimetype": "text/x-python",
   "name": "python",
   "nbconvert_exporter": "python",
   "pygments_lexer": "ipython3",
   "version": "3.7.4"
  }
 },
 "nbformat": 4,
 "nbformat_minor": 4
}
