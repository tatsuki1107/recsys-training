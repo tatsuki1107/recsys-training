{
 "cells": [
  {
   "cell_type": "markdown",
   "metadata": {},
   "source": [
    "# 評価値行列の次元削減"
   ]
  },
  {
   "cell_type": "code",
   "execution_count": 35,
   "metadata": {},
   "outputs": [],
   "source": [
    "import numpy as np\n",
    "import numpy.linalg as LA\n",
    "np.set_printoptions(precision=3)\n",
    "\n",
    "# 縮約後の次元数\n",
    "DIM = 2\n",
    "\n",
    "R = np.array([\n",
    "              [np.nan, 4,      3,      1,      2,      np.nan],\n",
    "              [5,      5,      4,      np.nan, 3,      3     ],\n",
    "              [4,      np.nan, 5,      3,      2,      np.nan],\n",
    "              [np.nan, 3,      np.nan, 2,      1,      1     ],\n",
    "              [2,      1,      2,      4,      np.nan, 3     ],\n",
    "])\n",
    "U = np.arange(R.shape[0])\n",
    "I = np.arange(R.shape[1])\n",
    "Ui = [U[~np.isnan(R)[:,i]] for i in I]\n",
    "Iu = [I[~np.isnan(R)[u,:]] for u in U]\n",
    "ru_mean = np.nanmean(R, axis=1)\n",
    "R2 = R - ru_mean.reshape((ru_mean.size, 1))"
   ]
  },
  {
   "cell_type": "code",
   "execution_count": 36,
   "metadata": {},
   "outputs": [
    {
     "data": {
      "text/plain": [
       "array([[  nan,  1.5 ,  0.5 , -1.5 , -0.5 ,   nan],\n",
       "       [ 1.  ,  1.  ,  0.  ,   nan, -1.  , -1.  ],\n",
       "       [ 0.5 ,   nan,  1.5 , -0.5 , -1.5 ,   nan],\n",
       "       [  nan,  1.25,   nan,  0.25, -0.75, -0.75],\n",
       "       [-0.4 , -1.4 , -0.4 ,  1.6 ,   nan,  0.6 ]])"
      ]
     },
     "execution_count": 36,
     "metadata": {},
     "output_type": "execute_result"
    }
   ],
   "source": [
    "R2"
   ]
  },
  {
   "cell_type": "code",
   "execution_count": 37,
   "metadata": {},
   "outputs": [
    {
     "data": {
      "text/plain": [
       "array([ 0.367,  0.588,  0.4  , -0.037, -0.938, -0.383])"
      ]
     },
     "execution_count": 37,
     "metadata": {},
     "output_type": "execute_result"
    }
   ],
   "source": [
    "ri2_mean = np.nanmean(R2, axis=0)\n",
    "ri2_mean"
   ]
  },
  {
   "cell_type": "code",
   "execution_count": 38,
   "metadata": {},
   "outputs": [
    {
     "data": {
      "text/plain": [
       "array([0.336, 1.348, 0.505, 1.279, 0.137, 0.494])"
      ]
     },
     "execution_count": 38,
     "metadata": {},
     "output_type": "execute_result"
    }
   ],
   "source": [
    "s2 = np.nanvar(R2, axis=0)\n",
    "s2"
   ]
  },
  {
   "cell_type": "code",
   "execution_count": 39,
   "metadata": {},
   "outputs": [
    {
     "data": {
      "text/plain": [
       "0.8924999999999998"
      ]
     },
     "execution_count": 39,
     "metadata": {},
     "output_type": "execute_result"
    }
   ],
   "source": [
    "i = 0\n",
    "j = 1\n",
    "Uij = np.intersect1d(Ui[i], Ui[j])\n",
    "sij = np.sum([(R2[u,i]-ri2_mean[i])*(R2[u,j]-ri2_mean[j]) for u in Uij]) / len(Uij)\n",
    "sij"
   ]
  },
  {
   "cell_type": "code",
   "execution_count": 40,
   "metadata": {},
   "outputs": [
    {
     "data": {
      "text/plain": [
       "array([[ 0.336,  0.892,  0.169, -0.659, -0.057, -0.572],\n",
       "       [ 0.892,  1.348,  0.505, -1.466,  0.166, -0.817],\n",
       "       [ 0.169,  0.505,  0.505, -0.655, -0.183, -0.27 ],\n",
       "       [-0.659, -1.466, -0.655,  1.279, -0.109,  0.752],\n",
       "       [-0.057,  0.166, -0.183, -0.109,  0.137, -0.015],\n",
       "       [-0.572, -0.817, -0.27 ,  0.752, -0.015,  0.494]])"
      ]
     },
     "execution_count": 40,
     "metadata": {},
     "output_type": "execute_result"
    }
   ],
   "source": [
    "S = np.zeros((I.size, I.size))\n",
    "for i in I:\n",
    "    for j in I:\n",
    "        Uij = np.intersect1d(Ui[i], Ui[j])\n",
    "        S[i,j] = round(np.sum([(R2[u,i]-ri2_mean[i])*(R2[u,j]-ri2_mean[j]) for u in Uij]) / len(Uij), 3)\n",
    "\n",
    "S"
   ]
  },
  {
   "cell_type": "markdown",
   "metadata": {},
   "source": [
    "# 固有値・固有ベクトル\n"
   ]
  },
  {
   "cell_type": "code",
   "execution_count": 41,
   "metadata": {},
   "outputs": [],
   "source": [
    "lmd, v = LA.eig(S)"
   ]
  },
  {
   "cell_type": "code",
   "execution_count": 42,
   "metadata": {},
   "outputs": [
    {
     "data": {
      "text/plain": [
       "array([ 3.908,  0.48 ,  0.233, -0.313, -0.049, -0.16 ])"
      ]
     },
     "execution_count": 42,
     "metadata": {},
     "output_type": "execute_result"
    }
   ],
   "source": [
    "lmd"
   ]
  },
  {
   "cell_type": "code",
   "execution_count": 53,
   "metadata": {},
   "outputs": [
    {
     "data": {
      "text/plain": [
       "array([[-0.327, -0.228, -0.484, -0.685,  0.279, -0.246],\n",
       "       [-0.609, -0.212,  0.1  ,  0.565,  0.37 , -0.344],\n",
       "       [-0.245,  0.806,  0.098, -0.134, -0.203, -0.471],\n",
       "       [ 0.583, -0.126, -0.374,  0.258, -0.02 , -0.661],\n",
       "       [-0.028, -0.462,  0.624, -0.294, -0.395, -0.392],\n",
       "       [ 0.348,  0.157,  0.466, -0.204,  0.767, -0.088]])"
      ]
     },
     "execution_count": 53,
     "metadata": {},
     "output_type": "execute_result"
    }
   ],
   "source": [
    "v"
   ]
  },
  {
   "cell_type": "code",
   "execution_count": 54,
   "metadata": {},
   "outputs": [
    {
     "data": {
      "text/plain": [
       "array([[-0.327, -0.228],\n",
       "       [-0.609, -0.212],\n",
       "       [-0.245,  0.806],\n",
       "       [ 0.583, -0.126],\n",
       "       [-0.028, -0.462],\n",
       "       [ 0.348,  0.157]])"
      ]
     },
     "execution_count": 54,
     "metadata": {},
     "output_type": "execute_result"
    }
   ],
   "source": [
    "# 第d主成分までの固有ベクトル\n",
    "V = v[:, np.argsort(-lmd)[:DIM]]\n",
    "V"
   ]
  },
  {
   "cell_type": "code",
   "execution_count": 60,
   "metadata": {},
   "outputs": [
    {
     "data": {
      "text/plain": [
       "-0.47421196817216366"
      ]
     },
     "execution_count": 60,
     "metadata": {},
     "output_type": "execute_result"
    }
   ],
   "source": [
    "u = 0\n",
    "k = 0\n",
    "np.sum([R2[u,i]*V[i,k] for i in Iu[u]]) / Iu[u].size"
   ]
  },
  {
   "cell_type": "code",
   "execution_count": 59,
   "metadata": {},
   "outputs": [
    {
     "data": {
      "text/plain": [
       "array([-0.327, -0.228])"
      ]
     },
     "execution_count": 59,
     "metadata": {},
     "output_type": "execute_result"
    }
   ],
   "source": [
    "V[0,:]"
   ]
  },
  {
   "cell_type": "code",
   "execution_count": 63,
   "metadata": {},
   "outputs": [
    {
     "data": {
      "text/plain": [
       "array([[-0.474,  0.126],\n",
       "       [-0.251, -0.027],\n",
       "       [-0.195,  0.463],\n",
       "       [-0.214, -0.017],\n",
       "       [ 0.445, -0.009]])"
      ]
     },
     "execution_count": 63,
     "metadata": {},
     "output_type": "execute_result"
    }
   ],
   "source": [
    "# 潜在因子行列\n",
    "P = np.zeros((U.size, DIM))\n",
    "for u in U:\n",
    "    for k in np.arange(DIM):\n",
    "        P[u,k] = np.sum([R2[u,i]*V[i,k] for i in Iu[u]]) / Iu[u].size\n",
    "P"
   ]
  },
  {
   "cell_type": "code",
   "execution_count": null,
   "metadata": {},
   "outputs": [],
   "source": []
  }
 ],
 "metadata": {
  "kernelspec": {
   "display_name": "Python 3",
   "language": "python",
   "name": "python3"
  },
  "language_info": {
   "codemirror_mode": {
    "name": "ipython",
    "version": 3
   },
   "file_extension": ".py",
   "mimetype": "text/x-python",
   "name": "python",
   "nbconvert_exporter": "python",
   "pygments_lexer": "ipython3",
   "version": "3.7.4"
  }
 },
 "nbformat": 4,
 "nbformat_minor": 4
}
