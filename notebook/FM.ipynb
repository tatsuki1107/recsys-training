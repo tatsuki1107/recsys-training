{
 "cells": [
  {
   "cell_type": "markdown",
   "id": "4da38e27-3ab1-4f41-b10f-465ee451b878",
   "metadata": {},
   "source": [
    "# factorization machines スクラッチ"
   ]
  },
  {
   "cell_type": "code",
   "execution_count": 1,
   "id": "83d151bc-7fd1-4f95-9f80-3fee23ca801a",
   "metadata": {},
   "outputs": [],
   "source": [
    "import numpy as np\n",
    "from sklearn.preprocessing import OneHotEncoder\n",
    "from sklearn.metrics import mean_squared_error\n",
    "import matplotlib.pyplot as plt\n",
    "import seaborn as sns; sns.set()\n",
    "import sys; sys.path.append('..')\n",
    "from util.time import stop_watch\n",
    "%matplotlib inline"
   ]
  },
  {
   "cell_type": "code",
   "execution_count": 2,
   "id": "469ec5d3-841f-4127-ab8f-02c83560ae29",
   "metadata": {},
   "outputs": [],
   "source": [
    "class FM:\n",
    "    def __init__(\n",
    "        self, \n",
    "        epochs=50, \n",
    "        n_factors=3, \n",
    "        learning_rate=1e-6,\n",
    "        random_seed=1234\n",
    "    ):\n",
    "        self.epochs = epochs\n",
    "        self.n_factors = n_factors\n",
    "        self.learning_rate = learning_rate\n",
    "        self.random_seed = random_seed\n",
    "    \n",
    "    @stop_watch\n",
    "    def fit(self, X, y) -> None:\n",
    "        \n",
    "        self.n_samples, self.n_features = X.shape\n",
    "        self.w0 = 0.0\n",
    "        self.wi = np.zeros(self.n_features)\n",
    "        \n",
    "        np.random.seed(self.random_seed)\n",
    "        self.V = np.random.normal(\n",
    "            scale=1/np.sqrt(self.n_factors),\n",
    "            size=(self.n_factors, self.n_features)\n",
    "        )\n",
    "        \n",
    "        self.losses = []\n",
    "        for _ in range(self.epochs):\n",
    "        \n",
    "            y_hat = self.predict(X)\n",
    "            loss = np.sqrt(mean_squared_error(y, y_hat))\n",
    "            self.losses.append(loss)\n",
    "            error = y - y_hat\n",
    "            \n",
    "            for column_index in range(self.n_samples):\n",
    "                \n",
    "                e_i =  error[column_index]\n",
    "                \n",
    "                # update w0\n",
    "                self.w0 += 2*self.learning_rate*e_i\n",
    "                \n",
    "                # update wi\n",
    "                for feature in range(self.n_features):\n",
    "                    wi_grad = X[column_index,feature]\n",
    "                    self.wi[feature] += 2*self.learning_rate*e_i*wi_grad\n",
    "                \n",
    "                # update V\n",
    "                for factor in range(self.n_factors):\n",
    "                    for feature in range(self.n_features):\n",
    "                        term = self.V[factor,:]@X[column_index,:]\n",
    "                        V_grad = X[column_index, feature]*term - self.V[factor, feature]*(X[column_index, feature]**2)\n",
    "                        \n",
    "                        self.V[factor, feature] += 2*self.learning_rate*e_i*V_grad\n",
    "                                    \n",
    "    def predict(self, X):\n",
    "        \n",
    "        # 2項目\n",
    "        linear_out = X@self.wi\n",
    "        \n",
    "        #３項目\n",
    "        factor_out = np.array([\n",
    "            0.5*np.sum(np.array([(self.V[factor,:]@X[column_index,:])**2 - (self.V[factor,:]**2)@(X[column_index,:]**2) \n",
    "                                 for factor in range(self.n_factors)])) \n",
    "            for column_index in range(self.n_samples)\n",
    "        ])\n",
    "\n",
    "        return self.w0 + linear_out + factor_out \n",
    "        \n",
    "    \n",
    "    def predict_instance(self, x):\n",
    "        \n",
    "        # 2項目\n",
    "        linear_out = x@self.wi\n",
    "        \n",
    "        # 3項目\n",
    "        factor_out = 0.5*np.sum(np.array([(self.V[factor,:]@x)**2 - (self.V[factor,:]**2)@(x**2) for factor in range(self.n_factors)]))\n",
    "        \n",
    "        return self.w0 + linear_out + factor_out\n",
    "        \n",
    "    \n",
    "    def plot_train_curve(self, ylim_min=0.0, ylim_max=6.0):\n",
    "        plt.subplots(1, figsize=(8,6))\n",
    "        plt.plot(np.arange(len(self.losses)), self.losses, label=\"Train RMSE\", linewidth=3)\n",
    "   \n",
    "        plt.title(\"Train Curves\", fontdict=dict(size=20))\n",
    "        plt.xlabel(\"Number of Epochs\", fontdict=dict(size=20))\n",
    "        plt.ylabel(\"Root Mean Squared Error\", fontdict=dict(size=20))\n",
    "        plt.ylim([ylim_min, ylim_max])\n",
    "        plt.tight_layout()\n",
    "        plt.legend(loc=\"best\", fontsize=20)\n",
    "        plt.show()\n",
    "        "
   ]
  },
  {
   "cell_type": "code",
   "execution_count": 3,
   "id": "6d73bcf3-f5ff-4faf-a6bc-4eacfc6f95a4",
   "metadata": {},
   "outputs": [],
   "source": [
    "import pandas as pd\n",
    "\n",
    "rating_df = pd.read_csv(\"../data/movielens/train_rating.csv\")"
   ]
  },
  {
   "cell_type": "code",
   "execution_count": 4,
   "id": "1847d20f-bbd5-4496-befc-da7b1c45c8b7",
   "metadata": {},
   "outputs": [],
   "source": [
    "rating_df = rating_df.sort_values('timestamp', ascending=False)\n",
    "rating_df = rating_df.iloc[0:100]"
   ]
  },
  {
   "cell_type": "code",
   "execution_count": 5,
   "id": "2097f72f-0261-43c6-9970-5fd1e81b1d2a",
   "metadata": {},
   "outputs": [],
   "source": [
    "ratings = rating_df[\"rating\"].values\n",
    "rating_df = rating_df[[\"user_id\",\"movie_id\"]]"
   ]
  },
  {
   "cell_type": "code",
   "execution_count": 6,
   "id": "fa47a670-94c6-496d-a85c-fa8490727aff",
   "metadata": {},
   "outputs": [],
   "source": [
    "features = rating_df.values\n",
    "features = OneHotEncoder().fit_transform(features).toarray()"
   ]
  },
  {
   "cell_type": "code",
   "execution_count": 7,
   "id": "2df70294-db3b-4a65-82ed-d59ded86ffe9",
   "metadata": {},
   "outputs": [
    {
     "name": "stdout",
     "output_type": "stream",
     "text": [
      "fitの処理時間:　4.62秒\n"
     ]
    },
    {
     "data": {
      "image/png": "[encoded data removed]",
      "text/plain": [
       "<Figure size 800x600 with 1 Axes>"
      ]
     },
     "metadata": {},
     "output_type": "display_data"
    }
   ],
   "source": [
    "model = FM(learning_rate=2e-4)\n",
    "model.fit(features, ratings)\n",
    "model.plot_train_curve()"
   ]
  },
  {
   "cell_type": "code",
   "execution_count": 8,
   "id": "3591e672-02e5-424c-a90a-ccc31cb19b5e",
   "metadata": {},
   "outputs": [
    {
     "name": "stdout",
     "output_type": "stream",
     "text": [
      "y = 3.5, y^ = 2.90\n"
     ]
    }
   ],
   "source": [
    "index = 2\n",
    "y_hat = model.predict_instance(features[index])\n",
    "print(f\"y = {ratings[index]}, y^ = {y_hat:.2f}\")"
   ]
  },
  {
   "cell_type": "markdown",
   "id": "a41e9563-a139-42d4-b7b7-311bdd6d8ca5",
   "metadata": {},
   "source": [
    "## 第三項目の交互作用項の計算, O(D^2)かO(kD)の比較"
   ]
  },
  {
   "cell_type": "code",
   "execution_count": 9,
   "id": "186c749a-ff14-4c8e-9bd7-243666ab9f73",
   "metadata": {},
   "outputs": [],
   "source": [
    "from time import time"
   ]
  },
  {
   "cell_type": "code",
   "execution_count": 12,
   "id": "d54b1edd-f5ec-49e9-a697-a1d0e6678e44",
   "metadata": {},
   "outputs": [
    {
     "name": "stdout",
     "output_type": "stream",
     "text": [
      "計算時間：　0.50\n"
     ]
    }
   ],
   "source": [
    "start = time()\n",
    "\n",
    "X = features\n",
    "linear_out = X@model.wi\n",
    "factor_out = []\n",
    "for column_index in range(model.n_samples):\n",
    "    pred = 0\n",
    "    for i in range(model.n_features):\n",
    "        for j in range(i+1, model.n_features):\n",
    "            pred += model.V[:,i].dot(model.V[:,j])*X[column_index,i]*X[column_index,j]\n",
    "    factor_out.append(pred)\n",
    "        \n",
    "y_hat = model.w0 + linear_out + np.array(factor_out) \n",
    "\n",
    "stop = time()\n",
    "print(f\"計算時間：　{stop-start:.2f}\")"
   ]
  },
  {
   "cell_type": "code",
   "execution_count": 13,
   "id": "c99026bb-7eea-4d0e-b19d-ab64641cf914",
   "metadata": {},
   "outputs": [
    {
     "name": "stdout",
     "output_type": "stream",
     "text": [
      "計算時間：　0.00\n"
     ]
    }
   ],
   "source": [
    "start = time()\n",
    "\n",
    "X = features\n",
    "linear_out = X@model.wi\n",
    "factor_out = np.array([\n",
    "    0.5*np.sum(np.array([(model.V[factor,:]@X[column_index,:])**2 - (model.V[factor,:]**2)@(X[column_index,:]**2) \n",
    "                         for factor in range(model.n_factors)])) \n",
    "    for column_index in range(model.n_samples)\n",
    "])\n",
    "\n",
    "y_hat = model.w0 + linear_out + factor_out \n",
    "\n",
    "stop = time()\n",
    "print(f\"計算時間：　{stop-start:.2f}\")"
   ]
  },
  {
   "cell_type": "code",
   "execution_count": null,
   "id": "ca76beac-a6b4-44fc-a985-e75a2cc6bf3e",
   "metadata": {},
   "outputs": [],
   "source": []
  }
 ],
 "metadata": {
  "kernelspec": {
   "display_name": "Python 3 (ipykernel)",
   "language": "python",
   "name": "python3"
  },
  "language_info": {
   "codemirror_mode": {
    "name": "ipython",
    "version": 3
   },
   "file_extension": ".py",
   "mimetype": "text/x-python",
   "name": "python",
   "nbconvert_exporter": "python",
   "pygments_lexer": "ipython3",
   "version": "3.8.16"
  }
 },
 "nbformat": 4,
 "nbformat_minor": 5
}
