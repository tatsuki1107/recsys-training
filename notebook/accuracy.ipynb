{
 "cells": [
  {
   "cell_type": "markdown",
   "metadata": {},
   "source": [
    "# 嗜好予測の正確性"
   ]
  },
  {
   "cell_type": "code",
   "execution_count": 2,
   "metadata": {},
   "outputs": [],
   "source": [
    "import numpy as np\n",
    "\n",
    "# とりうる評価値の最大値\n",
    "R_MAX = 5\n",
    "# とりうる評価値の最小値\n",
    "R_MIN = 1\n",
    "\n",
    "# テストデータ\n",
    "R = np.array([\n",
    "              [np.nan, 4,      np.nan, np.nan, np.nan, np.nan, 2,      np.nan, np.nan, np.nan],\n",
    "              [np.nan, np.nan, np.nan, np.nan, 2,      np.nan, np.nan, np.nan, 5,      np.nan],\n",
    "              [np.nan, np.nan, np.nan, np.nan, np.nan, np.nan, np.nan, 3,      np.nan, np.nan],\n",
    "])\n",
    "U = np.arange(R.shape[0])\n",
    "I = np.arange(R.shape[1])\n",
    "\n",
    "# 推薦システムAによる予測評価値\n",
    "RA = np.array([\n",
    "               [np.nan, 2,      np.nan, np.nan, np.nan, np.nan, 2,      np.nan, np.nan, np.nan],\n",
    "               [np.nan, np.nan, np.nan, np.nan, 2,      np.nan, np.nan, np.nan, 3,      np.nan],\n",
    "               [np.nan, np.nan, np.nan, np.nan, np.nan, np.nan, np.nan, 3,      np.nan, np.nan],\n",
    "])\n",
    "\n",
    "# 推薦システムBによる予測評価値\n",
    "RB = np.array([\n",
    "               [np.nan, 3,      np.nan, np.nan, np.nan, np.nan, 1,      np.nan, np.nan, np.nan],\n",
    "               [np.nan, np.nan, np.nan, np.nan, 3,      np.nan, np.nan, np.nan, 4,      np.nan],\n",
    "               [np.nan, np.nan, np.nan, np.nan, np.nan, np.nan, np.nan, 4,      np.nan, np.nan],\n",
    "])"
   ]
  },
  {
   "cell_type": "markdown",
   "metadata": {},
   "source": [
    "# 平均絶対誤差 （MAE）"
   ]
  },
  {
   "cell_type": "code",
   "execution_count": 22,
   "metadata": {},
   "outputs": [
    {
     "name": "stdout",
     "output_type": "stream",
     "text": [
      "MAE_A = 0.800\n",
      "MAE_B = 1.000\n"
     ]
    }
   ],
   "source": [
    "# 問１\n",
    "MAE_A = np.nansum(np.abs([[RA[u,i]-R[u,i] for i in I] for u in U])) / np.count_nonzero(~np.isnan(R))\n",
    "print('MAE_{} = {:.3f}' .format('A', MAE_A))\n",
    "# 問２\n",
    "MAE_B = np.nansum(np.abs([[RB[u,i]-R[u,i] for i in I] for u in U])) / np.count_nonzero(~np.isnan(R))\n",
    "print('MAE_{} = {:.3f}' .format('B', MAE_B))"
   ]
  },
  {
   "cell_type": "markdown",
   "metadata": {},
   "source": [
    "# 平均二乗誤差 (MSE)"
   ]
  },
  {
   "cell_type": "code",
   "execution_count": 27,
   "metadata": {},
   "outputs": [
    {
     "name": "stdout",
     "output_type": "stream",
     "text": [
      "MSE_A = 1.600\n",
      "MSE_B = 1.000\n"
     ]
    }
   ],
   "source": [
    "# 問３\n",
    "MSE_A = np.nansum([[(RA[u,i]-R[u,i])**2 for i in I] for u in U]) / np.count_nonzero(~np.isnan(R))\n",
    "print('MSE_{} = {:.3f}'.format('A', MSE_A))\n",
    "# 問４\n",
    "MSE_B = np.nansum([[(RB[u,i]-R[u,i])**2 for i in I] for u in U]) / np.count_nonzero(~np.isnan(R))\n",
    "print('MSE_{} = {:.3f}'.format('B', MSE_B))\n"
   ]
  },
  {
   "cell_type": "markdown",
   "metadata": {},
   "source": [
    "# 二乗平方根誤差 (RMSE)"
   ]
  },
  {
   "cell_type": "code",
   "execution_count": 28,
   "metadata": {},
   "outputs": [
    {
     "name": "stdout",
     "output_type": "stream",
     "text": [
      "RMSE_A = 1.265\n",
      "RMSE_B = 1.000\n"
     ]
    }
   ],
   "source": [
    "# 問５\n",
    "RMSE_A = np.sqrt(MSE_A)\n",
    "print('RMSE_{} = {:.3f}'.format('A', RMSE_A))\n",
    "# 問６\n",
    "RMSE_B = np.sqrt(MSE_B)\n",
    "print('RMSE_{} = {:.3f}'.format('B', RMSE_B))"
   ]
  },
  {
   "cell_type": "code",
   "execution_count": null,
   "metadata": {},
   "outputs": [],
   "source": []
  }
 ],
 "metadata": {
  "kernelspec": {
   "display_name": "Python 3 (ipykernel)",
   "language": "python",
   "name": "python3"
  },
  "language_info": {
   "codemirror_mode": {
    "name": "ipython",
    "version": 3
   },
   "file_extension": ".py",
   "mimetype": "text/x-python",
   "name": "python",
   "nbconvert_exporter": "python",
   "pygments_lexer": "ipython3",
   "version": "3.8.16"
  }
 },
 "nbformat": 4,
 "nbformat_minor": 4
}
