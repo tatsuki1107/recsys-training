{
 "cells": [
  {
   "cell_type": "code",
   "execution_count": 76,
   "metadata": {},
   "outputs": [],
   "source": [
    "import numpy as np\n",
    "import numpy.linalg as LA\n",
    "\n",
    "# 縮約後の次元数\n",
    "DIM = 2\n",
    "\n",
    "# ある一人のuserの評価履歴\n",
    "Du = np.array([\n",
    "               [5, 3, 3, +1],\n",
    "               [6, 2, 5, +1],\n",
    "               [4, 1, 5, +1],\n",
    "               [8, 5, 9, -1],\n",
    "               [2, 4, 2, -1],\n",
    "               [3, 6, 5, -1],\n",
    "               [7, 6, 8, -1],\n",
    "               [4, 2, 3, np.nan],\n",
    "               [5, 1, 8, np.nan],\n",
    "               [8, 6, 6, np.nan],\n",
    "               [3, 4, 2, np.nan],\n",
    "               [4, 7, 5, np.nan],\n",
    "               [4, 4, 4, np.nan],\n",
    "])\n",
    "I = np.arange(Du.shape[0])\n",
    "x = Du[:,:-1]\n",
    "ru = Du[:,-1]"
   ]
  },
  {
   "cell_type": "markdown",
   "metadata": {},
   "source": [
    "# 分散共分散行列"
   ]
  },
  {
   "cell_type": "code",
   "execution_count": 77,
   "metadata": {},
   "outputs": [
    {
     "data": {
      "text/plain": [
       "array([4.846, 3.923, 5.   ])"
      ]
     },
     "execution_count": 77,
     "metadata": {},
     "output_type": "execute_result"
    }
   ],
   "source": [
    "xk_mean = np.mean(x, axis=0)\n",
    "np.round(xk_mean, decimals=3)"
   ]
  },
  {
   "cell_type": "code",
   "execution_count": 78,
   "metadata": {},
   "outputs": [
    {
     "data": {
      "text/plain": [
       "array([3.361, 3.763, 4.769])"
      ]
     },
     "execution_count": 78,
     "metadata": {},
     "output_type": "execute_result"
    }
   ],
   "source": [
    "s2 = np.var(x, axis=0)\n",
    "np.round(s2, decimals=3)"
   ]
  },
  {
   "cell_type": "code",
   "execution_count": 79,
   "metadata": {},
   "outputs": [],
   "source": [
    "# 特徴量インデックス\n",
    "K = np.arange(x.shape[1])"
   ]
  },
  {
   "cell_type": "code",
   "execution_count": 80,
   "metadata": {},
   "outputs": [],
   "source": [
    "x2 = np.zeros((x.shape[0], x.shape[1]))"
   ]
  },
  {
   "cell_type": "code",
   "execution_count": 81,
   "metadata": {},
   "outputs": [],
   "source": [
    "for k in K:\n",
    "    for i in I:\n",
    "        x2[i,k] = (x[i,k]-xk_mean[k])/np.sqrt(s2[k])\n",
    "x2 = np.round(x2, decimals=3)"
   ]
  },
  {
   "cell_type": "code",
   "execution_count": 82,
   "metadata": {},
   "outputs": [
    {
     "data": {
      "text/plain": [
       "array([[1.   , 0.191, 0.749],\n",
       "       [0.191, 1.   , 0.163],\n",
       "       [0.749, 0.163, 1.   ]])"
      ]
     },
     "execution_count": 82,
     "metadata": {},
     "output_type": "execute_result"
    }
   ],
   "source": [
    "# 分散共分散行列\n",
    "S = np.cov([x2[:,k] for k in K], bias=True)\n",
    "S = np.round(S, decimals=3)\n",
    "S"
   ]
  },
  {
   "cell_type": "markdown",
   "metadata": {},
   "source": [
    "# 固有値・固有ベクトル"
   ]
  },
  {
   "cell_type": "code",
   "execution_count": 83,
   "metadata": {},
   "outputs": [],
   "source": [
    "lmd, v = LA.eig(S)\n",
    "lmd = np.round(lmd, decimals=3)\n",
    "v = np.round(v, decimals=3)"
   ]
  },
  {
   "cell_type": "code",
   "execution_count": 84,
   "metadata": {},
   "outputs": [
    {
     "data": {
      "text/plain": [
       "array([1.825, 0.25 , 0.925])"
      ]
     },
     "execution_count": 84,
     "metadata": {},
     "output_type": "execute_result"
    }
   ],
   "source": [
    "# 固有値\n",
    "lmd"
   ]
  },
  {
   "cell_type": "code",
   "execution_count": 85,
   "metadata": {},
   "outputs": [
    {
     "data": {
      "text/plain": [
       "array([[-0.679, -0.71 ,  0.185],\n",
       "       [-0.29 ,  0.028, -0.956],\n",
       "       [-0.674,  0.704,  0.225]])"
      ]
     },
     "execution_count": 85,
     "metadata": {},
     "output_type": "execute_result"
    }
   ],
   "source": [
    "# 固有ベクトル\n",
    "v"
   ]
  },
  {
   "cell_type": "code",
   "execution_count": 86,
   "metadata": {},
   "outputs": [
    {
     "data": {
      "text/plain": [
       "array([0, 2, 1])"
      ]
     },
     "execution_count": 86,
     "metadata": {},
     "output_type": "execute_result"
    }
   ],
   "source": [
    "indices = np.argsort(-lmd)\n",
    "indices"
   ]
  },
  {
   "cell_type": "code",
   "execution_count": 87,
   "metadata": {},
   "outputs": [
    {
     "data": {
      "text/plain": [
       "array([1.825, 0.925, 0.25 ])"
      ]
     },
     "execution_count": 87,
     "metadata": {},
     "output_type": "execute_result"
    }
   ],
   "source": [
    "# 固有値・固有ベクトルの降順にソート\n",
    "lmd = lmd[indices]\n",
    "lmd"
   ]
  },
  {
   "cell_type": "code",
   "execution_count": 88,
   "metadata": {},
   "outputs": [
    {
     "data": {
      "text/plain": [
       "array([[-0.679,  0.185, -0.71 ],\n",
       "       [-0.29 , -0.956,  0.028],\n",
       "       [-0.674,  0.225,  0.704]])"
      ]
     },
     "execution_count": 88,
     "metadata": {},
     "output_type": "execute_result"
    }
   ],
   "source": [
    "v = v[:, indices]\n",
    "v"
   ]
  },
  {
   "cell_type": "code",
   "execution_count": 89,
   "metadata": {},
   "outputs": [
    {
     "data": {
      "text/plain": [
       "array([[-0.679,  0.185],\n",
       "       [-0.29 , -0.956],\n",
       "       [-0.674,  0.225]])"
      ]
     },
     "execution_count": 89,
     "metadata": {},
     "output_type": "execute_result"
    }
   ],
   "source": [
    "# 第D主成分までの固有ベクトル\n",
    "V = v[:, np.arange(DIM)]\n",
    "V"
   ]
  },
  {
   "cell_type": "code",
   "execution_count": 96,
   "metadata": {},
   "outputs": [
    {
     "data": {
      "text/plain": [
       "array([[ 0.698,  0.264],\n",
       "       [-0.14 ,  1.064],\n",
       "       [ 0.751,  1.355],\n",
       "       [-2.564,  0.2  ],\n",
       "       [ 1.968, -0.635],\n",
       "       [ 0.373, -1.21 ],\n",
       "       [-2.034, -0.497],\n",
       "       [ 1.218,  0.656],\n",
       "       [-0.546,  1.765],\n",
       "       [-1.787, -0.603],\n",
       "       [ 1.598, -0.534],\n",
       "       [-0.146, -1.602],\n",
       "       [ 0.611, -0.227]])"
      ]
     },
     "execution_count": 96,
     "metadata": {},
     "output_type": "execute_result"
    }
   ],
   "source": [
    "# 次元削減後の特徴ベクトル\n",
    "x3 = x2@V\n",
    "x3 = np.round(x3, decimals=3)\n",
    "x3"
   ]
  },
  {
   "cell_type": "markdown",
   "metadata": {},
   "source": [
    "# 寄与率"
   ]
  },
  {
   "cell_type": "code",
   "execution_count": 97,
   "metadata": {},
   "outputs": [
    {
     "data": {
      "text/plain": [
       "0.6083333333333333"
      ]
     },
     "execution_count": 97,
     "metadata": {},
     "output_type": "execute_result"
    }
   ],
   "source": [
    "# 第1主成分の寄与率\n",
    "k = 0\n",
    "pk = lmd[k] / np.sum(lmd)\n",
    "pk"
   ]
  },
  {
   "cell_type": "code",
   "execution_count": 98,
   "metadata": {},
   "outputs": [
    {
     "data": {
      "text/plain": [
       "0.9166666666666666"
      ]
     },
     "execution_count": 98,
     "metadata": {},
     "output_type": "execute_result"
    }
   ],
   "source": [
    "# 第２主成分までの累積寄与率\n",
    "k = 2\n",
    "ck = np.sum([lmd[i] for i in np.arange(k)]) / np.sum(lmd)\n",
    "ck"
   ]
  },
  {
   "cell_type": "markdown",
   "metadata": {},
   "source": [
    "# 次元削減後の評価履歴"
   ]
  },
  {
   "cell_type": "code",
   "execution_count": 111,
   "metadata": {},
   "outputs": [
    {
     "data": {
      "text/plain": [
       "array([[ 0.698,  0.264,  1.   ],\n",
       "       [-0.14 ,  1.064,  1.   ],\n",
       "       [ 0.751,  1.355,  1.   ],\n",
       "       [-2.564,  0.2  , -1.   ],\n",
       "       [ 1.968, -0.635, -1.   ],\n",
       "       [ 0.373, -1.21 , -1.   ],\n",
       "       [-2.034, -0.497, -1.   ],\n",
       "       [ 1.218,  0.656,    nan],\n",
       "       [-0.546,  1.765,    nan],\n",
       "       [-1.787, -0.603,    nan],\n",
       "       [ 1.598, -0.534,    nan],\n",
       "       [-0.146, -1.602,    nan],\n",
       "       [ 0.611, -0.227,    nan]])"
      ]
     },
     "execution_count": 111,
     "metadata": {},
     "output_type": "execute_result"
    }
   ],
   "source": [
    "Du2 = np.hstack((x3, ru.reshape((-1,1))))\n",
    "Du2"
   ]
  },
  {
   "cell_type": "code",
   "execution_count": null,
   "metadata": {},
   "outputs": [],
   "source": []
  }
 ],
 "metadata": {
  "kernelspec": {
   "display_name": "Python 3",
   "language": "python",
   "name": "python3"
  },
  "language_info": {
   "codemirror_mode": {
    "name": "ipython",
    "version": 3
   },
   "file_extension": ".py",
   "mimetype": "text/x-python",
   "name": "python",
   "nbconvert_exporter": "python",
   "pygments_lexer": "ipython3",
   "version": "3.7.4"
  }
 },
 "nbformat": 4,
 "nbformat_minor": 4
}
