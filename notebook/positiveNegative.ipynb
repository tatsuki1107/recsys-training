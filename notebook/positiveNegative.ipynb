{
 "cells": [
  {
   "cell_type": "markdown",
   "metadata": {},
   "source": [
    "# 好き嫌い分類に基づく評価指標"
   ]
  },
  {
   "cell_type": "code",
   "execution_count": 12,
   "metadata": {},
   "outputs": [],
   "source": [
    "import numpy as np\n",
    "\n",
    "# テストデータ\n",
    "R = np.array([\n",
    "              [5, 4,      3, np.nan, 5, 4,      2,      2,      np.nan, np.nan],\n",
    "])\n",
    "U = np.arange(R.shape[0])\n",
    "I = np.arange(R.shape[1])\n",
    "Iu = [I[~np.isnan(R)[u,:]] for u in U]\n",
    "\n",
    "# 推薦システムAによる推薦リスト\n",
    "RA = np.array([\n",
    "               [1, 6, 3, np.nan, 4, 2, 5, 7, np.nan, np.nan],\n",
    "])\n",
    "\n",
    "# 推薦システムBによる推薦リスト\n",
    "RB = np.array([\n",
    "               [4, 3, 1, np.nan, 6, 7, 2, 5, np.nan, np.nan],\n",
    "])"
   ]
  },
  {
   "cell_type": "markdown",
   "metadata": {},
   "source": [
    "# 混同行列"
   ]
  },
  {
   "cell_type": "code",
   "execution_count": 32,
   "metadata": {},
   "outputs": [],
   "source": [
    "def confusion_matrix(u, RS, K):\n",
    "    \"\"\"\n",
    "    ユーザu向け推薦リストRSの上位K件における混同行列の各値を返す。\n",
    "\n",
    "    Parameters\n",
    "    ----------\n",
    "    u : int\n",
    "        ユーザuのID\n",
    "    RS : ndarray\n",
    "        推薦リストRS\n",
    "    K : int\n",
    "        上位K件\n",
    "\n",
    "    Returns\n",
    "    -------\n",
    "    int\n",
    "        TP\n",
    "    int\n",
    "        FN\n",
    "    int\n",
    "        FP\n",
    "    int\n",
    "        TN\n",
    "    \"\"\"\n",
    "    # 問１\n",
    "    like = R[u,Iu[u]]>=4\n",
    "    print('like = {}'.format(like))\n",
    "    # 問２\n",
    "    recommended = RA[u,Iu[u]]<=K\n",
    "    print('recommended@{} = {}'.format(K, recommended))\n",
    "    # 問３\n",
    "    TP = np.count_nonzero(np.logical_and(like, recommended))\n",
    "    print('TP@{} = {}'.format(K, TP))\n",
    "    # 問４\n",
    "    FN = np.count_nonzero(np.logical_and(like, ~recommended))\n",
    "    print('FN@{} = {}'.format(K, FN))\n",
    "    # 問５\n",
    "    FP = np.count_nonzero(np.logical_and(~like, recommended))\n",
    "    print('FP@{} = {}'.format(K, FP))\n",
    "    TN = np.count_nonzero(np.logical_and(~like, ~recommended))\n",
    "    print('TN@{} = {}'.format(K, TN))\n",
    "    return TP, FN, FP, TN"
   ]
  },
  {
   "cell_type": "code",
   "execution_count": 33,
   "metadata": {},
   "outputs": [
    {
     "name": "stdout",
     "output_type": "stream",
     "text": [
      "like = [ True  True False  True  True False False]\n",
      "recommended@3 = [ True False  True False  True False False]\n",
      "TP@3 = 2\n",
      "FN@3 = 2\n",
      "FP@3 = 1\n",
      "TN@3 = 2\n",
      "混同行列 = \n",
      "[[2 2]\n",
      " [1 2]]\n"
     ]
    }
   ],
   "source": [
    "u = 0\n",
    "K = 3\n",
    "TP, FN, FP, TN = confusion_matrix(u, RA, K)\n",
    "print('混同行列 = \\n{}'.format(np.array([[TP, FN], [FP, TN]])))"
   ]
  },
  {
   "cell_type": "markdown",
   "metadata": {},
   "source": [
    "# 真陽性率と偽陽性率"
   ]
  },
  {
   "cell_type": "code",
   "execution_count": 34,
   "metadata": {},
   "outputs": [
    {
     "name": "stdout",
     "output_type": "stream",
     "text": [
      "TPR@3 = 0.500\n",
      "FPR@3 = 0.333\n"
     ]
    }
   ],
   "source": [
    "# 問７\n",
    "TPR = TP / (TP + FN)\n",
    "print('TPR@{} = {:.3f}'.format(K, TPR))\n",
    "# 問８\n",
    "FPR = FP / (FP + TN)\n",
    "print('FPR@{} = {:.3f}'.format(K, FPR))"
   ]
  },
  {
   "cell_type": "code",
   "execution_count": 35,
   "metadata": {},
   "outputs": [
    {
     "name": "stdout",
     "output_type": "stream",
     "text": [
      "precision@3 = 0.667\n",
      "recall@3 = 0.500\n",
      "F1@3 = 0.571\n"
     ]
    }
   ],
   "source": [
    "# 問９\n",
    "precision = TP / ( TP + FP )\n",
    "print('precision@{} = {:.3f}'.format(K, precision))\n",
    "# 問１０\n",
    "recall = TP / (TP + FN)\n",
    "print('recall@{} = {:.3f}'.format(K, recall))\n",
    "# 問１１\n",
    "F1 = 2*precision*recall/(precision+recall)\n",
    "print('F1@{} = {:.3f}'.format(K, F1))"
   ]
  },
  {
   "cell_type": "code",
   "execution_count": null,
   "metadata": {},
   "outputs": [],
   "source": []
  }
 ],
 "metadata": {
  "kernelspec": {
   "display_name": "Python 3 (ipykernel)",
   "language": "python",
   "name": "python3"
  },
  "language_info": {
   "codemirror_mode": {
    "name": "ipython",
    "version": 3
   },
   "file_extension": ".py",
   "mimetype": "text/x-python",
   "name": "python",
   "nbconvert_exporter": "python",
   "pygments_lexer": "ipython3",
   "version": "3.8.16"
  }
 },
 "nbformat": 4,
 "nbformat_minor": 4
}
